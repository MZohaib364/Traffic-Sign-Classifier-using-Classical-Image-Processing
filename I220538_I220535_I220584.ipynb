{
 "cells": [
  {
   "cell_type": "markdown",
   "id": "bf4387d2",
   "metadata": {},
   "source": [
    "# Libraries"
   ]
  },
  {
   "cell_type": "code",
   "execution_count": 1,
   "id": "97ce78f6",
   "metadata": {},
   "outputs": [],
   "source": [
    "import numpy as np\n",
    "import pandas as pd\n",
    "from PIL import Image"
   ]
  },
  {
   "cell_type": "code",
   "execution_count": 2,
   "id": "2bc2556a",
   "metadata": {},
   "outputs": [],
   "source": [
    "# def read_files (path):\n",
    "#     df = pd.read_csv (path) [['Path', 'ClassId']]\n",
    "#     unique_classes = df ['ClassId'].unique ()\n",
    "#     selected_classes = np.random.choice (unique_classes, size=8, replace=False)\n",
    "\n",
    "#     selected_data = pd.DataFrame ()\n",
    "#     for class_id in selected_classes:\n",
    "#         class_images = df [df ['ClassId'] == class_id].sample (n=100)\n",
    "#         selected_data = pd.concat ([selected_data, class_images], ignore_index=True)\n",
    "\n",
    "#     selected_data = selected_data.sample(frac=1, random_state=42).reset_index(drop=True)\n",
    "#     selected_data = selected_data.sort_values(by=['ClassId', 'Path']).reset_index(drop=True)\n",
    "\n",
    "#     return selected_data\n",
    "\n",
    "# read_files (\"Train.csv\").to_csv (\"train_use.csv\", index=False)"
   ]
  },
  {
   "cell_type": "markdown",
   "id": "d59ce03c",
   "metadata": {},
   "source": [
    "# Clip Function"
   ]
  },
  {
   "cell_type": "code",
   "execution_count": 3,
   "id": "73d6d94a",
   "metadata": {},
   "outputs": [],
   "source": [
    "def clip (image):\n",
    "    image [image < 0] = 0\n",
    "    image [image > 255] = 255\n",
    "\n",
    "    return image.astype (np.uint8)"
   ]
  },
  {
   "cell_type": "markdown",
   "id": "9ba1adf9",
   "metadata": {},
   "source": [
    "# Preprocessing and Filtering"
   ]
  },
  {
   "cell_type": "code",
   "execution_count": 4,
   "id": "58f576cb",
   "metadata": {},
   "outputs": [],
   "source": [
    "def mean_filter (image):\n",
    "    image = image.astype (np.float32)\n",
    "    padded = np.pad (image, ((1,1),(1,1)), mode = 'edge')\n",
    "    output = np.zeros_like (image)\n",
    "\n",
    "    for i in range (image.shape [0]):\n",
    "        for j in range (image.shape [1]):\n",
    "            region = padded [i:i+3, j:j+3]\n",
    "            output [i, j] = np.mean (region)\n",
    "\n",
    "    return clip (output).astype (np.uint8)"
   ]
  },
  {
   "cell_type": "code",
   "execution_count": 5,
   "id": "786a3e7c",
   "metadata": {},
   "outputs": [],
   "source": [
    "def gaussian_kernel ():\n",
    "    sigma = 1\n",
    "    size = 3\n",
    "\n",
    "    ax = np.linspace (-(size // 2), size // 2, size)\n",
    "    xx, yy = np.meshgrid (ax, ax)\n",
    "    kernel = np.exp (-(xx ** 2 + yy ** 2) / (2 * sigma ** 2))\n",
    "    kernel /= (2 * np.pi * sigma ** 2)\n",
    "    kernel /= np.sum (kernel)\n",
    "    return kernel\n",
    "\n",
    "def gaussian_filter (image):\n",
    "    image = image.astype (np.float32)\n",
    "    kernel = gaussian_kernel ()\n",
    "\n",
    "    a, b = image.shape\n",
    "    output = np.zeros_like (image)\n",
    "\n",
    "    for i in range (a):\n",
    "        for j in range (b):\n",
    "            sum = 0\n",
    "            for k in range (3):\n",
    "                for l in range (3):\n",
    "                    x = i + k - 1\n",
    "                    y = j + l - 1\n",
    "\n",
    "                    if 0 <= x < a and 0 <= y < b:\n",
    "                        sum += image [x, y] * kernel [k, l]\n",
    "            output [i, j] = sum\n",
    "\n",
    "    return clip (output).astype (np.uint8)"
   ]
  },
  {
   "cell_type": "code",
   "execution_count": 6,
   "id": "12146a98",
   "metadata": {},
   "outputs": [],
   "source": [
    "def median_filter (image):\n",
    "    image = image.astype (np.float32)\n",
    "    padded = np.pad (image, ((1,1), (1,1)), mode='edge')\n",
    "    output = np.zeros_like (image)\n",
    "\n",
    "    for i in range (image.shape [0]):\n",
    "        for j in range (image.shape [1]):\n",
    "            region = padded [i : i+3, j : j+3]\n",
    "            output [i, j] = np.median (region)\n",
    "\n",
    "    return clip (output).astype (np.uint8)"
   ]
  },
  {
   "cell_type": "code",
   "execution_count": 7,
   "id": "3a5a017a",
   "metadata": {},
   "outputs": [],
   "source": [
    "def adaptive_median_filter (image, max_size=7):\n",
    "    image = image.astype (np.float32)\n",
    "    output = image.copy ()\n",
    "    pad = max_size // 2\n",
    "    padded = np.pad (image, pad, mode='edge')\n",
    "\n",
    "    for i in range (image.shape[0]):\n",
    "        for j in range (image.shape[1]):\n",
    "            window_size = 3\n",
    "            while window_size <= max_size:\n",
    "                half = window_size // 2\n",
    "                region = padded [i + pad - half : i + pad + half + 1,\n",
    "                                j + pad - half : j + pad + half + 1]\n",
    "                z_min = np.min (region)\n",
    "                z_max = np.max (region)\n",
    "                z_med = np.median (region)\n",
    "                z_xy = padded [i + pad, j + pad]\n",
    "\n",
    "                A1 = z_med - z_min\n",
    "                A2 = z_med - z_max\n",
    "\n",
    "                if A1 > 0 and A2 < 0:\n",
    "                    B1 = z_xy - z_min\n",
    "                    B2 = z_xy - z_max\n",
    "                    if B1 > 0 and B2 < 0:\n",
    "                        output [i, j] = z_xy\n",
    "                    else:\n",
    "                        output [i, j] = z_med\n",
    "                    break\n",
    "                else:\n",
    "                    window_size += 2\n",
    "\n",
    "            if window_size > max_size:\n",
    "                output [i, j] = z_med\n",
    "\n",
    "    return clip (output).astype (np.uint8)\n"
   ]
  },
  {
   "cell_type": "code",
   "execution_count": 8,
   "id": "5c19c5ed",
   "metadata": {},
   "outputs": [],
   "source": [
    "def high_boost_filter (image, A=1.5):\n",
    "    image = image.astype (np.float32)\n",
    "    blurred = gaussian_filter (image)\n",
    "    mask = image - blurred\n",
    "    output = (A - 1) * image + mask\n",
    "    return clip (output).astype (np.uint8)"
   ]
  },
  {
   "cell_type": "markdown",
   "id": "0ec66b51",
   "metadata": {},
   "source": [
    "# Color Space Conversion and Segmentation"
   ]
  },
  {
   "cell_type": "code",
   "execution_count": 9,
   "id": "d78bf874",
   "metadata": {},
   "outputs": [],
   "source": [
    "# def rgb_to_hsv (image):\n",
    "#     image = image.astype (np.float32) / 255.0\n",
    "#     r, g, b = image [..., 0], image [..., 1], image [..., 2]\n",
    "#     c_max = np.max (image, axis=2)\n",
    "#     c_min = np.min (image, axis=2)\n",
    "#     delta = c_max - c_min\n",
    "\n",
    "#     h = np.zeros_like (c_max)\n",
    "#     s = np.zeros_like (c_max)\n",
    "#     v = c_max\n",
    "\n",
    "#     mask = delta != 0\n",
    "#     r_mask = (c_max == r) & mask\n",
    "#     g_mask = (c_max == g) & mask\n",
    "#     b_mask = (c_max == b) & mask\n",
    "\n",
    "#     h [r_mask] = (60 * (g [r_mask] - b [r_mask]) / delta [r_mask]) % 360\n",
    "#     h [g_mask] = (60 * (b [g_mask] - r [g_mask]) / delta [g_mask]) + 120\n",
    "#     h [b_mask] = (60 * (r [b_mask] - g [b_mask]) / delta [b_mask]) + 240\n",
    "\n",
    "#     h [~mask] = 0\n",
    "#     s [c_max != 0] = delta [c_max != 0] / c_max [c_max != 0]\n",
    "#     s [c_max == 0] = 0\n",
    "\n",
    "#     hsv = np.stack ([h, s, v], axis=2)\n",
    "#     return hsv\n",
    "\n",
    "def rgb_to_hsv(image):\n",
    "    image = image.astype(np.float32) / 255.0\n",
    "    r, g, b = image[..., 0], image[..., 1], image[..., 2]\n",
    "    c_max = np.max(image, axis=2)\n",
    "    c_min = np.min(image, axis=2)\n",
    "    delta = c_max - c_min\n",
    "\n",
    "    h = np.zeros_like(c_max)\n",
    "    s = np.zeros_like(c_max)\n",
    "    v = c_max\n",
    "\n",
    "    mask = delta != 0\n",
    "    r_mask = (c_max == r) & mask\n",
    "    g_mask = (c_max == g) & mask\n",
    "    b_mask = (c_max == b) & mask\n",
    "\n",
    "    h[r_mask] = (60 * (g[r_mask] - b[r_mask]) / delta[r_mask]) % 360\n",
    "    h[g_mask] = (60 * (b[g_mask] - r[g_mask]) / delta[g_mask]) + 120\n",
    "    h[b_mask] = (60 * (r[b_mask] - g[b_mask]) / delta[b_mask]) + 240\n",
    "\n",
    "    h[~mask] = 0\n",
    "    s[c_max != 0] = delta[c_max != 0] / c_max[c_max != 0]\n",
    "    s[c_max == 0] = 0\n",
    "\n",
    "    # Convert to OpenCV-style HSV format\n",
    "    h = (h / 2).clip(0, 180)           # Hue ∈ [0,180]\n",
    "    s = (s * 255).clip(0, 255)         # Saturation ∈ [0,255]\n",
    "    v = (v * 255).clip(0, 255)         # Value ∈ [0,255]\n",
    "\n",
    "    hsv = np.stack([h, s, v], axis=2).astype(np.uint8)\n",
    "    return hsv"
   ]
  },
  {
   "cell_type": "code",
   "execution_count": null,
   "id": "e6f27f92",
   "metadata": {},
   "outputs": [],
   "source": []
  },
  {
   "cell_type": "code",
   "execution_count": 10,
   "id": "707ec5e5",
   "metadata": {},
   "outputs": [],
   "source": [
    "def segment_red_blue (hsv):\n",
    "    h, s, v = hsv [..., 0], hsv [..., 1], hsv [..., 2]\n",
    "\n",
    "    red_mask1 = (h >= 0) & (h <= 15) & (s >= 100) & (v >= 80)\n",
    "    red_mask2 = (h >= 165) & (h <= 180) & (s >= 100) & (v >= 80)\n",
    "    red_mask = red_mask1 | red_mask2\n",
    "\n",
    "    blue_mask = (h >= 100) & (h <= 130) & (s >= 100) & (v >= 80)\n",
    "\n",
    "    mask = red_mask | blue_mask\n",
    "    return (mask * 255).astype (np.uint8)\n",
    "\n",
    "# def segment_red_blue(hsv):\n",
    "#     h, s, v = hsv[..., 0], hsv[..., 1], hsv[..., 2]\n",
    "\n",
    "#     # Normalize H from [0, 360] if needed (OpenCV uses 0–180)\n",
    "#     # Adjusted thresholds:\n",
    "#     # Hue: [0–10] or [170–180] for RED\n",
    "#     # Hue: [100–130] for BLUE\n",
    "#     # Sat/Val thresholds increased for more vivid colors\n",
    "    \n",
    "#     red_mask1 = (h >= 0) & (h <= 10) & (s >= 0.5) & (v >= 0.5)\n",
    "#     red_mask2 = (h >= 170) & (h <= 180) & (s >= 0.5) & (v >= 0.5)\n",
    "#     red_mask = red_mask1 | red_mask2\n",
    "\n",
    "#     blue_mask = (h >= 100) & (h <= 130) & (s >= 0.5) & (v >= 0.5)\n",
    "\n",
    "#     # Combine red and blue masks\n",
    "#     mask = red_mask | blue_mask\n",
    "\n",
    "#     return (mask * 255).astype(np.uint8)"
   ]
  },
  {
   "cell_type": "code",
   "execution_count": 11,
   "id": "e2796c21",
   "metadata": {},
   "outputs": [],
   "source": [
    "\n",
    "# def rgb_to_hsv(rgb):\n",
    "#     rgb = rgb.astype(float) / 255.0\n",
    "#     hsv = np.zeros_like(rgb)\n",
    "    \n",
    "#     r, g, b = rgb[:,:,0], rgb[:,:,1], rgb[:,:,2]\n",
    "#     maxc = np.maximum(np.maximum(r, g), b)\n",
    "#     minc = np.minimum(np.minimum(r, g), b)\n",
    "    \n",
    "#     hsv[:,:,2] = maxc\n",
    "#     mask = maxc != 0\n",
    "#     hsv[mask, 1] = (maxc - minc)[mask] / maxc[mask]\n",
    "    \n",
    "#     rc = np.zeros_like(r)\n",
    "#     gc = np.zeros_like(g)\n",
    "#     bc = np.zeros_like(b)\n",
    "    \n",
    "#     mask = maxc != minc\n",
    "#     rc[mask] = (maxc - r)[mask] / (maxc - minc)[mask]\n",
    "#     gc[mask] = (maxc - g)[mask] / (maxc - minc)[mask]\n",
    "#     bc[mask] = (maxc - b)[mask] / (maxc - minc)[mask]\n",
    "    \n",
    "#     h = np.zeros_like(r)\n",
    "    \n",
    "#     mask = (maxc == r) & (maxc != minc)\n",
    "#     h[mask] = bc[mask] - gc[mask]\n",
    "    \n",
    "#     mask = (maxc == g) & (maxc != minc)\n",
    "#     h[mask] = 2.0 + rc[mask] - bc[mask]\n",
    "    \n",
    "#     mask = (maxc == b) & (maxc != minc)\n",
    "#     h[mask] = 4.0 + gc[mask] - rc[mask]\n",
    "    \n",
    "#     h = h / 6.0\n",
    "#     mask = h < 0\n",
    "#     h[mask] += 1.0\n",
    "    \n",
    "#     hsv[:,:,0] = h * 180\n",
    "#     hsv[:,:,1] *= 255\n",
    "#     hsv[:,:,2] *= 255\n",
    "    \n",
    "#     return hsv.astype(np.uint8)\n",
    "\n",
    "# def segment_red_blue(hsv_img):\n",
    "#     h, s, v = hsv_img[:,:,0], hsv_img[:,:,1], hsv_img[:,:,2]\n",
    "    \n",
    "#     red_mask_low = (h <= 15) & (s >= 100) & (v >= 80)\n",
    "#     red_mask_high = (h >= 165) & (h <= 180) & (s >= 100) & (v >= 80)\n",
    "#     red_mask = red_mask_low | red_mask_high\n",
    "    \n",
    "#     blue_mask = (h >= 100) & (h <= 130) & (s >= 100) & (v >= 80)\n",
    "    \n",
    "#     mask = red_mask | blue_mask\n",
    "    \n",
    "#     if np.sum(red_mask) > np.sum(blue_mask):\n",
    "#         color = 'red'\n",
    "#     else:\n",
    "#         color = 'blue'\n",
    "    \n",
    "#     return mask\n"
   ]
  },
  {
   "cell_type": "code",
   "execution_count": 12,
   "id": "75f81a20",
   "metadata": {},
   "outputs": [],
   "source": [
    "def binary_threshold (image, threshold):\n",
    "    binary = np.zeros_like (image, dtype=np.uint8)\n",
    "    binary [image > threshold] = 255\n",
    "    return binary"
   ]
  },
  {
   "cell_type": "code",
   "execution_count": 13,
   "id": "50e17dec",
   "metadata": {},
   "outputs": [],
   "source": [
    "def erode (image, kernel_size=3):\n",
    "    pad = kernel_size // 2\n",
    "    padded = np.pad (image, pad, mode='edge')\n",
    "    output = np.zeros_like (image)\n",
    "\n",
    "    for i in range (image.shape [0]):\n",
    "        for j in range (image.shape [1]):\n",
    "            region = padded [i:i+kernel_size, j:j+kernel_size]\n",
    "            output [i, j] = np.min (region)\n",
    "    return output\n",
    "\n",
    "def dilate (image, kernel_size=3):\n",
    "    pad = kernel_size // 2\n",
    "    padded = np.pad (image, pad, mode='edge')\n",
    "    output = np.zeros_like (image)\n",
    "\n",
    "    for i in range (image.shape [0]):\n",
    "        for j in range (image.shape [1]):\n",
    "            region = padded [i:i+kernel_size, j:j+kernel_size]\n",
    "            output [i, j] = np.max (region)\n",
    "    return output\n",
    "\n",
    "def opening (image, kernel_size=3):\n",
    "    return dilate (erode (image, kernel_size), kernel_size)\n"
   ]
  },
  {
   "cell_type": "code",
   "execution_count": 14,
   "id": "0e69fcd4",
   "metadata": {},
   "outputs": [],
   "source": [
    "def connected_component_filtering (binary_image, area_threshold):\n",
    "    h, w = binary_image.shape\n",
    "    labels = np.zeros_like (binary_image, dtype=np.int32)\n",
    "    output = np.zeros_like (binary_image)\n",
    "    label = 1\n",
    "\n",
    "    for i in range (h):\n",
    "        for j in range (w):\n",
    "            if binary_image [i, j] == 255 and labels [i, j] == 0:\n",
    "                stack = [(i, j)]\n",
    "                component = []\n",
    "\n",
    "                while stack:\n",
    "                    x, y = stack.pop ()\n",
    "                    if (0 <= x < h) and (0 <= y < w):\n",
    "                        if binary_image [x, y] == 255 and labels [x, y] == 0:\n",
    "                            labels [x, y] = label\n",
    "                            component.append ((x, y))\n",
    "                            stack.extend ([(x+1,y), (x-1,y), (x,y+1), (x,y-1)])\n",
    "\n",
    "                if len (component) >= area_threshold:\n",
    "                    for (x, y) in component:\n",
    "                        output [x, y] = 255\n",
    "\n",
    "                label += 1\n",
    "\n",
    "    return output\n"
   ]
  },
  {
   "cell_type": "code",
   "execution_count": 15,
   "id": "c421cc53",
   "metadata": {},
   "outputs": [],
   "source": [
    "def fill_holes (binary_image):\n",
    "    h, w = binary_image.shape\n",
    "    visited = np.zeros_like (binary_image, dtype=bool)\n",
    "    filled = binary_image.copy ()\n",
    "\n",
    "    stack = []\n",
    "    for i in range (h):\n",
    "        if filled [i, 0] == 0:\n",
    "            stack.append ((i, 0))\n",
    "        if filled [i, w - 1] == 0:\n",
    "            stack.append ((i, w - 1))\n",
    "    for j in range (w):\n",
    "        if filled [0, j] == 0:\n",
    "            stack.append ((0, j))\n",
    "        if filled [h - 1, j] == 0:\n",
    "            stack.append ((h - 1, j))\n",
    "\n",
    "    while stack:\n",
    "        x, y = stack.pop ()\n",
    "        if 0 <= x < h and 0 <= y < w:\n",
    "            if filled [x, y] == 0 and not visited[x, y]:\n",
    "                visited [x, y] = True\n",
    "                stack.extend ([(x+1,y), (x-1,y), (x,y+1), (x,y-1)])\n",
    "\n",
    "    for i in range (h):\n",
    "        for j in range (w):\n",
    "            if not visited [i, j] and filled [i, j] == 0:\n",
    "                filled [i, j] = 255\n",
    "\n",
    "    return filled\n"
   ]
  },
  {
   "cell_type": "markdown",
   "id": "61d5e2b5",
   "metadata": {},
   "source": [
    "# Edge Detection"
   ]
  },
  {
   "cell_type": "code",
   "execution_count": 16,
   "id": "beb03506",
   "metadata": {},
   "outputs": [],
   "source": [
    "def sobel_gradients (image):\n",
    "\n",
    "    Kx = np.array ([[-1, 0, 1],\n",
    "                   [-2, 0, 2],\n",
    "                   [-1, 0, 1]], dtype=np.float32)\n",
    "    Ky = np.array ([[1, 2, 1],\n",
    "                   [0, 0, 0],\n",
    "                   [-1, -2, -1]], dtype=np.float32)\n",
    "\n",
    "    pad = 1\n",
    "    padded = np.pad (image, pad, mode='reflect')\n",
    "    Gx = np.zeros_like (image, dtype=np.float32)\n",
    "    Gy = np.zeros_like (image, dtype=np.float32)\n",
    "\n",
    "    for i in range (image.shape[0]):\n",
    "        for j in range (image.shape[1]):\n",
    "            region = padded [i:i+3, j:j+3]\n",
    "            Gx [i, j] = np.sum (region * Kx)\n",
    "            Gy [i, j] = np.sum (region * Ky)\n",
    "\n",
    "    magnitude = np.sqrt (Gx**2 + Gy**2)\n",
    "    direction = np.arctan2 (Gy, Gx)\n",
    "    \n",
    "    return magnitude, direction"
   ]
  },
  {
   "cell_type": "code",
   "execution_count": 17,
   "id": "3e9b91f9",
   "metadata": {},
   "outputs": [],
   "source": [
    "def non_max_suppression (magnitude, direction):\n",
    "    h, w = magnitude.shape\n",
    "    output = np.zeros ((h, w), dtype=np.float32)\n",
    "    angle = np.rad2deg (direction) % 180\n",
    "\n",
    "    for i in range (1, h-1):\n",
    "        for j in range (1, w-1):\n",
    "            q, r = 255, 255\n",
    "\n",
    "            if (0 <= angle [i,j] < 22.5) or (157.5 <= angle [i,j] <= 180):\n",
    "                q = magnitude [i, j+1]\n",
    "                r = magnitude [i, j-1]\n",
    "\n",
    "            elif 22.5 <= angle [i,j] < 67.5:\n",
    "                q = magnitude [i+1, j-1]\n",
    "                r = magnitude [i-1, j+1]\n",
    "            \n",
    "            elif 67.5 <= angle [i,j] < 112.5:\n",
    "                q = magnitude [i+1, j]\n",
    "                r = magnitude [i-1, j]\n",
    "            \n",
    "            elif 112.5 <= angle [i,j] < 157.5:\n",
    "                q = magnitude [i-1, j-1]\n",
    "                r = magnitude [i+1, j+1]\n",
    "\n",
    "            if magnitude [i,j] >= q and magnitude [i,j] >= r:\n",
    "                output [i,j] = magnitude [i,j]\n",
    "            else:\n",
    "                output [i,j] = 0\n",
    "\n",
    "    return output"
   ]
  },
  {
   "cell_type": "code",
   "execution_count": 18,
   "id": "0a89500a",
   "metadata": {},
   "outputs": [],
   "source": [
    "def double_thresholding (img, low_thresh_ratio=0.05, high_thresh_ratio=0.15):\n",
    "    high_thresh = img.max () * high_thresh_ratio\n",
    "    low_thresh = high_thresh * low_thresh_ratio\n",
    "\n",
    "    strong = 255\n",
    "    weak = 75\n",
    "\n",
    "    result = np.zeros_like (img, dtype=np.uint8)\n",
    "\n",
    "    strong_i, strong_j = np.where (img >= high_thresh)\n",
    "    weak_i, weak_j = np.where ((img <= high_thresh) & (img >= low_thresh))\n",
    "\n",
    "    result [strong_i, strong_j] = strong\n",
    "    result [weak_i, weak_j] = weak\n",
    "\n",
    "    return result, weak, strong"
   ]
  },
  {
   "cell_type": "code",
   "execution_count": 19,
   "id": "240da195",
   "metadata": {},
   "outputs": [],
   "source": [
    "def edge_tracking_by_hysteresis (img, weak, strong=255):\n",
    "    h, w = img.shape\n",
    "    for i in range (1, h-1):\n",
    "        for j in range (1, w-1):\n",
    "            if img [i,j] == weak:\n",
    "                if ((img [i+1, j-1] == strong) or (img [i+1, j] == strong) or (img [i+1, j+1] == strong)\n",
    "                    or (img [i, j-1] == strong) or (img [i, j+1] == strong)\n",
    "                    or (img [i-1, j-1] == strong) or (img [i-1, j] == strong) or (img [i-1, j+1] == strong)):\n",
    "                    img [i, j] = strong\n",
    "                else:\n",
    "                    img [i, j] = 0\n",
    "    return img"
   ]
  },
  {
   "cell_type": "markdown",
   "id": "b41abf39",
   "metadata": {},
   "source": [
    "# Geometric Normalization"
   ]
  },
  {
   "cell_type": "code",
   "execution_count": 20,
   "id": "aa7a0de0",
   "metadata": {},
   "outputs": [],
   "source": [
    "def rotate_image (image, angle_deg):\n",
    "    angle_rad = np.deg2rad (angle_deg)\n",
    "    h, w = image.shape [:2]\n",
    "    center = np.array ([w / 2, h / 2])\n",
    "\n",
    "    R = np.array ([\n",
    "        [np.cos (angle_rad), -np.sin (angle_rad)],\n",
    "        [np.sin (angle_rad),  np.cos (angle_rad)]\n",
    "    ])\n",
    "\n",
    "    coords_y, coords_x = np.meshgrid (np.arange (h), np.arange (w), indexing='ij')\n",
    "    coords = np.stack ([coords_x.ravel (), coords_y.ravel ()], axis=1)\n",
    "\n",
    "    shifted = coords - center\n",
    "    rotated = shifted @ R.T + center\n",
    "    rotated = rotated.round ().astype (int)\n",
    "\n",
    "    output = np.zeros_like (image)\n",
    "    for i, (x_new, y_new) in enumerate (rotated):\n",
    "        x_old, y_old = coords [i]\n",
    "        if 0 <= y_new < h and 0 <= x_new < w:\n",
    "            output [y_new, x_new] = image [y_old, x_old]\n",
    "    return output"
   ]
  },
  {
   "cell_type": "code",
   "execution_count": 21,
   "id": "d4617472",
   "metadata": {},
   "outputs": [],
   "source": [
    "def scale_image (image, size=(200, 200)):\n",
    "    h, w = image.shape [:2]\n",
    "    new_h, new_w = size\n",
    "    scale_y, scale_x = h / new_h, w / new_w\n",
    "\n",
    "    y_indices = (np.arange (new_h) * scale_y).astype (int)\n",
    "    x_indices = (np.arange (new_w) * scale_x).astype (int)\n",
    "    \n",
    "    return image [y_indices [:, None], x_indices]"
   ]
  },
  {
   "cell_type": "code",
   "execution_count": 22,
   "id": "2b3c3215",
   "metadata": {},
   "outputs": [],
   "source": [
    "def perspective_transform_numpy (image, src_pts, dst_pts, output_size=(200, 200)):\n",
    "    \n",
    "    def compute_homography (src, dst):\n",
    "        A = []\n",
    "        for (x, y), (u, v) in zip (src, dst):\n",
    "            A.append ([-x, -y, -1, 0, 0, 0, x*u, y*u, u])\n",
    "            A.append ([0, 0, 0, -x, -y, -1, x*v, y*v, v])\n",
    "        A = np.array (A)\n",
    "        _, _, Vt = np.linalg.svd (A)\n",
    "        H = Vt [-1].reshape ((3, 3))\n",
    "        return H / H [-1, -1]\n",
    "\n",
    "    src = np.array (src_pts, dtype=np.float32)\n",
    "    dst = np.array (dst_pts, dtype=np.float32)\n",
    "    H = compute_homography (src, dst)\n",
    "\n",
    "    output_h, output_w = output_size\n",
    "    output = np.zeros ((output_h, output_w), dtype=image.dtype)\n",
    "\n",
    "    for i in range (output_h):\n",
    "        for j in range (output_w):\n",
    "            target_coords = np.array ([j, i, 1])\n",
    "            source_coords = np.linalg.inv (H) @ target_coords\n",
    "            source_coords /= source_coords [2]\n",
    "            x, y = int (round (source_coords [0])), int (round (source_coords [1]))\n",
    "            if 0 <= y < image.shape [0] and 0 <= x < image.shape [1]:\n",
    "                output [i, j] = image [y, x]\n",
    "\n",
    "    return output"
   ]
  },
  {
   "cell_type": "markdown",
   "id": "9b3bdea2",
   "metadata": {},
   "source": [
    "# Feature Extraction"
   ]
  },
  {
   "cell_type": "code",
   "execution_count": 23,
   "id": "3f4ee38e",
   "metadata": {},
   "outputs": [],
   "source": [
    "# def convolve2d (image, kernel):\n",
    "#     kh, kw = kernel.shape\n",
    "#     pad_h, pad_w = kh // 2, kw // 2\n",
    "#     padded = np.pad (image, ((pad_h, pad_h), (pad_w, pad_w)), mode='reflect')\n",
    "#     output = np.zeros_like (image, dtype=float)\n",
    "\n",
    "#     for i in range (image.shape [0]):\n",
    "#         for j in range (image.shape [1]):\n",
    "#             region = padded [i:i+kh, j:j+kw]\n",
    "#             output [i, j] = np.sum (region * kernel)\n",
    "#     return output\n",
    "\n",
    "# def harris_corner_count (gray, k=0.04, threshold_ratio=0.01):\n",
    "#     sobel_x = np.array ([[-1, 0, 1], [-2, 0, 2], [-1, 0, 1]])\n",
    "#     sobel_y = np.array ([[1, 2, 1], [0, 0, 0], [-1, -2, -1]])\n",
    "\n",
    "#     Ix = convolve2d (gray, sobel_x)\n",
    "#     Iy = convolve2d (gray, sobel_y)\n",
    "\n",
    "#     Ixx = Ix * Ix\n",
    "#     Iyy = Iy * Iy\n",
    "#     Ixy = Ix * Iy\n",
    "\n",
    "#     kernel = np.array ([[1, 2, 1], [2, 4, 2], [1, 2, 1]]) / 16\n",
    "\n",
    "#     Sxx = convolve2d (Ixx, kernel)\n",
    "#     Syy = convolve2d (Iyy, kernel)\n",
    "#     Sxy = convolve2d (Ixy, kernel)\n",
    "\n",
    "#     detM = Sxx * Syy - Sxy ** 2\n",
    "#     traceM = Sxx + Syy\n",
    "#     R = detM - k * (traceM ** 2)\n",
    "\n",
    "#     threshold = threshold_ratio * np.max (R)\n",
    "#     corners = (R > threshold)\n",
    "#     return np.sum (corners)\n",
    "\n",
    "# def compute_perimeter (binary_mask):\n",
    "#     eroded = np.zeros_like (binary_mask)\n",
    "#     for i in range (1, binary_mask.shape [0]-1):\n",
    "#         for j in range (1, binary_mask.shape[1]-1):\n",
    "#             if binary_mask [i, j] == 1 and np.all (binary_mask [i-1:i+2, j-1:j+2] == 1):\n",
    "#                 eroded [i, j] = 1\n",
    "#     perimeter = np.sum (binary_mask) - np.sum (eroded)\n",
    "#     return perimeter\n",
    "\n",
    "# def extract_features (normalized_rgb, binary_mask, normalized_hsv):\n",
    "#     gray = np.mean (normalized_rgb, axis=2).astype (np.float32)\n",
    "\n",
    "#     # 1. Corner Count\n",
    "#     corners = harris_corner_count (gray)\n",
    "\n",
    "#     # 2. Circularity\n",
    "#     area = np.sum (binary_mask)\n",
    "#     perimeter = compute_perimeter (binary_mask)\n",
    "#     circularity = (4 * np.pi * area) / (perimeter ** 2) if perimeter != 0 else 0\n",
    "\n",
    "#     # 3. Bounding box and Aspect Ratio\n",
    "#     ys, xs = np.where (binary_mask == 1)\n",
    "#     if len (xs) == 0 or len (ys) == 0:\n",
    "#         aspect_ratio = 0\n",
    "#         extent = 0\n",
    "#     else:\n",
    "#         width = xs.max () - xs.min () + 1\n",
    "#         height = ys.max () - ys.min () + 1\n",
    "#         aspect_ratio = width / height if height != 0 else 0\n",
    "\n",
    "#         # 4. Extent\n",
    "#         bbox_area = width * height\n",
    "#         extent = area / bbox_area if bbox_area != 0 else 0\n",
    "\n",
    "#     # 5. Average Hue\n",
    "#     hue = normalized_hsv [..., 0]\n",
    "#     avg_hue = np.mean (hue [binary_mask == 1]) if np.any (binary_mask == 1) else 0\n",
    "\n",
    "#     return {\n",
    "#         \"corner_count\": int (corners),\n",
    "#         \"circularity\": float (circularity),\n",
    "#         \"aspect_ratio\": float (aspect_ratio),\n",
    "#         \"extent\": float (extent),\n",
    "#         \"average_hue\": float (avg_hue)\n",
    "#     }\n"
   ]
  },
  {
   "cell_type": "code",
   "execution_count": 24,
   "id": "9797813f",
   "metadata": {},
   "outputs": [],
   "source": [
    "def convolve2d(image, kernel):\n",
    "    \"\"\"\n",
    "    Perform 2D convolution of image with kernel\n",
    "    \"\"\"\n",
    "    kh, kw = kernel.shape\n",
    "    pad_h, pad_w = kh // 2, kw // 2\n",
    "    padded = np.pad(image, ((pad_h, pad_h), (pad_w, pad_w)), mode='reflect')\n",
    "    output = np.zeros_like(image, dtype=float)\n",
    "\n",
    "    for i in range(image.shape[0]):\n",
    "        for j in range(image.shape[1]):\n",
    "            region = padded[i:i+kh, j:j+kw]\n",
    "            output[i, j] = np.sum(region * kernel)\n",
    "    return output\n",
    "\n",
    "def harris_corner_count(gray, k=0.04, threshold_ratio=0.01, window_size=3):\n",
    "    \"\"\"\n",
    "    Detect corners using Harris corner detection and return the count\n",
    "    \n",
    "    Args:\n",
    "        gray: Grayscale image\n",
    "        k: Harris detector free parameter (typically 0.04-0.06)\n",
    "        threshold_ratio: Threshold as a fraction of maximum response\n",
    "        window_size: Size of the window for gradient covariance calculation\n",
    "        \n",
    "    Returns:\n",
    "        Number of detected corners\n",
    "    \"\"\"\n",
    "    # Convert to float32 if not already\n",
    "    gray = gray.astype(np.float32)\n",
    "    \n",
    "    # Compute gradients\n",
    "    sobel_x = np.array([[-1, 0, 1], [-2, 0, 2], [-1, 0, 1]])\n",
    "    sobel_y = np.array([[1, 2, 1], [0, 0, 0], [-1, -2, -1]])\n",
    "\n",
    "    Ix = convolve2d(gray, sobel_x)\n",
    "    Iy = convolve2d(gray, sobel_y)\n",
    "\n",
    "    # Compute products of derivatives\n",
    "    Ixx = Ix * Ix\n",
    "    Iyy = Iy * Iy\n",
    "    Ixy = Ix * Iy\n",
    "\n",
    "    # Generate Gaussian kernel for weighted summation\n",
    "    if window_size == 3:\n",
    "        kernel = np.array([[1, 2, 1], [2, 4, 2], [1, 2, 1]]) / 16\n",
    "    else:\n",
    "        # Create a Gaussian kernel based on window_size\n",
    "        sigma = 0.3 * ((window_size - 1) * 0.5 - 1) + 0.8\n",
    "        x = np.arange(-(window_size // 2), window_size // 2 + 1)\n",
    "        y = np.arange(-(window_size // 2), window_size // 2 + 1)\n",
    "        X, Y = np.meshgrid(x, y)\n",
    "        kernel = np.exp(-(X**2 + Y**2) / (2 * sigma**2))\n",
    "        kernel = kernel / np.sum(kernel)\n",
    "\n",
    "    # Compute weighted sums\n",
    "    Sxx = convolve2d(Ixx, kernel)\n",
    "    Syy = convolve2d(Iyy, kernel)\n",
    "    Sxy = convolve2d(Ixy, kernel)\n",
    "\n",
    "    # Compute corner response\n",
    "    detM = Sxx * Syy - Sxy**2\n",
    "    traceM = Sxx + Syy\n",
    "    R = detM - k * (traceM**2)\n",
    "\n",
    "    # Threshold and count corners\n",
    "    threshold = threshold_ratio * np.max(R)\n",
    "    corners = (R > threshold)\n",
    "    return np.sum(corners)\n",
    "\n",
    "def compute_perimeter(binary_mask):\n",
    "    \"\"\"\n",
    "    Compute perimeter of shapes in binary mask\n",
    "    \n",
    "    Args:\n",
    "        binary_mask: Binary image (0 for background, non-zero for foreground)\n",
    "        \n",
    "    Returns:\n",
    "        Perimeter length\n",
    "    \"\"\"\n",
    "    # Ensure binary_mask is binary (0 and 1)\n",
    "    binary = (binary_mask > 0).astype(np.uint8)\n",
    "    \n",
    "    # A pixel is on the boundary if it's 1 and has at least one 0 neighbor\n",
    "    kernel = np.ones((3, 3), dtype=np.uint8)\n",
    "    kernel[1, 1] = 0  # Center element is 0\n",
    "    \n",
    "    # Dilate and subtract to find boundary\n",
    "    dilated = np.zeros_like(binary)\n",
    "    for i in range(1, binary.shape[0]-1):\n",
    "        for j in range(1, binary.shape[1]-1):\n",
    "            if np.any(binary[i-1:i+2, j-1:j+2] * kernel > 0):\n",
    "                dilated[i, j] = 1\n",
    "    \n",
    "    boundary = np.logical_and(dilated, binary)\n",
    "    return np.sum(boundary)\n",
    "\n",
    "def extract_features(normalized_rgb, binary_mask, normalized_hsv):\n",
    "    \"\"\"\n",
    "    Extract features from processed image\n",
    "    \n",
    "    Args:\n",
    "        normalized_rgb: RGB image normalized to standard size\n",
    "        binary_mask: Binary mask of the segmented sign\n",
    "        normalized_hsv: HSV version of the normalized image\n",
    "        \n",
    "    Returns:\n",
    "        Dictionary of extracted features\n",
    "    \"\"\"\n",
    "    # Convert to proper format\n",
    "    if normalized_rgb.dtype != np.float32:\n",
    "        gray = np.mean(normalized_rgb, axis=2).astype(np.float32)\n",
    "    else:\n",
    "        gray = np.mean(normalized_rgb, axis=2)\n",
    "    \n",
    "    # Ensure binary_mask is binary (0 and 1)\n",
    "    binary = (binary_mask > 0).astype(np.uint8)\n",
    "    \n",
    "    # 1. Corner Count\n",
    "    corners = harris_corner_count(gray)\n",
    "    \n",
    "    # 2. Circularity\n",
    "    area = np.sum(binary)\n",
    "    perimeter = compute_perimeter(binary)\n",
    "    circularity = (4 * np.pi * area) / (perimeter**2) if perimeter > 0 else 0\n",
    "    \n",
    "    # 3. Bounding box and Aspect Ratio\n",
    "    ys, xs = np.where(binary == 1)\n",
    "    if len(xs) == 0 or len(ys) == 0:\n",
    "        aspect_ratio = 0\n",
    "        extent = 0\n",
    "    else:\n",
    "        x_min, x_max = xs.min(), xs.max()\n",
    "        y_min, y_max = ys.min(), ys.max()\n",
    "        width = x_max - x_min + 1\n",
    "        height = y_max - y_min + 1\n",
    "        aspect_ratio = width / height if height > 0 else 0\n",
    "        \n",
    "        # 4. Extent\n",
    "        bbox_area = width * height\n",
    "        extent = area / bbox_area if bbox_area > 0 else 0\n",
    "    \n",
    "    # 5. Average Hue\n",
    "    # Handle different possible HSV formats\n",
    "    if len(normalized_hsv.shape) == 3 and normalized_hsv.shape[2] >= 3:\n",
    "        hue = normalized_hsv[:, :, 0]  # Standard HSV format\n",
    "    elif len(normalized_hsv.shape) == 3 and normalized_hsv.shape[0] == 3:\n",
    "        hue = normalized_hsv[0, :, :]  # Channel-first format\n",
    "    else:\n",
    "        hue = normalized_hsv  # Assume it's already the hue channel\n",
    "    \n",
    "    # Calculate average hue where mask is active\n",
    "    if np.any(binary):\n",
    "        avg_hue = np.mean(hue[binary == 1])\n",
    "    else:\n",
    "        avg_hue = 0\n",
    "    \n",
    "    return {\n",
    "        \"corner_count\": int(corners),\n",
    "        \"circularity\": float(circularity),\n",
    "        \"aspect_ratio\": float(aspect_ratio),\n",
    "        \"extent\": float(extent),\n",
    "        \"average_hue\": float(avg_hue)\n",
    "    }"
   ]
  },
  {
   "cell_type": "markdown",
   "id": "03c50994",
   "metadata": {},
   "source": [
    "# Image Reading and Training"
   ]
  },
  {
   "cell_type": "code",
   "execution_count": 25,
   "id": "527c5002",
   "metadata": {},
   "outputs": [],
   "source": [
    "import pandas as pd\n",
    "import os\n",
    "from PIL import Image\n",
    "import numpy as np\n",
    "\n",
    "# Load CSV\n",
    "df = pd.read_csv('dataset/Train.csv')\n",
    "\n",
    "# Select N classes (example: 6 classes)\n",
    "selected_classes = [0, 1, 2, 3, 4, 5, 6]\n",
    "subset_df = df[df['ClassId'].isin(selected_classes)]\n"
   ]
  },
  {
   "cell_type": "code",
   "execution_count": 26,
   "id": "e52e675b",
   "metadata": {},
   "outputs": [
    {
     "data": {
      "text/html": [
       "<div>\n",
       "<style scoped>\n",
       "    .dataframe tbody tr th:only-of-type {\n",
       "        vertical-align: middle;\n",
       "    }\n",
       "\n",
       "    .dataframe tbody tr th {\n",
       "        vertical-align: top;\n",
       "    }\n",
       "\n",
       "    .dataframe thead th {\n",
       "        text-align: right;\n",
       "    }\n",
       "</style>\n",
       "<table border=\"1\" class=\"dataframe\">\n",
       "  <thead>\n",
       "    <tr style=\"text-align: right;\">\n",
       "      <th></th>\n",
       "      <th>Width</th>\n",
       "      <th>Height</th>\n",
       "      <th>Roi.X1</th>\n",
       "      <th>Roi.Y1</th>\n",
       "      <th>Roi.X2</th>\n",
       "      <th>Roi.Y2</th>\n",
       "      <th>ClassId</th>\n",
       "      <th>Path</th>\n",
       "    </tr>\n",
       "  </thead>\n",
       "  <tbody>\n",
       "    <tr>\n",
       "      <th>0</th>\n",
       "      <td>29</td>\n",
       "      <td>30</td>\n",
       "      <td>6</td>\n",
       "      <td>6</td>\n",
       "      <td>24</td>\n",
       "      <td>25</td>\n",
       "      <td>0</td>\n",
       "      <td>Train/0/00000_00001_00000.png</td>\n",
       "    </tr>\n",
       "    <tr>\n",
       "      <th>1</th>\n",
       "      <td>56</td>\n",
       "      <td>54</td>\n",
       "      <td>5</td>\n",
       "      <td>5</td>\n",
       "      <td>50</td>\n",
       "      <td>49</td>\n",
       "      <td>0</td>\n",
       "      <td>Train/0/00000_00005_00022.png</td>\n",
       "    </tr>\n",
       "    <tr>\n",
       "      <th>2</th>\n",
       "      <td>69</td>\n",
       "      <td>70</td>\n",
       "      <td>7</td>\n",
       "      <td>6</td>\n",
       "      <td>63</td>\n",
       "      <td>64</td>\n",
       "      <td>0</td>\n",
       "      <td>Train/0/00000_00002_00024.png</td>\n",
       "    </tr>\n",
       "    <tr>\n",
       "      <th>3</th>\n",
       "      <td>60</td>\n",
       "      <td>64</td>\n",
       "      <td>5</td>\n",
       "      <td>6</td>\n",
       "      <td>55</td>\n",
       "      <td>59</td>\n",
       "      <td>0</td>\n",
       "      <td>Train/0/00000_00006_00019.png</td>\n",
       "    </tr>\n",
       "    <tr>\n",
       "      <th>4</th>\n",
       "      <td>27</td>\n",
       "      <td>26</td>\n",
       "      <td>6</td>\n",
       "      <td>5</td>\n",
       "      <td>22</td>\n",
       "      <td>21</td>\n",
       "      <td>0</td>\n",
       "      <td>Train/0/00000_00002_00000.png</td>\n",
       "    </tr>\n",
       "    <tr>\n",
       "      <th>...</th>\n",
       "      <td>...</td>\n",
       "      <td>...</td>\n",
       "      <td>...</td>\n",
       "      <td>...</td>\n",
       "      <td>...</td>\n",
       "      <td>...</td>\n",
       "      <td>...</td>\n",
       "      <td>...</td>\n",
       "    </tr>\n",
       "    <tr>\n",
       "      <th>695</th>\n",
       "      <td>32</td>\n",
       "      <td>33</td>\n",
       "      <td>5</td>\n",
       "      <td>5</td>\n",
       "      <td>27</td>\n",
       "      <td>28</td>\n",
       "      <td>6</td>\n",
       "      <td>Train/6/00006_00000_00005.png</td>\n",
       "    </tr>\n",
       "    <tr>\n",
       "      <th>696</th>\n",
       "      <td>39</td>\n",
       "      <td>41</td>\n",
       "      <td>5</td>\n",
       "      <td>6</td>\n",
       "      <td>34</td>\n",
       "      <td>36</td>\n",
       "      <td>6</td>\n",
       "      <td>Train/6/00006_00001_00015.png</td>\n",
       "    </tr>\n",
       "    <tr>\n",
       "      <th>697</th>\n",
       "      <td>33</td>\n",
       "      <td>34</td>\n",
       "      <td>6</td>\n",
       "      <td>6</td>\n",
       "      <td>28</td>\n",
       "      <td>29</td>\n",
       "      <td>6</td>\n",
       "      <td>Train/6/00006_00009_00011.png</td>\n",
       "    </tr>\n",
       "    <tr>\n",
       "      <th>698</th>\n",
       "      <td>35</td>\n",
       "      <td>34</td>\n",
       "      <td>6</td>\n",
       "      <td>5</td>\n",
       "      <td>29</td>\n",
       "      <td>29</td>\n",
       "      <td>6</td>\n",
       "      <td>Train/6/00006_00013_00012.png</td>\n",
       "    </tr>\n",
       "    <tr>\n",
       "      <th>699</th>\n",
       "      <td>26</td>\n",
       "      <td>28</td>\n",
       "      <td>5</td>\n",
       "      <td>6</td>\n",
       "      <td>21</td>\n",
       "      <td>23</td>\n",
       "      <td>6</td>\n",
       "      <td>Train/6/00006_00012_00001.png</td>\n",
       "    </tr>\n",
       "  </tbody>\n",
       "</table>\n",
       "<p>700 rows × 8 columns</p>\n",
       "</div>"
      ],
      "text/plain": [
       "     Width  Height  Roi.X1  Roi.Y1  Roi.X2  Roi.Y2  ClassId  \\\n",
       "0       29      30       6       6      24      25        0   \n",
       "1       56      54       5       5      50      49        0   \n",
       "2       69      70       7       6      63      64        0   \n",
       "3       60      64       5       6      55      59        0   \n",
       "4       27      26       6       5      22      21        0   \n",
       "..     ...     ...     ...     ...     ...     ...      ...   \n",
       "695     32      33       5       5      27      28        6   \n",
       "696     39      41       5       6      34      36        6   \n",
       "697     33      34       6       6      28      29        6   \n",
       "698     35      34       6       5      29      29        6   \n",
       "699     26      28       5       6      21      23        6   \n",
       "\n",
       "                              Path  \n",
       "0    Train/0/00000_00001_00000.png  \n",
       "1    Train/0/00000_00005_00022.png  \n",
       "2    Train/0/00000_00002_00024.png  \n",
       "3    Train/0/00000_00006_00019.png  \n",
       "4    Train/0/00000_00002_00000.png  \n",
       "..                             ...  \n",
       "695  Train/6/00006_00000_00005.png  \n",
       "696  Train/6/00006_00001_00015.png  \n",
       "697  Train/6/00006_00009_00011.png  \n",
       "698  Train/6/00006_00013_00012.png  \n",
       "699  Train/6/00006_00012_00001.png  \n",
       "\n",
       "[700 rows x 8 columns]"
      ]
     },
     "execution_count": 26,
     "metadata": {},
     "output_type": "execute_result"
    }
   ],
   "source": [
    "# Sample 100 images from each class\n",
    "sampled_df = subset_df.groupby('ClassId').apply(lambda x: x.sample(n=100, random_state=42)).reset_index(drop=True)\n",
    "sampled_df"
   ]
  },
  {
   "cell_type": "code",
   "execution_count": 27,
   "id": "44350081",
   "metadata": {},
   "outputs": [
    {
     "data": {
      "text/plain": [
       "Index(['Width', 'Height', 'Roi.X1', 'Roi.Y1', 'Roi.X2', 'Roi.Y2', 'ClassId',\n",
       "       'Path'],\n",
       "      dtype='object')"
      ]
     },
     "execution_count": 27,
     "metadata": {},
     "output_type": "execute_result"
    }
   ],
   "source": [
    "sampled_df.columns"
   ]
  },
  {
   "cell_type": "markdown",
   "id": "9e96df89",
   "metadata": {},
   "source": [
    "Processing Pipeline"
   ]
  },
  {
   "cell_type": "code",
   "execution_count": null,
   "id": "5e5615c2",
   "metadata": {},
   "outputs": [],
   "source": [
    "# def process_image(image):\n",
    "#     # STEP 1: Preprocessing - Apply ONE appropriate filter\n",
    "#     denoised = median_filter(image)  # You can swap with gaussian_filter or adaptive_median_filter\n",
    "\n",
    "#     # STEP 2: Convert to HSV\n",
    "#     hsv = rgb_to_hsv(denoised)\n",
    "\n",
    "#     # STEP 3: Segment red or blue signs\n",
    "#     mask = segment_red_blue(hsv)\n",
    "#     if np.sum(mask) < 50:\n",
    "#         print(f\"Warning: very few foreground pixels in HSV mask at index {idx}\")\n",
    "\n",
    "#     # STEP 4: Post-processing\n",
    "#     binary = binary_threshold(mask, threshold=127)\n",
    "#     opened = opening(binary, kernel_size=3)\n",
    "#     cleaned = connected_component_filtering(opened, area_threshold=300)\n",
    "#     filled = fill_holes(cleaned)\n",
    "\n",
    "#     # STEP 5: Edge Detection (Canny)\n",
    "#     magnitude, direction = sobel_gradients(filled)\n",
    "#     nms = non_max_suppression(magnitude, direction)\n",
    "#     dt_result, weak, strong = double_thresholding(nms)\n",
    "#     edges = edge_tracking_by_hysteresis(dt_result, weak, strong)\n",
    "\n",
    "#     # STEP 6: Geometric Normalization\n",
    "#     angle = 0  # Optional: compute based on contours or principal axis\n",
    "#     rotated = rotate_image(edges, angle_deg=angle)\n",
    "#     normalized = scale_image(rotated, size=(200, 200))\n",
    "\n",
    "#     # Return processed image for feature extraction\n",
    "#     return normalized, hsv, filled\n"
   ]
  },
  {
   "cell_type": "code",
   "execution_count": null,
   "id": "687768fd",
   "metadata": {},
   "outputs": [
    {
     "name": "stderr",
     "output_type": "stream",
     "text": [
      "100%|██████████| 700/700 [00:01<00:00, 684.60it/s]\n"
     ]
    }
   ],
   "source": [
    "# import cv2\n",
    "# import numpy as np\n",
    "# from tqdm import tqdm\n",
    "\n",
    "# # Add new columns to store processed data\n",
    "# sampled_df['Normalized'] = None\n",
    "# sampled_df['HSV'] = None\n",
    "# sampled_df['BinaryMask'] = None\n",
    "\n",
    "# # Processing function applied to all rows\n",
    "# for idx, row in tqdm(sampled_df.iterrows(), total=len(sampled_df)):\n",
    "#     img_path = \"dataset/\" + row['Path']\n",
    "#     image = cv2.imread(img_path, cv2.IMREAD_GRAYSCALE)  # Read image using OpenCV\n",
    "    \n",
    "#     if image is None:\n",
    "#         print(f\"Warning: Couldn't read image at {img_path}\")\n",
    "#         continue\n",
    "\n",
    "#     # Apply full processing pipeline\n",
    "#     try:\n",
    "#         normalized, hsv_img, binary_mask = process_image(image)\n",
    "\n",
    "#         # Store results back in DataFrame\n",
    "#         sampled_df.at[idx, 'Normalized'] = normalized\n",
    "#         sampled_df.at[idx, 'HSV'] = hsv_img\n",
    "#         sampled_df.at[idx, 'BinaryMask'] = binary_mask\n",
    "\n",
    "#     except Exception as e:\n",
    "#         print(f\"Error processing image at {img_path}: {e}\")\n"
   ]
  },
  {
   "cell_type": "code",
   "execution_count": 42,
   "id": "d728fd0f",
   "metadata": {},
   "outputs": [
    {
     "data": {
      "text/html": [
       "<div>\n",
       "<style scoped>\n",
       "    .dataframe tbody tr th:only-of-type {\n",
       "        vertical-align: middle;\n",
       "    }\n",
       "\n",
       "    .dataframe tbody tr th {\n",
       "        vertical-align: top;\n",
       "    }\n",
       "\n",
       "    .dataframe thead th {\n",
       "        text-align: right;\n",
       "    }\n",
       "</style>\n",
       "<table border=\"1\" class=\"dataframe\">\n",
       "  <thead>\n",
       "    <tr style=\"text-align: right;\">\n",
       "      <th></th>\n",
       "      <th>Width</th>\n",
       "      <th>Height</th>\n",
       "      <th>Roi.X1</th>\n",
       "      <th>Roi.Y1</th>\n",
       "      <th>Roi.X2</th>\n",
       "      <th>Roi.Y2</th>\n",
       "      <th>ClassId</th>\n",
       "      <th>Path</th>\n",
       "      <th>Normalized</th>\n",
       "      <th>HSV</th>\n",
       "      <th>BinaryMask</th>\n",
       "    </tr>\n",
       "  </thead>\n",
       "  <tbody>\n",
       "    <tr>\n",
       "      <th>0</th>\n",
       "      <td>29</td>\n",
       "      <td>30</td>\n",
       "      <td>6</td>\n",
       "      <td>6</td>\n",
       "      <td>24</td>\n",
       "      <td>25</td>\n",
       "      <td>0</td>\n",
       "      <td>Train/0/00000_00001_00000.png</td>\n",
       "      <td>None</td>\n",
       "      <td>None</td>\n",
       "      <td>None</td>\n",
       "    </tr>\n",
       "    <tr>\n",
       "      <th>1</th>\n",
       "      <td>56</td>\n",
       "      <td>54</td>\n",
       "      <td>5</td>\n",
       "      <td>5</td>\n",
       "      <td>50</td>\n",
       "      <td>49</td>\n",
       "      <td>0</td>\n",
       "      <td>Train/0/00000_00005_00022.png</td>\n",
       "      <td>None</td>\n",
       "      <td>None</td>\n",
       "      <td>None</td>\n",
       "    </tr>\n",
       "    <tr>\n",
       "      <th>2</th>\n",
       "      <td>69</td>\n",
       "      <td>70</td>\n",
       "      <td>7</td>\n",
       "      <td>6</td>\n",
       "      <td>63</td>\n",
       "      <td>64</td>\n",
       "      <td>0</td>\n",
       "      <td>Train/0/00000_00002_00024.png</td>\n",
       "      <td>None</td>\n",
       "      <td>None</td>\n",
       "      <td>None</td>\n",
       "    </tr>\n",
       "    <tr>\n",
       "      <th>3</th>\n",
       "      <td>60</td>\n",
       "      <td>64</td>\n",
       "      <td>5</td>\n",
       "      <td>6</td>\n",
       "      <td>55</td>\n",
       "      <td>59</td>\n",
       "      <td>0</td>\n",
       "      <td>Train/0/00000_00006_00019.png</td>\n",
       "      <td>None</td>\n",
       "      <td>None</td>\n",
       "      <td>None</td>\n",
       "    </tr>\n",
       "    <tr>\n",
       "      <th>4</th>\n",
       "      <td>27</td>\n",
       "      <td>26</td>\n",
       "      <td>6</td>\n",
       "      <td>5</td>\n",
       "      <td>22</td>\n",
       "      <td>21</td>\n",
       "      <td>0</td>\n",
       "      <td>Train/0/00000_00002_00000.png</td>\n",
       "      <td>None</td>\n",
       "      <td>None</td>\n",
       "      <td>None</td>\n",
       "    </tr>\n",
       "    <tr>\n",
       "      <th>...</th>\n",
       "      <td>...</td>\n",
       "      <td>...</td>\n",
       "      <td>...</td>\n",
       "      <td>...</td>\n",
       "      <td>...</td>\n",
       "      <td>...</td>\n",
       "      <td>...</td>\n",
       "      <td>...</td>\n",
       "      <td>...</td>\n",
       "      <td>...</td>\n",
       "      <td>...</td>\n",
       "    </tr>\n",
       "    <tr>\n",
       "      <th>695</th>\n",
       "      <td>32</td>\n",
       "      <td>33</td>\n",
       "      <td>5</td>\n",
       "      <td>5</td>\n",
       "      <td>27</td>\n",
       "      <td>28</td>\n",
       "      <td>6</td>\n",
       "      <td>Train/6/00006_00000_00005.png</td>\n",
       "      <td>None</td>\n",
       "      <td>None</td>\n",
       "      <td>None</td>\n",
       "    </tr>\n",
       "    <tr>\n",
       "      <th>696</th>\n",
       "      <td>39</td>\n",
       "      <td>41</td>\n",
       "      <td>5</td>\n",
       "      <td>6</td>\n",
       "      <td>34</td>\n",
       "      <td>36</td>\n",
       "      <td>6</td>\n",
       "      <td>Train/6/00006_00001_00015.png</td>\n",
       "      <td>None</td>\n",
       "      <td>None</td>\n",
       "      <td>None</td>\n",
       "    </tr>\n",
       "    <tr>\n",
       "      <th>697</th>\n",
       "      <td>33</td>\n",
       "      <td>34</td>\n",
       "      <td>6</td>\n",
       "      <td>6</td>\n",
       "      <td>28</td>\n",
       "      <td>29</td>\n",
       "      <td>6</td>\n",
       "      <td>Train/6/00006_00009_00011.png</td>\n",
       "      <td>None</td>\n",
       "      <td>None</td>\n",
       "      <td>None</td>\n",
       "    </tr>\n",
       "    <tr>\n",
       "      <th>698</th>\n",
       "      <td>35</td>\n",
       "      <td>34</td>\n",
       "      <td>6</td>\n",
       "      <td>5</td>\n",
       "      <td>29</td>\n",
       "      <td>29</td>\n",
       "      <td>6</td>\n",
       "      <td>Train/6/00006_00013_00012.png</td>\n",
       "      <td>None</td>\n",
       "      <td>None</td>\n",
       "      <td>None</td>\n",
       "    </tr>\n",
       "    <tr>\n",
       "      <th>699</th>\n",
       "      <td>26</td>\n",
       "      <td>28</td>\n",
       "      <td>5</td>\n",
       "      <td>6</td>\n",
       "      <td>21</td>\n",
       "      <td>23</td>\n",
       "      <td>6</td>\n",
       "      <td>Train/6/00006_00012_00001.png</td>\n",
       "      <td>None</td>\n",
       "      <td>None</td>\n",
       "      <td>None</td>\n",
       "    </tr>\n",
       "  </tbody>\n",
       "</table>\n",
       "<p>700 rows × 11 columns</p>\n",
       "</div>"
      ],
      "text/plain": [
       "     Width  Height  Roi.X1  Roi.Y1  Roi.X2  Roi.Y2  ClassId  \\\n",
       "0       29      30       6       6      24      25        0   \n",
       "1       56      54       5       5      50      49        0   \n",
       "2       69      70       7       6      63      64        0   \n",
       "3       60      64       5       6      55      59        0   \n",
       "4       27      26       6       5      22      21        0   \n",
       "..     ...     ...     ...     ...     ...     ...      ...   \n",
       "695     32      33       5       5      27      28        6   \n",
       "696     39      41       5       6      34      36        6   \n",
       "697     33      34       6       6      28      29        6   \n",
       "698     35      34       6       5      29      29        6   \n",
       "699     26      28       5       6      21      23        6   \n",
       "\n",
       "                              Path Normalized   HSV BinaryMask  \n",
       "0    Train/0/00000_00001_00000.png       None  None       None  \n",
       "1    Train/0/00000_00005_00022.png       None  None       None  \n",
       "2    Train/0/00000_00002_00024.png       None  None       None  \n",
       "3    Train/0/00000_00006_00019.png       None  None       None  \n",
       "4    Train/0/00000_00002_00000.png       None  None       None  \n",
       "..                             ...        ...   ...        ...  \n",
       "695  Train/6/00006_00000_00005.png       None  None       None  \n",
       "696  Train/6/00006_00001_00015.png       None  None       None  \n",
       "697  Train/6/00006_00009_00011.png       None  None       None  \n",
       "698  Train/6/00006_00013_00012.png       None  None       None  \n",
       "699  Train/6/00006_00012_00001.png       None  None       None  \n",
       "\n",
       "[700 rows x 11 columns]"
      ]
     },
     "execution_count": 42,
     "metadata": {},
     "output_type": "execute_result"
    }
   ],
   "source": [
    "sampled_df"
   ]
  },
  {
   "cell_type": "code",
   "execution_count": 119,
   "id": "0715f838",
   "metadata": {},
   "outputs": [],
   "source": [
    "sampled_df = sampled_df.iloc[:15, :]"
   ]
  },
  {
   "cell_type": "code",
   "execution_count": 31,
   "id": "5cdf85a9",
   "metadata": {},
   "outputs": [],
   "source": [
    "from tqdm import tqdm\n"
   ]
  },
  {
   "cell_type": "code",
   "execution_count": 120,
   "id": "a67fa239",
   "metadata": {},
   "outputs": [
    {
     "name": "stderr",
     "output_type": "stream",
     "text": [
      "C:\\Users\\Mam Hifza Tahir\\AppData\\Local\\Temp\\ipykernel_18024\\1188267522.py:80: SettingWithCopyWarning: \n",
      "A value is trying to be set on a copy of a slice from a DataFrame.\n",
      "Try using .loc[row_indexer,col_indexer] = value instead\n",
      "\n",
      "See the caveats in the documentation: https://pandas.pydata.org/pandas-docs/stable/user_guide/indexing.html#returning-a-view-versus-a-copy\n",
      "  sampled_df['processed'] = False  # Flag to track successfully processed images\n"
     ]
    },
    {
     "name": "stdout",
     "output_type": "stream",
     "text": [
      "Processing images...\n"
     ]
    },
    {
     "name": "stderr",
     "output_type": "stream",
     "text": [
      "  0%|          | 0/15 [00:00<?, ?it/s]"
     ]
    },
    {
     "name": "stdout",
     "output_type": "stream",
     "text": [
      "[0] HSV mask foreground pixels: 26010\n"
     ]
    },
    {
     "name": "stderr",
     "output_type": "stream",
     "text": [
      "  7%|▋         | 1/15 [00:00<00:03,  3.96it/s]"
     ]
    },
    {
     "name": "stdout",
     "output_type": "stream",
     "text": [
      "[0] Mask pixels before thresholding: 26010, after thresholding: 26010\n",
      "[0] After opening: 12495, After connected-component filtering: 0\n",
      "[0] After filling holes: 0\n"
     ]
    },
    {
     "name": "stderr",
     "output_type": "stream",
     "text": [
      " 13%|█▎        | 2/15 [00:01<00:07,  1.73it/s]"
     ]
    },
    {
     "name": "stdout",
     "output_type": "stream",
     "text": [
      "[1] HSV mask foreground pixels: 133365\n",
      "[1] Mask pixels before thresholding: 133365, after thresholding: 133365\n",
      "[1] After opening: 130815, After connected-component filtering: 119085\n",
      "[1] After filling holes: 3024\n",
      "[2] HSV mask foreground pixels: 208845\n"
     ]
    },
    {
     "name": "stderr",
     "output_type": "stream",
     "text": [
      " 20%|██        | 3/15 [00:02<00:13,  1.16s/it]"
     ]
    },
    {
     "name": "stdout",
     "output_type": "stream",
     "text": [
      "[2] Mask pixels before thresholding: 208845, after thresholding: 208845\n",
      "[2] After opening: 172890, After connected-component filtering: 138975\n",
      "[2] After filling holes: 4830\n",
      "[3] HSV mask foreground pixels: 217515\n"
     ]
    },
    {
     "name": "stderr",
     "output_type": "stream",
     "text": [
      " 27%|██▋       | 4/15 [00:04<00:13,  1.22s/it]"
     ]
    },
    {
     "name": "stdout",
     "output_type": "stream",
     "text": [
      "[3] Mask pixels before thresholding: 217515, after thresholding: 217515\n",
      "[3] After opening: 211905, After connected-component filtering: 211905\n",
      "[3] After filling holes: 3840\n"
     ]
    },
    {
     "name": "stderr",
     "output_type": "stream",
     "text": [
      " 33%|███▎      | 5/15 [00:04<00:08,  1.18it/s]"
     ]
    },
    {
     "name": "stdout",
     "output_type": "stream",
     "text": [
      "[4] Warning: Very few foreground pixels in HSV mask: 0\n",
      "[4] Mask pixels before thresholding: 0, after thresholding: 0\n",
      "[4] After opening: 0, After connected-component filtering: 0\n",
      "[4] After filling holes: 0\n",
      "[5] HSV mask foreground pixels: 765\n"
     ]
    },
    {
     "name": "stderr",
     "output_type": "stream",
     "text": [
      " 40%|████      | 6/15 [00:04<00:05,  1.57it/s]"
     ]
    },
    {
     "name": "stdout",
     "output_type": "stream",
     "text": [
      "[5] Mask pixels before thresholding: 765, after thresholding: 765\n",
      "[5] After opening: 0, After connected-component filtering: 0\n",
      "[5] After filling holes: 0\n"
     ]
    },
    {
     "name": "stderr",
     "output_type": "stream",
     "text": [
      " 47%|████▋     | 7/15 [00:05<00:04,  1.74it/s]"
     ]
    },
    {
     "name": "stdout",
     "output_type": "stream",
     "text": [
      "[6] HSV mask foreground pixels: 82110\n",
      "[6] Mask pixels before thresholding: 82110, after thresholding: 82110\n",
      "[6] After opening: 45135, After connected-component filtering: 21420\n",
      "[6] After filling holes: 1444\n"
     ]
    },
    {
     "name": "stderr",
     "output_type": "stream",
     "text": [
      " 53%|█████▎    | 8/15 [00:05<00:03,  1.95it/s]"
     ]
    },
    {
     "name": "stdout",
     "output_type": "stream",
     "text": [
      "[7] HSV mask foreground pixels: 9690\n",
      "[7] Mask pixels before thresholding: 9690, after thresholding: 9690\n",
      "[7] After opening: 0, After connected-component filtering: 0\n",
      "[7] After filling holes: 0\n"
     ]
    },
    {
     "name": "stderr",
     "output_type": "stream",
     "text": [
      " 60%|██████    | 9/15 [00:05<00:02,  2.19it/s]"
     ]
    },
    {
     "name": "stdout",
     "output_type": "stream",
     "text": [
      "[8] HSV mask foreground pixels: 81855\n",
      "[8] Mask pixels before thresholding: 81855, after thresholding: 81855\n",
      "[8] After opening: 70635, After connected-component filtering: 64515\n",
      "[8] After filling holes: 1296\n",
      "[9] HSV mask foreground pixels: 161160\n"
     ]
    },
    {
     "name": "stderr",
     "output_type": "stream",
     "text": [
      " 67%|██████▋   | 10/15 [00:06<00:03,  1.64it/s]"
     ]
    },
    {
     "name": "stdout",
     "output_type": "stream",
     "text": [
      "[9] Mask pixels before thresholding: 161160, after thresholding: 161160\n",
      "[9] After opening: 149940, After connected-component filtering: 149940\n",
      "[9] After filling holes: 3024\n",
      "[10] HSV mask foreground pixels: 291720\n"
     ]
    },
    {
     "name": "stderr",
     "output_type": "stream",
     "text": [
      " 73%|███████▎  | 11/15 [00:08<00:04,  1.05s/it]"
     ]
    },
    {
     "name": "stdout",
     "output_type": "stream",
     "text": [
      "[10] Mask pixels before thresholding: 291720, after thresholding: 291720\n",
      "[10] After opening: 289680, After connected-component filtering: 289680\n",
      "[10] After filling holes: 5846\n",
      "[11] HSV mask foreground pixels: 45135\n",
      "[11] Mask pixels before thresholding: 45135, after thresholding: 45135\n",
      "[11] After opening: 23715, After connected-component filtering: 17340\n",
      "[11] After filling holes: 1722\n"
     ]
    },
    {
     "name": "stderr",
     "output_type": "stream",
     "text": [
      " 80%|████████  | 12/15 [00:09<00:02,  1.11it/s]"
     ]
    },
    {
     "name": "stdout",
     "output_type": "stream",
     "text": [
      "[12] HSV mask foreground pixels: 96390\n",
      "[12] Mask pixels before thresholding: 96390, after thresholding: 96390\n",
      "[12] After opening: 18615, After connected-component filtering: 0\n",
      "[12] After filling holes: 0\n"
     ]
    },
    {
     "name": "stderr",
     "output_type": "stream",
     "text": [
      " 87%|████████▋ | 13/15 [00:11<00:02,  1.24s/it]"
     ]
    },
    {
     "name": "stdout",
     "output_type": "stream",
     "text": [
      "[13] HSV mask foreground pixels: 208080\n"
     ]
    },
    {
     "name": "stderr",
     "output_type": "stream",
     "text": [
      " 93%|█████████▎| 14/15 [00:12<00:01,  1.25s/it]"
     ]
    },
    {
     "name": "stdout",
     "output_type": "stream",
     "text": [
      "[13] Mask pixels before thresholding: 208080, after thresholding: 208080\n",
      "[13] After opening: 198390, After connected-component filtering: 198390\n",
      "[13] After filling holes: 3894\n"
     ]
    },
    {
     "name": "stderr",
     "output_type": "stream",
     "text": [
      "100%|██████████| 15/15 [00:13<00:00,  1.14it/s]"
     ]
    },
    {
     "name": "stdout",
     "output_type": "stream",
     "text": [
      "[14] HSV mask foreground pixels: 130815\n",
      "[14] Mask pixels before thresholding: 130815, after thresholding: 130815\n",
      "[14] After opening: 126225, After connected-component filtering: 126225\n",
      "[14] After filling holes: 1936\n",
      "Successfully processed 15 out of 15 images.\n"
     ]
    },
    {
     "name": "stderr",
     "output_type": "stream",
     "text": [
      "\n"
     ]
    }
   ],
   "source": [
    "import cv2\n",
    "import numpy as np\n",
    "from tqdm import tqdm\n",
    "import os\n",
    "from PIL import Image\n",
    "\n",
    "def process_image(image_path):\n",
    "    \"\"\"\n",
    "    Process an image through the pipeline\n",
    "    \n",
    "    Args:\n",
    "        image_path: Path to the image file\n",
    "        \n",
    "    Returns:\n",
    "        normalized: Normalized processed image\n",
    "        hsv: HSV version of the image\n",
    "        filled: Binary mask after processing\n",
    "    \"\"\"\n",
    "    # STEP 1: Read image using PIL\n",
    "    try:\n",
    "        # For color processing\n",
    "        color_image = np.array(Image.open(image_path))\n",
    "        # For grayscale preprocessing\n",
    "        gray_image = np.array(Image.open(image_path).convert('L'))\n",
    "    except Exception as e:\n",
    "        print(f\"Error reading image {image_path}: {e}\")\n",
    "        return None, None, None\n",
    "    \n",
    "    # STEP 2: Preprocessing on grayscale image\n",
    "    # Apply filter to the grayscale image\n",
    "    denoised_gray = gaussian_filter(gray_image)  # or gaussian_filter or adaptive_median_filter\n",
    "\n",
    "    filtered_r = gaussian_filter(color_image[:, :, 0])\n",
    "    filtered_g = gaussian_filter(color_image[:, :, 1])\n",
    "    filtered_b = gaussian_filter(color_image[:, :, 2])\n",
    "    filtered_rgb = np.stack((filtered_r, filtered_g, filtered_b), axis=2)\n",
    "    \n",
    "    filtered_r = adaptive_median_filter(filtered_rgb[:, :, 0])\n",
    "    filtered_g = adaptive_median_filter(filtered_rgb[:, :, 1])\n",
    "    filtered_b = adaptive_median_filter(filtered_rgb[:, :, 2])\n",
    "    filtered_rgb2 = np.stack((filtered_r, filtered_g, filtered_b), axis=2)\n",
    "    \n",
    "    # STEP 3: Convert color image to HSV for color segmentation\n",
    "    hsv = rgb_to_hsv(filtered_rgb)\n",
    "    \n",
    "    # STEP 4: Segment red or blue signs\n",
    "    # After segment_red_blue\n",
    "    mask = segment_red_blue(hsv)\n",
    "    num_foreground = np.sum(mask)\n",
    "    if num_foreground < 50:\n",
    "        print(f\"[{idx}] Warning: Very few foreground pixels in HSV mask: {num_foreground}\")\n",
    "    else:\n",
    "        print(f\"[{idx}] HSV mask foreground pixels: {num_foreground}\")\n",
    "\n",
    "    # STEP 5: Post-processing on the mask\n",
    "    binary = binary_threshold(mask, threshold=127)\n",
    "    opened = opening(binary, kernel_size=3)\n",
    "    cleaned = connected_component_filtering(opened, area_threshold=50)\n",
    "    filled = fill_holes(cleaned)\n",
    "\n",
    "    print(f\"[{idx}] Mask pixels before thresholding: {np.sum(mask)}, after thresholding: {np.sum(binary)}\")\n",
    "    print(f\"[{idx}] After opening: {np.sum(opened)}, After connected-component filtering: {np.sum(cleaned)}\")\n",
    "    print(f\"[{idx}] After filling holes: {np.sum(filled)}\")\n",
    "    \n",
    "    # STEP 6: Edge Detection (Canny) on the filled binary mask\n",
    "    magnitude, direction = sobel_gradients(filled)\n",
    "    nms = non_max_suppression(magnitude, direction)\n",
    "    dt_result, weak, strong = double_thresholding(nms)\n",
    "    edges = edge_tracking_by_hysteresis(dt_result, weak, strong)\n",
    "    \n",
    "    # STEP 7: Geometric Normalization\n",
    "    angle = 0  # Optional: compute based on contours or principal axis\n",
    "    rotated = rotate_image(edges, angle_deg=angle)\n",
    "    normalized = scale_image(rotated, size=(200, 200))\n",
    "    \n",
    "    # Return processed image for feature extraction\n",
    "    return normalized, hsv, filled\n",
    "\n",
    "# Prepare DataFrame to store results\n",
    "sampled_df['processed'] = False  # Flag to track successfully processed images\n",
    "\n",
    "# Optional: Create directory to save processed images for debugging\n",
    "output_dir = \"processed_images\"\n",
    "os.makedirs(output_dir, exist_ok=True)\n",
    "\n",
    "# Process all images\n",
    "print(\"Processing images...\")\n",
    "for idx, row in tqdm(sampled_df.iterrows(), total=len(sampled_df)):\n",
    "    img_path = os.path.join(\"dataset\", row['Path'])\n",
    "    \n",
    "    try:\n",
    "        # Process the image\n",
    "        normalized, hsv_img, binary_mask = process_image(img_path)\n",
    "        \n",
    "        if normalized is None:\n",
    "            continue\n",
    "            \n",
    "        # Optional: Save processed images for debugging\n",
    "        if idx % 50 == 0:\n",
    "            filename = os.path.basename(row['Path'])\n",
    "            # Convert to PIL image and save\n",
    "            Image.fromarray(normalized).save(os.path.join(output_dir, f\"norm_{filename}.png\"))\n",
    "            Image.fromarray(binary_mask).save(os.path.join(output_dir, f\"mask_{filename}.png\"))\n",
    "        \n",
    "        # Mark as successfully processed\n",
    "        sampled_df.at[idx, 'processed'] = True\n",
    "        \n",
    "    except Exception as e:\n",
    "        print(f\"Error processing image at {img_path}: {str(e)}\")\n",
    "\n",
    "print(f\"Successfully processed {sampled_df['processed'].sum()} out of {len(sampled_df)} images.\")"
   ]
  },
  {
   "cell_type": "code",
   "execution_count": 28,
   "id": "c05dc71b",
   "metadata": {},
   "outputs": [],
   "source": [
    "sampled_df = sampled_df.iloc[:150, :]"
   ]
  },
  {
   "cell_type": "code",
   "execution_count": 106,
   "id": "4da0071c",
   "metadata": {},
   "outputs": [],
   "source": [
    "\n",
    "def colorSeperator(hsv_img):\n",
    "    h, s, v = hsv_img[:,:,0], hsv_img[:,:,1], hsv_img[:,:,2]\n",
    "    \n",
    "    red_mask_low = (h <= 15) & (s >= 100) & (v >= 80)\n",
    "    red_mask_high = (h >= 165) & (h <= 180) & (s >= 100) & (v >= 80)\n",
    "    red_mask = red_mask_low | red_mask_high\n",
    "    \n",
    "    blue_mask = (h >= 100) & (h <= 130) & (s >= 100) & (v >= 80)\n",
    "    \n",
    "    mask = red_mask | blue_mask\n",
    "    \n",
    "    if np.sum(red_mask) > np.sum(blue_mask):\n",
    "        color = 'red'\n",
    "    else:\n",
    "        color = 'blue'\n",
    "    \n",
    "    return mask, color\n",
    "\n",
    "def threshold(mask, threshold=0.5):\n",
    "    return mask > threshold\n",
    "\n",
    "# def opening(self, img, kernel_size=3):\n",
    "#     eroded = self.erosion(img, kernel_size)\n",
    "#     return self.dilation(eroded, kernel_size)\n",
    "\n",
    "# def closing(self, img, kernel_size=3):\n",
    "#     dilated = self.dilation(img, kernel_size)\n",
    "#     return self.erosion(dilated, kernel_size)\n",
    "\n",
    "def connected_components(binary_img):\n",
    "    labeled_img = np.zeros_like(binary_img, dtype=int)\n",
    "    \n",
    "    current_label = 1\n",
    "    equiv_table = {}\n",
    "    \n",
    "    for i in range(binary_img.shape[0]):\n",
    "        for j in range(binary_img.shape[1]):\n",
    "            if binary_img[i, j] == 1:\n",
    "                neighbors = []\n",
    "                \n",
    "                if i > 0 and labeled_img[i-1, j] > 0:\n",
    "                    neighbors.append(labeled_img[i-1, j])\n",
    "                \n",
    "                if j > 0 and labeled_img[i, j-1] > 0:\n",
    "                    neighbors.append(labeled_img[i, j-1])\n",
    "                \n",
    "                if len(neighbors) == 0:\n",
    "                    labeled_img[i, j] = current_label\n",
    "                    equiv_table[current_label] = {current_label}\n",
    "                    current_label += 1\n",
    "                else:\n",
    "                    min_label = min(neighbors)\n",
    "                    labeled_img[i, j] = min_label\n",
    "                    \n",
    "                    for n in neighbors:\n",
    "                        if n != min_label:\n",
    "                            equiv_table[min_label].update(equiv_table[n])\n",
    "                            for label in equiv_table[n]:\n",
    "                                equiv_table[label] = equiv_table[min_label]\n",
    "    \n",
    "    relabeled = np.zeros_like(labeled_img)\n",
    "    new_labels = {}\n",
    "    current_new_label = 1\n",
    "    \n",
    "    for i in range(labeled_img.shape[0]):\n",
    "        for j in range(labeled_img.shape[1]):\n",
    "            if labeled_img[i, j] > 0:\n",
    "                label = labeled_img[i, j]\n",
    "                min_equiv = min(equiv_table[label])\n",
    "                \n",
    "                if min_equiv not in new_labels:\n",
    "                    new_labels[min_equiv] = current_new_label\n",
    "                    current_new_label += 1\n",
    "                \n",
    "                relabeled[i, j] = new_labels[min_equiv]\n",
    "    \n",
    "    return relabeled\n",
    "\n",
    "\n",
    "def remove_small_components(labeled_img, min_area=100):\n",
    "    sizes = {}\n",
    "    for i in range(labeled_img.shape[0]):\n",
    "        for j in range(labeled_img.shape[1]):\n",
    "            label = labeled_img[i, j]\n",
    "            if label > 0:\n",
    "                if label not in sizes:\n",
    "                    sizes[label] = 0\n",
    "                sizes[label] += 1\n",
    "    \n",
    "    filtered = np.zeros_like(labeled_img)\n",
    "    largest_label = None\n",
    "    largest_size = 0\n",
    "    \n",
    "    for label, size in sizes.items():\n",
    "        if size > largest_size:\n",
    "            largest_size = size\n",
    "            largest_label = label\n",
    "    \n",
    "    for i in range(labeled_img.shape[0]):\n",
    "        for j in range(labeled_img.shape[1]):\n",
    "            if labeled_img[i, j] == largest_label:\n",
    "                filtered[i, j] = 1\n",
    "    \n",
    "    return filtered\n",
    "\n",
    "def fill_holes(binary_img):\n",
    "    mask = np.zeros((binary_img.shape[0] + 2, binary_img.shape[1] + 2), dtype=np.uint8)\n",
    "    \n",
    "    filled = binary_img.copy()\n",
    "    mask[1:-1, 1:-1] = 1 - filled\n",
    "    \n",
    "    old_mask = np.zeros_like(mask)\n",
    "    \n",
    "    mask[0, :] = 1\n",
    "    mask[-1, :] = 1\n",
    "    mask[:, 0] = 1\n",
    "    mask[:, -1] = 1\n",
    "    \n",
    "    while not np.array_equal(old_mask, mask):\n",
    "        old_mask = mask.copy()\n",
    "        \n",
    "        for i in range(1, mask.shape[0] - 1):\n",
    "            for j in range(1, mask.shape[1] - 1):\n",
    "                if mask[i, j] == 1:\n",
    "                    if (mask[i-1, j] == 2 or mask[i+1, j] == 2 or \n",
    "                        mask[i, j-1] == 2 or mask[i, j+1] == 2):\n",
    "                        mask[i, j] = 2\n",
    "        \n",
    "        mask[0, :] = 1\n",
    "        mask[-1, :] = 1\n",
    "        mask[:, 0] = 1\n",
    "        mask[:, -1] = 1\n",
    "    \n",
    "    return 1 - (mask[1:-1, 1:-1] == 1).astype(np.uint8)\n"
   ]
  },
  {
   "cell_type": "code",
   "execution_count": 32,
   "id": "1b47fbfb",
   "metadata": {},
   "outputs": [],
   "source": [
    "\n",
    "def process_image(image_path, idx=None):\n",
    "    \"\"\"\n",
    "    Process an image through the pipeline\n",
    "    \n",
    "    Args:\n",
    "        image_path: Path to the image file\n",
    "        \n",
    "    Returns:\n",
    "        normalized: Normalized processed image\n",
    "        hsv: HSV version of the image\n",
    "        filled: Binary mask after processing\n",
    "    \"\"\"\n",
    "    # STEP 1: Read image using PIL\n",
    "    try:\n",
    "        # For color processing\n",
    "        color_image = np.array(Image.open(image_path))\n",
    "        # For grayscale preprocessing\n",
    "        gray_image = np.array(Image.open(image_path).convert('L'))\n",
    "    except Exception as e:\n",
    "        print(f\"Error reading image {image_path}: {e}\")\n",
    "        return None, None, None\n",
    "    \n",
    "    # STEP 2: Preprocessing on grayscale image\n",
    "    # Apply filter to the grayscale image\n",
    "    denoised_gray = gaussian_filter(gray_image)  # or gaussian_filter or adaptive_median_filter\n",
    "\n",
    "    filtered_r = gaussian_filter(color_image[:, :, 0])\n",
    "    filtered_g = gaussian_filter(color_image[:, :, 1])\n",
    "    filtered_b = gaussian_filter(color_image[:, :, 2])\n",
    "    filtered_rgb = np.stack((filtered_r, filtered_g, filtered_b), axis=2)\n",
    "    \n",
    "    # filtered_r = adaptive_median_filter(filtered_rgb[:, :, 0])\n",
    "    # filtered_g = adaptive_median_filter(filtered_rgb[:, :, 1])\n",
    "    # filtered_b = adaptive_median_filter(filtered_rgb[:, :, 2])\n",
    "    # filtered_rgb2 = np.stack((filtered_r, filtered_g, filtered_b), axis=2)\n",
    "    \n",
    "    # STEP 3: Convert color image to HSV for color segmentation\n",
    "    hsv = rgb_to_hsv(filtered_rgb)\n",
    "    \n",
    "    # STEP 4: Segment red or blue signs\n",
    "    # After segment_red_blue\n",
    "    mask = segment_red_blue(hsv)\n",
    "    num_foreground = np.sum(mask)\n",
    "    if num_foreground < 50:\n",
    "        print(f\"[{idx}] Warning: Very few foreground pixels in HSV mask: {num_foreground}\")\n",
    "    else:\n",
    "        print(f\"[{idx}] HSV mask foreground pixels: {num_foreground}\")\n",
    "\n",
    "    # STEP 5: Post-processing on the mask\n",
    "    binary = binary_threshold(mask, threshold=20)\n",
    "    opened = opening(binary, kernel_size=3)\n",
    "    cleaned = connected_component_filtering(opened, area_threshold=20)\n",
    "    filled = fill_holes(cleaned)\n",
    "\n",
    "    print(f\"[{idx}] Mask mean: {np.mean(mask)}, min: {np.min(binary)}, max: {np.max(binary)}\")\n",
    "    print(f\"[{idx}] Mask pixels before thresholding: {np.sum(mask)}, after thresholding: {np.sum(binary)}\")\n",
    "    print(f\"[{idx}] After opening: {np.sum(opened)}, After connected-component filtering: {np.sum(cleaned)}\")\n",
    "    print(f\"[{idx}] After filling holes: {np.sum(filled)}\")\n",
    "    \n",
    "    # STEP 6: Edge Detection (Canny) on the filled binary mask\n",
    "    magnitude, direction = sobel_gradients(filled)\n",
    "    nms = non_max_suppression(magnitude, direction)\n",
    "    dt_result, weak, strong = double_thresholding(nms)\n",
    "    edges = edge_tracking_by_hysteresis(dt_result, weak, strong)\n",
    "    \n",
    "    # STEP 7: Geometric Normalization\n",
    "    angle = 0  # Optional: compute based on contours or principal axis\n",
    "    rotated = rotate_image(edges, angle_deg=angle)\n",
    "    normalized = scale_image(rotated, size=(200, 200))\n",
    "    \n",
    "    # Return processed image for feature extraction\n",
    "    return normalized, hsv, filled\n",
    "\n",
    "def extract_features_batch():\n",
    "    \"\"\"\n",
    "    Extract features from all processed images\n",
    "    \n",
    "    Returns:\n",
    "        DataFrame with features added\n",
    "    \"\"\"\n",
    "    # Create columns for features\n",
    "    feature_columns = ['corner_count', 'circularity', 'aspect_ratio', 'extent', 'avg_hue']\n",
    "    for col in feature_columns:\n",
    "        sampled_df[col] = None\n",
    "    \n",
    "    print(\"Extracting features...\")\n",
    "    for idx, row in tqdm(sampled_df.iterrows(), total=len(sampled_df)):\n",
    "        # if not row['processed']:\n",
    "        #     continue\n",
    "            \n",
    "        img_path = os.path.join(\"dataset\", row['Path'])\n",
    "        \n",
    "        try:\n",
    "            # Process the image again\n",
    "            normalized, hsv_img, binary_mask = process_image(img_path, idx=idx)\n",
    "\n",
    "            if np.sum(binary_mask) == 0:\n",
    "                print(f\"[{idx}] Skipping: binary_mask is empty after processing: {img_path}\")\n",
    "                continue\n",
    "\n",
    "            if np.max(normalized) == 0:\n",
    "                print(f\"[{idx}] Warning: normalized image is completely black: {img_path}\")\n",
    "            \n",
    "            if normalized is None:\n",
    "                continue\n",
    "                \n",
    "            # Debug dimensions\n",
    "            if idx % 100 == 0:\n",
    "                print(f\"Debug - Image {idx}:\")\n",
    "                print(f\"  normalized shape: {normalized.shape}\")\n",
    "                print(f\"  hsv_img shape: {hsv_img.shape}\")\n",
    "                print(f\"  binary_mask shape: {binary_mask.shape}\")\n",
    "            \n",
    "            # Check and fix dimensions\n",
    "            # If normalized is grayscale, convert to 3D array\n",
    "            if len(normalized.shape) == 2:\n",
    "                normalized = np.stack([normalized, normalized, normalized], axis=2)\n",
    "                \n",
    "            # Extract features with dimension-safe version\n",
    "            features = extract_features_safe(normalized, binary_mask, hsv_img)\n",
    "            \n",
    "            # Store features in DataFrame\n",
    "            for feature, value in features.items():\n",
    "                sampled_df.at[idx, feature] = value\n",
    "                \n",
    "        except Exception as e:\n",
    "            print(f\"Error extracting features from {img_path}: {str(e)}\")\n",
    "            # Print more debug info for errors\n",
    "            try:\n",
    "                print(f\"  normalized shape: {normalized.shape if normalized is not None else 'None'}\")\n",
    "                print(f\"  hsv_img shape: {hsv_img.shape if hsv_img is not None else 'None'}\")\n",
    "                print(f\"  binary_mask shape: {binary_mask.shape if binary_mask is not None else 'None'}\")\n",
    "            except:\n",
    "                print(\"  Could not print debug info\")\n",
    "    \n",
    "    print(f\"Successfully extracted features from {sampled_df[feature_columns[0]].notna().sum()} images.\")\n",
    "    return sampled_df\n",
    "\n",
    "def extract_features_safe(normalized_img, binary_mask, hsv_img):\n",
    "    \"\"\"\n",
    "    Safe version of extract_features that handles different dimension inputs\n",
    "    \"\"\"\n",
    "    # Check dimensions and fix if needed\n",
    "    if normalized_img is None or binary_mask is None or hsv_img is None:\n",
    "        return {\n",
    "            \"corner_count\": 0,\n",
    "            \"circularity\": 0,\n",
    "            \"aspect_ratio\": 0,\n",
    "            \"extent\": 0,\n",
    "            \"avg_hue\": 0\n",
    "        }\n",
    "    \n",
    "    # Ensure binary_mask is binary\n",
    "    binary = (binary_mask > 0).astype(np.uint8)\n",
    "    \n",
    "    # Convert normalized_img to RGB if it's grayscale\n",
    "    if len(normalized_img.shape) == 2:\n",
    "        # Single channel - convert to 3 channels\n",
    "        normalized_rgb = np.stack([normalized_img, normalized_img, normalized_img], axis=2)\n",
    "    else:\n",
    "        normalized_rgb = normalized_img\n",
    "    \n",
    "    # Calculate grayscale for corner detection\n",
    "    if len(normalized_rgb.shape) == 3 and normalized_rgb.shape[2] >= 3:\n",
    "        gray = np.mean(normalized_rgb[:,:,:3], axis=2).astype(np.float32)\n",
    "    else:\n",
    "        gray = normalized_rgb.astype(np.float32)\n",
    "        \n",
    "    # 1. Corner Count\n",
    "    try:\n",
    "        corners = harris_corner_count(gray)\n",
    "    except Exception as e:\n",
    "        print(f\"Error in corner detection: {e}\")\n",
    "        corners = 0\n",
    "        \n",
    "    # 2. Circularity\n",
    "    area = np.sum(binary)\n",
    "    try:\n",
    "        perimeter = compute_perimeter(binary)\n",
    "        circularity = (4 * np.pi * area) / (perimeter**2) if perimeter > 0 else 0\n",
    "    except Exception as e:\n",
    "        print(f\"Error in circularity calculation: {e}\")\n",
    "        circularity = 0\n",
    "        \n",
    "    # 3. Bounding box and Aspect Ratio\n",
    "    ys, xs = np.where(binary == 1)\n",
    "    if len(xs) == 0 or len(ys) == 0:\n",
    "        aspect_ratio = 0\n",
    "        extent = 0\n",
    "    else:\n",
    "        x_min, x_max = xs.min(), xs.max()\n",
    "        y_min, y_max = ys.min(), ys.max()\n",
    "        width = x_max - x_min + 1\n",
    "        height = y_max - y_min + 1\n",
    "        aspect_ratio = width / height if height > 0 else 0\n",
    "        \n",
    "        # 4. Extent\n",
    "        bbox_area = width * height\n",
    "        extent = area / bbox_area if bbox_area > 0 else 0\n",
    "        \n",
    "    # 5. Average Hue - handle different HSV formats\n",
    "    try:\n",
    "        if len(hsv_img.shape) == 3 and hsv_img.shape[2] >= 3:\n",
    "            # Standard HSV format (H,W,3)\n",
    "            hue = hsv_img[:,:,0]\n",
    "        elif len(hsv_img.shape) == 3 and hsv_img.shape[0] == 3:\n",
    "            # Channel-first format (3,H,W)\n",
    "            hue = hsv_img[0,:,:]\n",
    "        elif len(hsv_img.shape) == 2:\n",
    "            # Already hue channel\n",
    "            hue = hsv_img\n",
    "        else:\n",
    "            hue = np.zeros_like(binary, dtype=float)\n",
    "            \n",
    "        # Calculate average hue where mask is active\n",
    "        if np.any(binary):\n",
    "            avg_hue = np.mean(hue[binary == 1])\n",
    "        else:\n",
    "            avg_hue = 0\n",
    "    except Exception as e:\n",
    "        print(f\"Error in hue calculation: {e}\")\n",
    "        avg_hue = 0\n",
    "        \n",
    "    return {\n",
    "        \"corner_count\": int(corners),\n",
    "        \"circularity\": float(circularity),\n",
    "        \"aspect_ratio\": float(aspect_ratio),\n",
    "        \"extent\": float(extent),\n",
    "        \"avg_hue\": float(avg_hue)\n",
    "    }"
   ]
  },
  {
   "cell_type": "code",
   "execution_count": 33,
   "id": "d2a781d8",
   "metadata": {},
   "outputs": [
    {
     "name": "stderr",
     "output_type": "stream",
     "text": [
      "C:\\Users\\Mam Hifza Tahir\\AppData\\Local\\Temp\\ipykernel_19624\\960625423.py:84: SettingWithCopyWarning: \n",
      "A value is trying to be set on a copy of a slice from a DataFrame.\n",
      "Try using .loc[row_indexer,col_indexer] = value instead\n",
      "\n",
      "See the caveats in the documentation: https://pandas.pydata.org/pandas-docs/stable/user_guide/indexing.html#returning-a-view-versus-a-copy\n",
      "  sampled_df[col] = None\n"
     ]
    },
    {
     "name": "stdout",
     "output_type": "stream",
     "text": [
      "Extracting features...\n"
     ]
    },
    {
     "name": "stderr",
     "output_type": "stream",
     "text": [
      "  0%|          | 0/150 [00:00<?, ?it/s]"
     ]
    },
    {
     "name": "stdout",
     "output_type": "stream",
     "text": [
      "[0] HSV mask foreground pixels: 26010\n",
      "[0] Mask mean: 29.896551724137932, min: 0, max: 255\n",
      "[0] Mask pixels before thresholding: 26010, after thresholding: 26010\n",
      "[0] After opening: 12495, After connected-component filtering: 12495\n",
      "[0] After filling holes: 12495\n",
      "Debug - Image 0:\n",
      "  normalized shape: (200, 200)\n",
      "  hsv_img shape: (30, 29, 3)\n",
      "  binary_mask shape: (30, 29)\n"
     ]
    },
    {
     "name": "stderr",
     "output_type": "stream",
     "text": [
      "  1%|          | 1/150 [00:01<04:18,  1.73s/it]"
     ]
    },
    {
     "name": "stdout",
     "output_type": "stream",
     "text": [
      "[1] HSV mask foreground pixels: 133365\n",
      "[1] Mask mean: 44.10218253968254, min: 0, max: 255\n",
      "[1] Mask pixels before thresholding: 133365, after thresholding: 133365\n",
      "[1] After opening: 130815, After connected-component filtering: 130815\n",
      "[1] After filling holes: 337365\n"
     ]
    },
    {
     "name": "stderr",
     "output_type": "stream",
     "text": [
      "  1%|▏         | 2/150 [00:03<04:01,  1.63s/it]"
     ]
    },
    {
     "name": "stdout",
     "output_type": "stream",
     "text": [
      "[2] HSV mask foreground pixels: 208845\n",
      "[2] Mask mean: 43.23913043478261, min: 0, max: 255\n",
      "[2] Mask pixels before thresholding: 208845, after thresholding: 208845\n",
      "[2] After opening: 172890, After connected-component filtering: 161415\n",
      "[2] After filling holes: 161415\n"
     ]
    },
    {
     "name": "stderr",
     "output_type": "stream",
     "text": [
      "  2%|▏         | 3/150 [00:04<03:54,  1.60s/it]"
     ]
    },
    {
     "name": "stdout",
     "output_type": "stream",
     "text": [
      "[3] HSV mask foreground pixels: 217515\n",
      "[3] Mask mean: 56.64453125, min: 0, max: 255\n",
      "[3] Mask pixels before thresholding: 217515, after thresholding: 217515\n",
      "[3] After opening: 211905, After connected-component filtering: 211905\n",
      "[3] After filling holes: 467415\n"
     ]
    },
    {
     "name": "stderr",
     "output_type": "stream",
     "text": [
      "  3%|▎         | 5/150 [00:06<02:31,  1.04s/it]"
     ]
    },
    {
     "name": "stdout",
     "output_type": "stream",
     "text": [
      "[4] Warning: Very few foreground pixels in HSV mask: 0\n",
      "[4] Mask mean: 0.0, min: 0, max: 0\n",
      "[4] Mask pixels before thresholding: 0, after thresholding: 0\n",
      "[4] After opening: 0, After connected-component filtering: 0\n",
      "[4] After filling holes: 0\n",
      "[4] Skipping: binary_mask is empty after processing: dataset\\Train/0/00000_00002_00000.png\n",
      "[5] HSV mask foreground pixels: 765\n",
      "[5] Mask mean: 0.8225806451612904, min: 0, max: 255\n",
      "[5] Mask pixels before thresholding: 765, after thresholding: 765\n",
      "[5] After opening: 0, After connected-component filtering: 0\n",
      "[5] After filling holes: 0\n"
     ]
    },
    {
     "name": "stderr",
     "output_type": "stream",
     "text": [
      "  4%|▍         | 6/150 [00:06<01:49,  1.31it/s]"
     ]
    },
    {
     "name": "stdout",
     "output_type": "stream",
     "text": [
      "[5] Skipping: binary_mask is empty after processing: dataset\\Train/0/00000_00005_00005.png\n",
      "[6] HSV mask foreground pixels: 82110\n",
      "[6] Mask mean: 56.862880886426595, min: 0, max: 255\n",
      "[6] Mask pixels before thresholding: 82110, after thresholding: 82110\n",
      "[6] After opening: 45135, After connected-component filtering: 45135\n",
      "[6] After filling holes: 45135\n"
     ]
    },
    {
     "name": "stderr",
     "output_type": "stream",
     "text": [
      "  5%|▌         | 8/150 [00:08<01:41,  1.40it/s]"
     ]
    },
    {
     "name": "stdout",
     "output_type": "stream",
     "text": [
      "[7] HSV mask foreground pixels: 9690\n",
      "[7] Mask mean: 7.285714285714286, min: 0, max: 255\n",
      "[7] Mask pixels before thresholding: 9690, after thresholding: 9690\n",
      "[7] After opening: 0, After connected-component filtering: 0\n",
      "[7] After filling holes: 0\n",
      "[7] Skipping: binary_mask is empty after processing: dataset\\Train/0/00000_00006_00002.png\n",
      "[8] HSV mask foreground pixels: 81855\n",
      "[8] Mask mean: 63.15972222222222, min: 0, max: 255\n",
      "[8] Mask pixels before thresholding: 81855, after thresholding: 81855\n",
      "[8] After opening: 70635, After connected-component filtering: 70635\n",
      "[8] After filling holes: 70635\n"
     ]
    },
    {
     "name": "stderr",
     "output_type": "stream",
     "text": [
      "  6%|▌         | 9/150 [00:09<02:07,  1.11it/s]"
     ]
    },
    {
     "name": "stdout",
     "output_type": "stream",
     "text": [
      "[9] HSV mask foreground pixels: 161160\n",
      "[9] Mask mean: 53.29365079365079, min: 0, max: 255\n",
      "[9] Mask pixels before thresholding: 161160, after thresholding: 161160\n",
      "[9] After opening: 149940, After connected-component filtering: 149940\n",
      "[9] After filling holes: 149940\n"
     ]
    },
    {
     "name": "stderr",
     "output_type": "stream",
     "text": [
      "  7%|▋         | 10/150 [00:10<02:26,  1.04s/it]"
     ]
    },
    {
     "name": "stdout",
     "output_type": "stream",
     "text": [
      "[10] HSV mask foreground pixels: 291720\n",
      "[10] Mask mean: 49.90078686281218, min: 0, max: 255\n",
      "[10] Mask pixels before thresholding: 291720, after thresholding: 291720\n",
      "[10] After opening: 289680, After connected-component filtering: 289680\n",
      "[10] After filling holes: 710685\n"
     ]
    },
    {
     "name": "stderr",
     "output_type": "stream",
     "text": [
      "  7%|▋         | 11/150 [00:12<02:56,  1.27s/it]"
     ]
    },
    {
     "name": "stdout",
     "output_type": "stream",
     "text": [
      "[11] HSV mask foreground pixels: 45135\n",
      "[11] Mask mean: 26.21080139372822, min: 0, max: 255\n",
      "[11] Mask pixels before thresholding: 45135, after thresholding: 45135\n",
      "[11] After opening: 23715, After connected-component filtering: 23715\n",
      "[11] After filling holes: 23715\n"
     ]
    },
    {
     "name": "stderr",
     "output_type": "stream",
     "text": [
      "  8%|▊         | 12/150 [00:14<03:10,  1.38s/it]"
     ]
    },
    {
     "name": "stdout",
     "output_type": "stream",
     "text": [
      "[12] HSV mask foreground pixels: 96390\n",
      "[12] Mask mean: 9.937113402061856, min: 0, max: 255\n",
      "[12] Mask pixels before thresholding: 96390, after thresholding: 96390\n",
      "[12] After opening: 18615, After connected-component filtering: 11730\n",
      "[12] After filling holes: 11730\n"
     ]
    },
    {
     "name": "stderr",
     "output_type": "stream",
     "text": [
      "  9%|▊         | 13/150 [00:16<03:44,  1.64s/it]"
     ]
    },
    {
     "name": "stdout",
     "output_type": "stream",
     "text": [
      "[13] HSV mask foreground pixels: 208080\n",
      "[13] Mask mean: 53.43605546995377, min: 0, max: 255\n",
      "[13] Mask pixels before thresholding: 208080, after thresholding: 208080\n",
      "[13] After opening: 198390, After connected-component filtering: 198390\n",
      "[13] After filling holes: 494445\n"
     ]
    },
    {
     "name": "stderr",
     "output_type": "stream",
     "text": [
      "  9%|▉         | 14/150 [00:18<03:40,  1.62s/it]"
     ]
    },
    {
     "name": "stdout",
     "output_type": "stream",
     "text": [
      "[14] HSV mask foreground pixels: 130815\n",
      "[14] Mask mean: 67.56973140495867, min: 0, max: 255\n",
      "[14] Mask pixels before thresholding: 130815, after thresholding: 130815\n",
      "[14] After opening: 126225, After connected-component filtering: 126225\n",
      "[14] After filling holes: 126225\n"
     ]
    },
    {
     "name": "stderr",
     "output_type": "stream",
     "text": [
      " 11%|█         | 16/150 [00:19<02:36,  1.17s/it]"
     ]
    },
    {
     "name": "stdout",
     "output_type": "stream",
     "text": [
      "[15] HSV mask foreground pixels: 38505\n",
      "[15] Mask mean: 25.315581854043394, min: 0, max: 255\n",
      "[15] Mask pixels before thresholding: 38505, after thresholding: 38505\n",
      "[15] After opening: 0, After connected-component filtering: 0\n",
      "[15] After filling holes: 0\n",
      "[15] Skipping: binary_mask is empty after processing: dataset\\Train/0/00000_00002_00013.png\n"
     ]
    },
    {
     "name": "stderr",
     "output_type": "stream",
     "text": [
      " 11%|█▏        | 17/150 [00:20<02:02,  1.09it/s]"
     ]
    },
    {
     "name": "stdout",
     "output_type": "stream",
     "text": [
      "[16] HSV mask foreground pixels: 42840\n",
      "[16] Mask mean: 26.153846153846153, min: 0, max: 255\n",
      "[16] Mask pixels before thresholding: 42840, after thresholding: 42840\n",
      "[16] After opening: 0, After connected-component filtering: 0\n",
      "[16] After filling holes: 0\n",
      "[16] Skipping: binary_mask is empty after processing: dataset\\Train/0/00000_00005_00015.png\n",
      "[17] HSV mask foreground pixels: 203745\n",
      "[17] Mask mean: 84.89375, min: 0, max: 255\n",
      "[17] Mask pixels before thresholding: 203745, after thresholding: 203745\n",
      "[17] After opening: 199665, After connected-component filtering: 199665\n",
      "[17] After filling holes: 199665\n"
     ]
    },
    {
     "name": "stderr",
     "output_type": "stream",
     "text": [
      " 13%|█▎        | 19/150 [00:22<01:52,  1.16it/s]"
     ]
    },
    {
     "name": "stdout",
     "output_type": "stream",
     "text": [
      "[18] HSV mask foreground pixels: 73440\n",
      "[18] Mask mean: 37.09090909090909, min: 0, max: 255\n",
      "[18] Mask pixels before thresholding: 73440, after thresholding: 73440\n",
      "[18] After opening: 18360, After connected-component filtering: 0\n",
      "[18] After filling holes: 0\n",
      "[18] Skipping: binary_mask is empty after processing: dataset\\Train/0/00000_00005_00018.png\n",
      "[19] HSV mask foreground pixels: 51510\n",
      "[19] Mask mean: 59.206896551724135, min: 0, max: 255\n",
      "[19] Mask pixels before thresholding: 51510, after thresholding: 51510\n",
      "[19] After opening: 47430, After connected-component filtering: 47430\n",
      "[19] After filling holes: 47430\n"
     ]
    },
    {
     "name": "stderr",
     "output_type": "stream",
     "text": [
      " 13%|█▎        | 20/150 [00:23<02:17,  1.06s/it]"
     ]
    },
    {
     "name": "stdout",
     "output_type": "stream",
     "text": [
      "[20] HSV mask foreground pixels: 52530\n",
      "[20] Mask mean: 31.249256395002973, min: 0, max: 255\n",
      "[20] Mask pixels before thresholding: 52530, after thresholding: 52530\n",
      "[20] After opening: 19380, After connected-component filtering: 12495\n",
      "[20] After filling holes: 12495\n"
     ]
    },
    {
     "name": "stderr",
     "output_type": "stream",
     "text": [
      " 14%|█▍        | 21/150 [00:25<02:36,  1.21s/it]"
     ]
    },
    {
     "name": "stdout",
     "output_type": "stream",
     "text": [
      "[21] HSV mask foreground pixels: 167790\n",
      "[21] Mask mean: 64.53461538461538, min: 0, max: 255\n",
      "[21] Mask pixels before thresholding: 167790, after thresholding: 167790\n",
      "[21] After opening: 157335, After connected-component filtering: 157335\n",
      "[21] After filling holes: 157335\n"
     ]
    },
    {
     "name": "stderr",
     "output_type": "stream",
     "text": [
      " 15%|█▍        | 22/150 [00:26<02:55,  1.37s/it]"
     ]
    },
    {
     "name": "stdout",
     "output_type": "stream",
     "text": [
      "[22] HSV mask foreground pixels: 523515\n",
      "[22] Mask mean: 55.106842105263155, min: 0, max: 255\n",
      "[22] Mask pixels before thresholding: 523515, after thresholding: 523515\n",
      "[22] After opening: 488835, After connected-component filtering: 488835\n",
      "[22] After filling holes: 1183710\n"
     ]
    },
    {
     "name": "stderr",
     "output_type": "stream",
     "text": [
      " 15%|█▌        | 23/150 [00:29<03:43,  1.76s/it]"
     ]
    },
    {
     "name": "stdout",
     "output_type": "stream",
     "text": [
      "[23] HSV mask foreground pixels: 94350\n",
      "[23] Mask mean: 37.74, min: 0, max: 255\n",
      "[23] Mask pixels before thresholding: 94350, after thresholding: 94350\n",
      "[23] After opening: 93840, After connected-component filtering: 93840\n",
      "[23] After filling holes: 258315\n"
     ]
    },
    {
     "name": "stderr",
     "output_type": "stream",
     "text": [
      " 16%|█▌        | 24/150 [00:31<03:37,  1.73s/it]"
     ]
    },
    {
     "name": "stdout",
     "output_type": "stream",
     "text": [
      "[24] HSV mask foreground pixels: 79815\n",
      "[24] Mask mean: 36.91720629047178, min: 0, max: 255\n",
      "[24] Mask pixels before thresholding: 79815, after thresholding: 79815\n",
      "[24] After opening: 77010, After connected-component filtering: 77010\n",
      "[24] After filling holes: 77010\n"
     ]
    },
    {
     "name": "stderr",
     "output_type": "stream",
     "text": [
      " 17%|█▋        | 25/150 [00:34<04:26,  2.13s/it]"
     ]
    },
    {
     "name": "stdout",
     "output_type": "stream",
     "text": [
      "[25] HSV mask foreground pixels: 380205\n",
      "[25] Mask mean: 53.339646464646464, min: 0, max: 255\n",
      "[25] Mask pixels before thresholding: 380205, after thresholding: 380205\n",
      "[25] After opening: 368985, After connected-component filtering: 368985\n",
      "[25] After filling holes: 895305\n"
     ]
    },
    {
     "name": "stderr",
     "output_type": "stream",
     "text": [
      " 17%|█▋        | 26/150 [00:38<05:40,  2.75s/it]"
     ]
    },
    {
     "name": "stdout",
     "output_type": "stream",
     "text": [
      "[26] HSV mask foreground pixels: 527850\n",
      "[26] Mask mean: 72.20930232558139, min: 0, max: 255\n",
      "[26] Mask pixels before thresholding: 527850, after thresholding: 527850\n",
      "[26] After opening: 517650, After connected-component filtering: 517650\n",
      "[26] After filling holes: 1042185\n"
     ]
    },
    {
     "name": "stderr",
     "output_type": "stream",
     "text": [
      " 18%|█▊        | 27/150 [00:42<06:32,  3.19s/it]"
     ]
    },
    {
     "name": "stdout",
     "output_type": "stream",
     "text": [
      "[27] HSV mask foreground pixels: 197370\n",
      "[27] Mask mean: 53.09927360774818, min: 0, max: 255\n",
      "[27] Mask pixels before thresholding: 197370, after thresholding: 197370\n",
      "[27] After opening: 185895, After connected-component filtering: 185895\n",
      "[27] After filling holes: 470730\n"
     ]
    },
    {
     "name": "stderr",
     "output_type": "stream",
     "text": [
      " 19%|█▊        | 28/150 [00:45<06:34,  3.23s/it]"
     ]
    },
    {
     "name": "stdout",
     "output_type": "stream",
     "text": [
      "[28] HSV mask foreground pixels: 145605\n",
      "[28] Mask mean: 71.93922924901186, min: 0, max: 255\n",
      "[28] Mask pixels before thresholding: 145605, after thresholding: 145605\n",
      "[28] After opening: 138465, After connected-component filtering: 138465\n",
      "[28] After filling holes: 138465\n"
     ]
    },
    {
     "name": "stderr",
     "output_type": "stream",
     "text": [
      " 19%|█▉        | 29/150 [00:49<06:29,  3.22s/it]"
     ]
    },
    {
     "name": "stdout",
     "output_type": "stream",
     "text": [
      "[29] HSV mask foreground pixels: 177990\n",
      "[29] Mask mean: 52.01344243132671, min: 0, max: 255\n",
      "[29] Mask pixels before thresholding: 177990, after thresholding: 177990\n",
      "[29] After opening: 177480, After connected-component filtering: 177480\n",
      "[29] After filling holes: 414630\n"
     ]
    },
    {
     "name": "stderr",
     "output_type": "stream",
     "text": [
      " 20%|██        | 30/150 [00:52<06:33,  3.28s/it]"
     ]
    },
    {
     "name": "stdout",
     "output_type": "stream",
     "text": [
      "[30] HSV mask foreground pixels: 72930\n",
      "[30] Mask mean: 32.35581188997338, min: 0, max: 255\n",
      "[30] Mask pixels before thresholding: 72930, after thresholding: 72930\n",
      "[30] After opening: 48195, After connected-component filtering: 41310\n",
      "[30] After filling holes: 41310\n"
     ]
    },
    {
     "name": "stderr",
     "output_type": "stream",
     "text": [
      " 21%|██▏       | 32/150 [00:56<04:37,  2.35s/it]"
     ]
    },
    {
     "name": "stdout",
     "output_type": "stream",
     "text": [
      "[31] HSV mask foreground pixels: 19890\n",
      "[31] Mask mean: 17.727272727272727, min: 0, max: 255\n",
      "[31] Mask pixels before thresholding: 19890, after thresholding: 19890\n",
      "[31] After opening: 0, After connected-component filtering: 0\n",
      "[31] After filling holes: 0\n",
      "[31] Skipping: binary_mask is empty after processing: dataset\\Train/0/00000_00002_00009.png\n",
      "[32] HSV mask foreground pixels: 52020\n",
      "[32] Mask mean: 37.99853907962016, min: 0, max: 255\n",
      "[32] Mask pixels before thresholding: 52020, after thresholding: 52020\n",
      "[32] After opening: 36465, After connected-component filtering: 25755\n",
      "[32] After filling holes: 25755\n"
     ]
    },
    {
     "name": "stderr",
     "output_type": "stream",
     "text": [
      " 23%|██▎       | 34/150 [00:59<03:29,  1.80s/it]"
     ]
    },
    {
     "name": "stdout",
     "output_type": "stream",
     "text": [
      "[33] HSV mask foreground pixels: 12750\n",
      "[33] Mask mean: 12.852822580645162, min: 0, max: 255\n",
      "[33] Mask pixels before thresholding: 12750, after thresholding: 12750\n",
      "[33] After opening: 0, After connected-component filtering: 0\n",
      "[33] After filling holes: 0\n",
      "[33] Skipping: binary_mask is empty after processing: dataset\\Train/0/00000_00002_00007.png\n",
      "[34] HSV mask foreground pixels: 56100\n",
      "[34] Mask mean: 35.96153846153846, min: 0, max: 255\n",
      "[34] Mask pixels before thresholding: 56100, after thresholding: 56100\n",
      "[34] After opening: 37995, After connected-component filtering: 35700\n",
      "[34] After filling holes: 35700\n"
     ]
    },
    {
     "name": "stderr",
     "output_type": "stream",
     "text": [
      " 23%|██▎       | 35/150 [01:02<04:09,  2.17s/it]"
     ]
    },
    {
     "name": "stdout",
     "output_type": "stream",
     "text": [
      "[35] HSV mask foreground pixels: 246840\n",
      "[35] Mask mean: 48.30528375733855, min: 0, max: 255\n",
      "[35] Mask pixels before thresholding: 246840, after thresholding: 246840\n",
      "[35] After opening: 246075, After connected-component filtering: 246075\n",
      "[35] After filling holes: 610725\n"
     ]
    },
    {
     "name": "stderr",
     "output_type": "stream",
     "text": [
      " 25%|██▍       | 37/150 [01:05<03:29,  1.86s/it]"
     ]
    },
    {
     "name": "stdout",
     "output_type": "stream",
     "text": [
      "[36] HSV mask foreground pixels: 9945\n",
      "[36] Mask mean: 8.125, min: 0, max: 255\n",
      "[36] Mask pixels before thresholding: 9945, after thresholding: 9945\n",
      "[36] After opening: 0, After connected-component filtering: 0\n",
      "[36] After filling holes: 0\n",
      "[36] Skipping: binary_mask is empty after processing: dataset\\Train/0/00000_00006_00000.png\n",
      "[37] HSV mask foreground pixels: 39015\n",
      "[37] Mask mean: 40.598335067637876, min: 0, max: 255\n",
      "[37] Mask pixels before thresholding: 39015, after thresholding: 39015\n",
      "[37] After opening: 24225, After connected-component filtering: 24225\n",
      "[37] After filling holes: 24225\n"
     ]
    },
    {
     "name": "stderr",
     "output_type": "stream",
     "text": [
      " 25%|██▌       | 38/150 [01:08<04:02,  2.16s/it]"
     ]
    },
    {
     "name": "stdout",
     "output_type": "stream",
     "text": [
      "[38] HSV mask foreground pixels: 173655\n",
      "[38] Mask mean: 49.886526860097675, min: 0, max: 255\n",
      "[38] Mask pixels before thresholding: 173655, after thresholding: 173655\n",
      "[38] After opening: 158355, After connected-component filtering: 154020\n",
      "[38] After filling holes: 154020\n"
     ]
    },
    {
     "name": "stderr",
     "output_type": "stream",
     "text": [
      " 27%|██▋       | 40/150 [01:12<03:26,  1.88s/it]"
     ]
    },
    {
     "name": "stdout",
     "output_type": "stream",
     "text": [
      "[39] HSV mask foreground pixels: 4590\n",
      "[39] Mask mean: 4.090909090909091, min: 0, max: 255\n",
      "[39] Mask pixels before thresholding: 4590, after thresholding: 4590\n",
      "[39] After opening: 0, After connected-component filtering: 0\n",
      "[39] After filling holes: 0\n",
      "[39] Skipping: binary_mask is empty after processing: dataset\\Train/0/00000_00005_00009.png\n",
      "[40] HSV mask foreground pixels: 153510\n",
      "[40] Mask mean: 48.122257053291534, min: 0, max: 255\n",
      "[40] Mask pixels before thresholding: 153510, after thresholding: 153510\n",
      "[40] After opening: 145860, After connected-component filtering: 145860\n",
      "[40] After filling holes: 145860\n"
     ]
    },
    {
     "name": "stderr",
     "output_type": "stream",
     "text": [
      " 28%|██▊       | 42/150 [01:16<03:10,  1.76s/it]"
     ]
    },
    {
     "name": "stdout",
     "output_type": "stream",
     "text": [
      "[41] HSV mask foreground pixels: 16065\n",
      "[41] Mask mean: 12.405405405405405, min: 0, max: 255\n",
      "[41] Mask pixels before thresholding: 16065, after thresholding: 16065\n",
      "[41] After opening: 0, After connected-component filtering: 0\n",
      "[41] After filling holes: 0\n",
      "[41] Skipping: binary_mask is empty after processing: dataset\\Train/0/00000_00005_00012.png\n"
     ]
    },
    {
     "name": "stderr",
     "output_type": "stream",
     "text": [
      " 29%|██▊       | 43/150 [01:16<02:18,  1.29s/it]"
     ]
    },
    {
     "name": "stdout",
     "output_type": "stream",
     "text": [
      "[42] Warning: Very few foreground pixels in HSV mask: 0\n",
      "[42] Mask mean: 0.0, min: 0, max: 0\n",
      "[42] Mask pixels before thresholding: 0, after thresholding: 0\n",
      "[42] After opening: 0, After connected-component filtering: 0\n",
      "[42] After filling holes: 0\n",
      "[42] Skipping: binary_mask is empty after processing: dataset\\Train/0/00000_00005_00000.png\n",
      "[43] HSV mask foreground pixels: 32640\n"
     ]
    },
    {
     "name": "stderr",
     "output_type": "stream",
     "text": [
      " 29%|██▉       | 44/150 [01:16<01:43,  1.02it/s]"
     ]
    },
    {
     "name": "stdout",
     "output_type": "stream",
     "text": [
      "[43] Mask mean: 30.90909090909091, min: 0, max: 255\n",
      "[43] Mask pixels before thresholding: 32640, after thresholding: 32640\n",
      "[43] After opening: 6885, After connected-component filtering: 0\n",
      "[43] After filling holes: 0\n",
      "[43] Skipping: binary_mask is empty after processing: dataset\\Train/0/00000_00003_00006.png\n",
      "[44] HSV mask foreground pixels: 284070\n",
      "[44] Mask mean: 65.34851621808143, min: 0, max: 255\n",
      "[44] Mask pixels before thresholding: 284070, after thresholding: 284070\n",
      "[44] After opening: 261120, After connected-component filtering: 259590\n",
      "[44] After filling holes: 543660\n"
     ]
    },
    {
     "name": "stderr",
     "output_type": "stream",
     "text": [
      " 31%|███       | 46/150 [01:21<02:38,  1.53s/it]"
     ]
    },
    {
     "name": "stdout",
     "output_type": "stream",
     "text": [
      "[45] HSV mask foreground pixels: 17595\n",
      "[45] Mask mean: 17.736895161290324, min: 0, max: 255\n",
      "[45] Mask pixels before thresholding: 17595, after thresholding: 17595\n",
      "[45] After opening: 0, After connected-component filtering: 0\n",
      "[45] After filling holes: 0\n",
      "[45] Skipping: binary_mask is empty after processing: dataset\\Train/0/00000_00002_00008.png\n",
      "[46] HSV mask foreground pixels: 1275\n"
     ]
    },
    {
     "name": "stderr",
     "output_type": "stream",
     "text": [
      " 31%|███▏      | 47/150 [01:21<01:57,  1.14s/it]"
     ]
    },
    {
     "name": "stdout",
     "output_type": "stream",
     "text": [
      "[46] Mask mean: 1.3739224137931034, min: 0, max: 255\n",
      "[46] Mask pixels before thresholding: 1275, after thresholding: 1275\n",
      "[46] After opening: 0, After connected-component filtering: 0\n",
      "[46] After filling holes: 0\n",
      "[46] Skipping: binary_mask is empty after processing: dataset\\Train/0/00000_00005_00006.png\n",
      "[47] HSV mask foreground pixels: 230775\n",
      "[47] Mask mean: 32.71084337349398, min: 0, max: 255\n",
      "[47] Mask pixels before thresholding: 230775, after thresholding: 230775\n",
      "[47] After opening: 207060, After connected-component filtering: 207060\n",
      "[47] After filling holes: 207060\n"
     ]
    },
    {
     "name": "stderr",
     "output_type": "stream",
     "text": [
      " 32%|███▏      | 48/150 [01:25<03:26,  2.02s/it]"
     ]
    },
    {
     "name": "stdout",
     "output_type": "stream",
     "text": [
      "[48] HSV mask foreground pixels: 53295\n",
      "[48] Mask mean: 42.29761904761905, min: 0, max: 255\n",
      "[48] Mask pixels before thresholding: 53295, after thresholding: 53295\n",
      "[48] After opening: 33660, After connected-component filtering: 33660\n",
      "[48] After filling holes: 33660\n"
     ]
    },
    {
     "name": "stderr",
     "output_type": "stream",
     "text": [
      " 33%|███▎      | 49/150 [01:28<03:49,  2.27s/it]"
     ]
    },
    {
     "name": "stdout",
     "output_type": "stream",
     "text": [
      "[49] HSV mask foreground pixels: 44115\n",
      "[49] Mask mean: 40.509641873278234, min: 0, max: 255\n",
      "[49] Mask pixels before thresholding: 44115, after thresholding: 44115\n",
      "[49] After opening: 20400, After connected-component filtering: 18105\n",
      "[49] After filling holes: 18105\n"
     ]
    },
    {
     "name": "stderr",
     "output_type": "stream",
     "text": [
      " 33%|███▎      | 50/150 [01:31<04:07,  2.47s/it]"
     ]
    },
    {
     "name": "stdout",
     "output_type": "stream",
     "text": [
      "[50] HSV mask foreground pixels: 433755\n",
      "[50] Mask mean: 75.09608725761773, min: 0, max: 255\n",
      "[50] Mask pixels before thresholding: 433755, after thresholding: 433755\n",
      "[50] After opening: 421260, After connected-component filtering: 421260\n",
      "[50] After filling holes: 825435\n"
     ]
    },
    {
     "name": "stderr",
     "output_type": "stream",
     "text": [
      " 35%|███▍      | 52/150 [01:35<03:16,  2.00s/it]"
     ]
    },
    {
     "name": "stdout",
     "output_type": "stream",
     "text": [
      "[51] HSV mask foreground pixels: 8925\n",
      "[51] Mask mean: 6.3568376068376065, min: 0, max: 255\n",
      "[51] Mask pixels before thresholding: 8925, after thresholding: 8925\n",
      "[51] After opening: 0, After connected-component filtering: 0\n",
      "[51] After filling holes: 0\n",
      "[51] Skipping: binary_mask is empty after processing: dataset\\Train/0/00000_00006_00003.png\n",
      "[52] HSV mask foreground pixels: 247605\n",
      "[52] Mask mean: 34.67857142857143, min: 0, max: 255\n",
      "[52] Mask pixels before thresholding: 247605, after thresholding: 247605\n",
      "[52] After opening: 234600, After connected-component filtering: 234600\n",
      "[52] After filling holes: 234600\n"
     ]
    },
    {
     "name": "stderr",
     "output_type": "stream",
     "text": [
      " 35%|███▌      | 53/150 [01:37<03:14,  2.01s/it]"
     ]
    },
    {
     "name": "stdout",
     "output_type": "stream",
     "text": [
      "[53] HSV mask foreground pixels: 1534845\n",
      "[53] Mask mean: 72.01787725225225, min: 0, max: 255\n",
      "[53] Mask pixels before thresholding: 1534845, after thresholding: 1534845\n",
      "[53] After opening: 1534335, After connected-component filtering: 1534335\n",
      "[53] After filling holes: 3075045\n"
     ]
    },
    {
     "name": "stderr",
     "output_type": "stream",
     "text": [
      " 36%|███▌      | 54/150 [01:40<03:55,  2.45s/it]"
     ]
    },
    {
     "name": "stdout",
     "output_type": "stream",
     "text": [
      "[54] HSV mask foreground pixels: 236385\n",
      "[54] Mask mean: 87.45283018867924, min: 0, max: 255\n",
      "[54] Mask pixels before thresholding: 236385, after thresholding: 236385\n",
      "[54] After opening: 233070, After connected-component filtering: 233070\n",
      "[54] After filling holes: 233070\n"
     ]
    },
    {
     "name": "stderr",
     "output_type": "stream",
     "text": [
      " 37%|███▋      | 55/150 [01:42<03:29,  2.21s/it]"
     ]
    },
    {
     "name": "stdout",
     "output_type": "stream",
     "text": [
      "[55] HSV mask foreground pixels: 275910\n",
      "[55] Mask mean: 51.09444444444444, min: 0, max: 255\n",
      "[55] Mask pixels before thresholding: 275910, after thresholding: 275910\n",
      "[55] After opening: 273870, After connected-component filtering: 273870\n",
      "[55] After filling holes: 678810\n"
     ]
    },
    {
     "name": "stderr",
     "output_type": "stream",
     "text": [
      " 37%|███▋      | 56/150 [01:44<03:25,  2.18s/it]"
     ]
    },
    {
     "name": "stdout",
     "output_type": "stream",
     "text": [
      "[56] HSV mask foreground pixels: 333030\n",
      "[56] Mask mean: 52.744694330060184, min: 0, max: 255\n",
      "[56] Mask pixels before thresholding: 333030, after thresholding: 333030\n",
      "[56] After opening: 326400, After connected-component filtering: 326400\n",
      "[56] After filling holes: 795600\n"
     ]
    },
    {
     "name": "stderr",
     "output_type": "stream",
     "text": [
      " 39%|███▊      | 58/150 [01:47<02:29,  1.63s/it]"
     ]
    },
    {
     "name": "stdout",
     "output_type": "stream",
     "text": [
      "[57] HSV mask foreground pixels: 4590\n",
      "[57] Mask mean: 5.1, min: 0, max: 255\n",
      "[57] Mask pixels before thresholding: 4590, after thresholding: 4590\n",
      "[57] After opening: 0, After connected-component filtering: 0\n",
      "[57] After filling holes: 0\n",
      "[57] Skipping: binary_mask is empty after processing: dataset\\Train/0/00000_00002_00006.png\n",
      "[58] HSV mask foreground pixels: 6885\n",
      "[58] Mask mean: 7.164412070759625, min: 0, max: 255\n",
      "[58] Mask pixels before thresholding: 6885, after thresholding: 6885\n",
      "[58] After opening: 0, After connected-component filtering: 0\n",
      "[58] After filling holes: 0\n"
     ]
    },
    {
     "name": "stderr",
     "output_type": "stream",
     "text": [
      " 39%|███▉      | 59/150 [01:47<01:48,  1.19s/it]"
     ]
    },
    {
     "name": "stdout",
     "output_type": "stream",
     "text": [
      "[58] Skipping: binary_mask is empty after processing: dataset\\Train/0/00000_00002_00005.png\n",
      "[59] HSV mask foreground pixels: 52275\n",
      "[59] Mask mean: 54.39646201873049, min: 0, max: 255\n",
      "[59] Mask pixels before thresholding: 52275, after thresholding: 52275\n",
      "[59] After opening: 19890, After connected-component filtering: 19890\n",
      "[59] After filling holes: 19890\n"
     ]
    },
    {
     "name": "stderr",
     "output_type": "stream",
     "text": [
      " 40%|████      | 60/150 [01:48<01:57,  1.31s/it]"
     ]
    },
    {
     "name": "stdout",
     "output_type": "stream",
     "text": [
      "[60] HSV mask foreground pixels: 492915\n",
      "[60] Mask mean: 57.05034722222222, min: 0, max: 255\n",
      "[60] Mask pixels before thresholding: 492915, after thresholding: 492915\n",
      "[60] After opening: 454920, After connected-component filtering: 454920\n",
      "[60] After filling holes: 1097265\n"
     ]
    },
    {
     "name": "stderr",
     "output_type": "stream",
     "text": [
      " 41%|████      | 61/150 [01:52<03:03,  2.06s/it]"
     ]
    },
    {
     "name": "stdout",
     "output_type": "stream",
     "text": [
      "[61] HSV mask foreground pixels: 187170\n",
      "[61] Mask mean: 65.39832285115304, min: 0, max: 255\n",
      "[61] Mask pixels before thresholding: 187170, after thresholding: 187170\n",
      "[61] After opening: 175950, After connected-component filtering: 175950\n",
      "[61] After filling holes: 175950\n"
     ]
    },
    {
     "name": "stderr",
     "output_type": "stream",
     "text": [
      " 41%|████▏     | 62/150 [01:54<03:01,  2.07s/it]"
     ]
    },
    {
     "name": "stdout",
     "output_type": "stream",
     "text": [
      "[62] HSV mask foreground pixels: 33915\n",
      "[62] Mask mean: 33.152492668621704, min: 0, max: 255\n",
      "[62] Mask pixels before thresholding: 33915, after thresholding: 33915\n",
      "[62] After opening: 8415, After connected-component filtering: 5355\n",
      "[62] After filling holes: 5355\n"
     ]
    },
    {
     "name": "stderr",
     "output_type": "stream",
     "text": [
      " 42%|████▏     | 63/150 [01:56<02:41,  1.85s/it]"
     ]
    },
    {
     "name": "stdout",
     "output_type": "stream",
     "text": [
      "[63] HSV mask foreground pixels: 227205\n",
      "[63] Mask mean: 52.267080745341616, min: 0, max: 255\n",
      "[63] Mask pixels before thresholding: 227205, after thresholding: 227205\n",
      "[63] After opening: 218025, After connected-component filtering: 218025\n",
      "[63] After filling holes: 536520\n"
     ]
    },
    {
     "name": "stderr",
     "output_type": "stream",
     "text": [
      " 43%|████▎     | 64/150 [01:57<02:31,  1.76s/it]"
     ]
    },
    {
     "name": "stdout",
     "output_type": "stream",
     "text": [
      "[64] HSV mask foreground pixels: 122145\n",
      "[64] Mask mean: 47.9, min: 0, max: 255\n",
      "[64] Mask pixels before thresholding: 122145, after thresholding: 122145\n",
      "[64] After opening: 104040, After connected-component filtering: 101745\n",
      "[64] After filling holes: 254745\n"
     ]
    },
    {
     "name": "stderr",
     "output_type": "stream",
     "text": [
      " 43%|████▎     | 65/150 [01:59<02:40,  1.89s/it]"
     ]
    },
    {
     "name": "stdout",
     "output_type": "stream",
     "text": [
      "[65] HSV mask foreground pixels: 200175\n",
      "[65] Mask mean: 27.06896551724138, min: 0, max: 255\n",
      "[65] Mask pixels before thresholding: 200175, after thresholding: 200175\n",
      "[65] After opening: 106080, After connected-component filtering: 103785\n",
      "[65] After filling holes: 103785\n"
     ]
    },
    {
     "name": "stderr",
     "output_type": "stream",
     "text": [
      " 44%|████▍     | 66/150 [02:04<03:37,  2.59s/it]"
     ]
    },
    {
     "name": "stdout",
     "output_type": "stream",
     "text": [
      "[66] HSV mask foreground pixels: 51510\n",
      "[66] Mask mean: 4.500655307994758, min: 0, max: 255\n",
      "[66] Mask pixels before thresholding: 51510, after thresholding: 51510\n",
      "[66] After opening: 0, After connected-component filtering: 0\n",
      "[66] After filling holes: 0\n"
     ]
    },
    {
     "name": "stderr",
     "output_type": "stream",
     "text": [
      " 45%|████▍     | 67/150 [02:07<04:02,  2.92s/it]"
     ]
    },
    {
     "name": "stdout",
     "output_type": "stream",
     "text": [
      "[66] Skipping: binary_mask is empty after processing: dataset\\Train/0/00000_00006_00028.png\n",
      "[67] HSV mask foreground pixels: 25500\n",
      "[67] Mask mean: 28.333333333333332, min: 0, max: 255\n",
      "[67] Mask pixels before thresholding: 25500, after thresholding: 25500\n",
      "[67] After opening: 14280, After connected-component filtering: 11985\n",
      "[67] After filling holes: 11985\n"
     ]
    },
    {
     "name": "stderr",
     "output_type": "stream",
     "text": [
      " 45%|████▌     | 68/150 [02:11<04:07,  3.02s/it]"
     ]
    },
    {
     "name": "stdout",
     "output_type": "stream",
     "text": [
      "[68] HSV mask foreground pixels: 94605\n",
      "[68] Mask mean: 67.28662873399716, min: 0, max: 255\n",
      "[68] Mask pixels before thresholding: 94605, after thresholding: 94605\n",
      "[68] After opening: 89505, After connected-component filtering: 89505\n",
      "[68] After filling holes: 89505\n"
     ]
    },
    {
     "name": "stderr",
     "output_type": "stream",
     "text": [
      " 46%|████▌     | 69/150 [02:14<04:15,  3.15s/it]"
     ]
    },
    {
     "name": "stdout",
     "output_type": "stream",
     "text": [
      "[69] HSV mask foreground pixels: 32130\n",
      "[69] Mask mean: 31.376953125, min: 0, max: 255\n",
      "[69] Mask pixels before thresholding: 32130, after thresholding: 32130\n",
      "[69] After opening: 18360, After connected-component filtering: 8925\n",
      "[69] After filling holes: 8925\n"
     ]
    },
    {
     "name": "stderr",
     "output_type": "stream",
     "text": [
      " 47%|████▋     | 70/150 [02:17<04:09,  3.12s/it]"
     ]
    },
    {
     "name": "stdout",
     "output_type": "stream",
     "text": [
      "[70] HSV mask foreground pixels: 1161270\n",
      "[70] Mask mean: 73.74079248158496, min: 0, max: 255\n",
      "[70] Mask pixels before thresholding: 1161270, after thresholding: 1161270\n",
      "[70] After opening: 1159485, After connected-component filtering: 1159485\n",
      "[70] After filling holes: 2263125\n"
     ]
    },
    {
     "name": "stderr",
     "output_type": "stream",
     "text": [
      " 47%|████▋     | 71/150 [02:23<05:00,  3.81s/it]"
     ]
    },
    {
     "name": "stdout",
     "output_type": "stream",
     "text": [
      "[71] HSV mask foreground pixels: 70890\n",
      "[71] Mask mean: 54.699074074074076, min: 0, max: 255\n",
      "[71] Mask pixels before thresholding: 70890, after thresholding: 70890\n",
      "[71] After opening: 43350, After connected-component filtering: 43350\n",
      "[71] After filling holes: 43350\n"
     ]
    },
    {
     "name": "stderr",
     "output_type": "stream",
     "text": [
      " 48%|████▊     | 72/150 [02:26<04:38,  3.57s/it]"
     ]
    },
    {
     "name": "stdout",
     "output_type": "stream",
     "text": [
      "[72] HSV mask foreground pixels: 185130\n",
      "[72] Mask mean: 38.32919254658385, min: 0, max: 255\n",
      "[72] Mask pixels before thresholding: 185130, after thresholding: 185130\n",
      "[72] After opening: 161925, After connected-component filtering: 161925\n",
      "[72] After filling holes: 161925\n"
     ]
    },
    {
     "name": "stderr",
     "output_type": "stream",
     "text": [
      " 49%|████▉     | 74/150 [02:29<03:12,  2.53s/it]"
     ]
    },
    {
     "name": "stdout",
     "output_type": "stream",
     "text": [
      "[73] HSV mask foreground pixels: 33150\n",
      "[73] Mask mean: 30.44077134986226, min: 0, max: 255\n",
      "[73] Mask pixels before thresholding: 33150, after thresholding: 33150\n",
      "[73] After opening: 0, After connected-component filtering: 0\n",
      "[73] After filling holes: 0\n",
      "[73] Skipping: binary_mask is empty after processing: dataset\\Train/0/00000_00003_00008.png\n",
      "[74] HSV mask foreground pixels: 404175\n",
      "[74] Mask mean: 54.677353896103895, min: 0, max: 255\n",
      "[74] Mask pixels before thresholding: 404175, after thresholding: 404175\n",
      "[74] After opening: 386070, After connected-component filtering: 386070\n",
      "[74] After filling holes: 931515\n"
     ]
    },
    {
     "name": "stderr",
     "output_type": "stream",
     "text": [
      " 50%|█████     | 75/150 [02:33<03:44,  2.99s/it]"
     ]
    },
    {
     "name": "stdout",
     "output_type": "stream",
     "text": [
      "[75] HSV mask foreground pixels: 135915\n",
      "[75] Mask mean: 67.11851851851851, min: 0, max: 255\n",
      "[75] Mask pixels before thresholding: 135915, after thresholding: 135915\n",
      "[75] After opening: 109650, After connected-component filtering: 103530\n",
      "[75] After filling holes: 103530\n"
     ]
    },
    {
     "name": "stderr",
     "output_type": "stream",
     "text": [
      " 51%|█████     | 76/150 [02:37<03:55,  3.19s/it]"
     ]
    },
    {
     "name": "stdout",
     "output_type": "stream",
     "text": [
      "[76] HSV mask foreground pixels: 289680\n",
      "[76] Mask mean: 33.13658201784489, min: 0, max: 255\n",
      "[76] Mask pixels before thresholding: 289680, after thresholding: 289680\n",
      "[76] After opening: 272850, After connected-component filtering: 272850\n",
      "[76] After filling holes: 272850\n"
     ]
    },
    {
     "name": "stderr",
     "output_type": "stream",
     "text": [
      " 51%|█████▏    | 77/150 [02:39<03:35,  2.95s/it]"
     ]
    },
    {
     "name": "stdout",
     "output_type": "stream",
     "text": [
      "[77] HSV mask foreground pixels: 101490\n",
      "[77] Mask mean: 44.068606165870605, min: 0, max: 255\n",
      "[77] Mask pixels before thresholding: 101490, after thresholding: 101490\n",
      "[77] After opening: 73185, After connected-component filtering: 58395\n",
      "[77] After filling holes: 58395\n"
     ]
    },
    {
     "name": "stderr",
     "output_type": "stream",
     "text": [
      " 52%|█████▏    | 78/150 [02:41<03:09,  2.64s/it]"
     ]
    },
    {
     "name": "stdout",
     "output_type": "stream",
     "text": [
      "[78] HSV mask foreground pixels: 59415\n",
      "[78] Mask mean: 30.68956611570248, min: 0, max: 255\n",
      "[78] Mask pixels before thresholding: 59415, after thresholding: 59415\n",
      "[78] After opening: 36720, After connected-component filtering: 20655\n",
      "[78] After filling holes: 20655\n"
     ]
    },
    {
     "name": "stderr",
     "output_type": "stream",
     "text": [
      " 53%|█████▎    | 79/150 [02:43<02:46,  2.34s/it]"
     ]
    },
    {
     "name": "stdout",
     "output_type": "stream",
     "text": [
      "[79] HSV mask foreground pixels: 63240\n",
      "[79] Mask mean: 50.19047619047619, min: 0, max: 255\n",
      "[79] Mask pixels before thresholding: 63240, after thresholding: 63240\n",
      "[79] After opening: 41055, After connected-component filtering: 41055\n",
      "[79] After filling holes: 41055\n"
     ]
    },
    {
     "name": "stderr",
     "output_type": "stream",
     "text": [
      " 53%|█████▎    | 80/150 [02:44<02:26,  2.10s/it]"
     ]
    },
    {
     "name": "stdout",
     "output_type": "stream",
     "text": [
      "[80] HSV mask foreground pixels: 253215\n",
      "[80] Mask mean: 41.681481481481484, min: 0, max: 255\n",
      "[80] Mask pixels before thresholding: 253215, after thresholding: 253215\n",
      "[80] After opening: 211650, After connected-component filtering: 208590\n",
      "[80] After filling holes: 208590\n"
     ]
    },
    {
     "name": "stderr",
     "output_type": "stream",
     "text": [
      " 54%|█████▍    | 81/150 [02:46<02:19,  2.02s/it]"
     ]
    },
    {
     "name": "stdout",
     "output_type": "stream",
     "text": [
      "[81] HSV mask foreground pixels: 96645\n",
      "[81] Mask mean: 42.839095744680854, min: 0, max: 255\n",
      "[81] Mask pixels before thresholding: 96645, after thresholding: 96645\n",
      "[81] After opening: 81855, After connected-component filtering: 74205\n",
      "[81] After filling holes: 74205\n"
     ]
    },
    {
     "name": "stderr",
     "output_type": "stream",
     "text": [
      " 55%|█████▍    | 82/150 [02:48<02:05,  1.84s/it]"
     ]
    },
    {
     "name": "stdout",
     "output_type": "stream",
     "text": [
      "[82] HSV mask foreground pixels: 188190\n",
      "[82] Mask mean: 51.44614543466375, min: 0, max: 255\n",
      "[82] Mask pixels before thresholding: 188190, after thresholding: 188190\n",
      "[82] After opening: 175695, After connected-component filtering: 175695\n",
      "[82] After filling holes: 447270\n"
     ]
    },
    {
     "name": "stderr",
     "output_type": "stream",
     "text": [
      " 55%|█████▌    | 83/150 [02:49<01:56,  1.74s/it]"
     ]
    },
    {
     "name": "stdout",
     "output_type": "stream",
     "text": [
      "[83] HSV mask foreground pixels: 715020\n",
      "[83] Mask mean: 75.99319800191306, min: 0, max: 255\n",
      "[83] Mask pixels before thresholding: 715020, after thresholding: 715020\n",
      "[83] After opening: 693855, After connected-component filtering: 693855\n",
      "[83] After filling holes: 1362465\n"
     ]
    },
    {
     "name": "stderr",
     "output_type": "stream",
     "text": [
      " 56%|█████▌    | 84/150 [02:51<02:03,  1.88s/it]"
     ]
    },
    {
     "name": "stdout",
     "output_type": "stream",
     "text": [
      "[84] HSV mask foreground pixels: 345015\n",
      "[84] Mask mean: 51.341517857142854, min: 0, max: 255\n",
      "[84] Mask pixels before thresholding: 345015, after thresholding: 345015\n",
      "[84] After opening: 336855, After connected-component filtering: 336855\n",
      "[84] After filling holes: 824670\n"
     ]
    },
    {
     "name": "stderr",
     "output_type": "stream",
     "text": [
      " 57%|█████▋    | 85/150 [02:53<01:59,  1.84s/it]"
     ]
    },
    {
     "name": "stdout",
     "output_type": "stream",
     "text": [
      "[85] HSV mask foreground pixels: 555900\n",
      "[85] Mask mean: 62.2508398656215, min: 0, max: 255\n",
      "[85] Mask pixels before thresholding: 555900, after thresholding: 555900\n",
      "[85] After opening: 553860, After connected-component filtering: 553860\n",
      "[85] After filling holes: 1184730\n"
     ]
    },
    {
     "name": "stderr",
     "output_type": "stream",
     "text": [
      " 57%|█████▋    | 86/150 [02:55<01:57,  1.83s/it]"
     ]
    },
    {
     "name": "stdout",
     "output_type": "stream",
     "text": [
      "[86] HSV mask foreground pixels: 156825\n",
      "[86] Mask mean: 46.674107142857146, min: 0, max: 255\n",
      "[86] Mask pixels before thresholding: 156825, after thresholding: 156825\n",
      "[86] After opening: 155550, After connected-component filtering: 155550\n",
      "[86] After filling holes: 408255\n"
     ]
    },
    {
     "name": "stderr",
     "output_type": "stream",
     "text": [
      " 58%|█████▊    | 87/150 [02:56<01:48,  1.72s/it]"
     ]
    },
    {
     "name": "stdout",
     "output_type": "stream",
     "text": [
      "[87] HSV mask foreground pixels: 37485\n",
      "[87] Mask mean: 41.65, min: 0, max: 255\n",
      "[87] Mask pixels before thresholding: 37485, after thresholding: 37485\n",
      "[87] After opening: 11475, After connected-component filtering: 0\n",
      "[87] After filling holes: 0\n",
      "[87] Skipping: binary_mask is empty after processing: dataset\\Train/0/00000_00000_00002.png\n",
      "[88] HSV mask foreground pixels: 69615\n",
      "[88] Mask mean: 33.630434782608695, min: 0, max: 255\n",
      "[88] Mask pixels before thresholding: 69615, after thresholding: 69615\n",
      "[88] After opening: 52020, After connected-component filtering: 47175\n",
      "[88] After filling holes: 47175\n"
     ]
    },
    {
     "name": "stderr",
     "output_type": "stream",
     "text": [
      " 59%|█████▉    | 89/150 [02:58<01:18,  1.29s/it]"
     ]
    },
    {
     "name": "stdout",
     "output_type": "stream",
     "text": [
      "[89] HSV mask foreground pixels: 88485\n",
      "[89] Mask mean: 59.70647773279352, min: 0, max: 255\n",
      "[89] Mask pixels before thresholding: 88485, after thresholding: 88485\n",
      "[89] After opening: 60945, After connected-component filtering: 45135\n",
      "[89] After filling holes: 45135\n"
     ]
    },
    {
     "name": "stderr",
     "output_type": "stream",
     "text": [
      " 60%|██████    | 90/150 [02:59<01:19,  1.32s/it]"
     ]
    },
    {
     "name": "stdout",
     "output_type": "stream",
     "text": [
      "[90] HSV mask foreground pixels: 220065\n",
      "[90] Mask mean: 51.36904761904762, min: 0, max: 255\n",
      "[90] Mask pixels before thresholding: 220065, after thresholding: 220065\n",
      "[90] After opening: 208335, After connected-component filtering: 208335\n",
      "[90] After filling holes: 516630\n"
     ]
    },
    {
     "name": "stderr",
     "output_type": "stream",
     "text": [
      " 61%|██████    | 91/150 [03:01<01:24,  1.43s/it]"
     ]
    },
    {
     "name": "stdout",
     "output_type": "stream",
     "text": [
      "[91] HSV mask foreground pixels: 122655\n",
      "[91] Mask mean: 37.100725952813065, min: 0, max: 255\n",
      "[91] Mask pixels before thresholding: 122655, after thresholding: 122655\n",
      "[91] After opening: 109905, After connected-component filtering: 106080\n",
      "[91] After filling holes: 106080\n"
     ]
    },
    {
     "name": "stderr",
     "output_type": "stream",
     "text": [
      " 61%|██████▏   | 92/150 [03:03<01:27,  1.51s/it]"
     ]
    },
    {
     "name": "stdout",
     "output_type": "stream",
     "text": [
      "[92] HSV mask foreground pixels: 26775\n",
      "[92] Mask mean: 35.416666666666664, min: 0, max: 255\n",
      "[92] Mask pixels before thresholding: 26775, after thresholding: 26775\n",
      "[92] After opening: 16320, After connected-component filtering: 16320\n",
      "[92] After filling holes: 16320\n"
     ]
    },
    {
     "name": "stderr",
     "output_type": "stream",
     "text": [
      " 62%|██████▏   | 93/150 [03:04<01:25,  1.50s/it]"
     ]
    },
    {
     "name": "stdout",
     "output_type": "stream",
     "text": [
      "[93] HSV mask foreground pixels: 198900\n",
      "[93] Mask mean: 35.83783783783784, min: 0, max: 255\n",
      "[93] Mask pixels before thresholding: 198900, after thresholding: 198900\n",
      "[93] After opening: 176205, After connected-component filtering: 171615\n",
      "[93] After filling holes: 171615\n"
     ]
    },
    {
     "name": "stderr",
     "output_type": "stream",
     "text": [
      " 63%|██████▎   | 94/150 [03:06<01:26,  1.55s/it]"
     ]
    },
    {
     "name": "stdout",
     "output_type": "stream",
     "text": [
      "[94] HSV mask foreground pixels: 364905\n",
      "[94] Mask mean: 53.0, min: 0, max: 255\n",
      "[94] Mask pixels before thresholding: 364905, after thresholding: 364905\n",
      "[94] After opening: 356490, After connected-component filtering: 356490\n",
      "[94] After filling holes: 860370\n"
     ]
    },
    {
     "name": "stderr",
     "output_type": "stream",
     "text": [
      " 63%|██████▎   | 95/150 [03:08<01:31,  1.67s/it]"
     ]
    },
    {
     "name": "stdout",
     "output_type": "stream",
     "text": [
      "[95] HSV mask foreground pixels: 49725\n",
      "[95] Mask mean: 44.31818181818182, min: 0, max: 255\n",
      "[95] Mask pixels before thresholding: 49725, after thresholding: 49725\n",
      "[95] After opening: 36720, After connected-component filtering: 25245\n",
      "[95] After filling holes: 25245\n"
     ]
    },
    {
     "name": "stderr",
     "output_type": "stream",
     "text": [
      " 64%|██████▍   | 96/150 [03:09<01:26,  1.61s/it]"
     ]
    },
    {
     "name": "stdout",
     "output_type": "stream",
     "text": [
      "[96] HSV mask foreground pixels: 328440\n",
      "[96] Mask mean: 28.97318278052223, min: 0, max: 255\n",
      "[96] Mask pixels before thresholding: 328440, after thresholding: 328440\n",
      "[96] After opening: 313140, After connected-component filtering: 313140\n",
      "[96] After filling holes: 313140\n"
     ]
    },
    {
     "name": "stderr",
     "output_type": "stream",
     "text": [
      " 65%|██████▌   | 98/150 [03:12<01:08,  1.31s/it]"
     ]
    },
    {
     "name": "stdout",
     "output_type": "stream",
     "text": [
      "[97] HSV mask foreground pixels: 1530\n",
      "[97] Mask mean: 2.0238095238095237, min: 0, max: 255\n",
      "[97] Mask pixels before thresholding: 1530, after thresholding: 1530\n",
      "[97] After opening: 0, After connected-component filtering: 0\n",
      "[97] After filling holes: 0\n",
      "[97] Skipping: binary_mask is empty after processing: dataset\\Train/0/00000_00002_00001.png\n",
      "[98] HSV mask foreground pixels: 264180\n",
      "[98] Mask mean: 68.7431693989071, min: 0, max: 255\n",
      "[98] Mask pixels before thresholding: 264180, after thresholding: 264180\n",
      "[98] After opening: 259590, After connected-component filtering: 259590\n",
      "[98] After filling holes: 529380\n"
     ]
    },
    {
     "name": "stderr",
     "output_type": "stream",
     "text": [
      " 66%|██████▌   | 99/150 [03:14<01:14,  1.46s/it]"
     ]
    },
    {
     "name": "stdout",
     "output_type": "stream",
     "text": [
      "[99] HSV mask foreground pixels: 317220\n",
      "[99] Mask mean: 52.17434210526316, min: 0, max: 255\n",
      "[99] Mask pixels before thresholding: 317220, after thresholding: 317220\n",
      "[99] After opening: 311865, After connected-component filtering: 311865\n",
      "[99] After filling holes: 765765\n"
     ]
    },
    {
     "name": "stderr",
     "output_type": "stream",
     "text": [
      " 67%|██████▋   | 100/150 [03:16<01:23,  1.67s/it]"
     ]
    },
    {
     "name": "stdout",
     "output_type": "stream",
     "text": [
      "[100] HSV mask foreground pixels: 1530\n",
      "[100] Mask mean: 0.5151515151515151, min: 0, max: 255\n",
      "[100] Mask pixels before thresholding: 1530, after thresholding: 1530\n",
      "[100] After opening: 0, After connected-component filtering: 0\n",
      "[100] After filling holes: 0\n"
     ]
    },
    {
     "name": "stderr",
     "output_type": "stream",
     "text": [
      " 68%|██████▊   | 102/150 [03:16<00:44,  1.07it/s]"
     ]
    },
    {
     "name": "stdout",
     "output_type": "stream",
     "text": [
      "[100] Skipping: binary_mask is empty after processing: dataset\\Train/1/00001_00049_00021.png\n",
      "[101] Warning: Very few foreground pixels in HSV mask: 0\n",
      "[101] Mask mean: 0.0, min: 0, max: 0\n",
      "[101] Mask pixels before thresholding: 0, after thresholding: 0\n",
      "[101] After opening: 0, After connected-component filtering: 0\n",
      "[101] After filling holes: 0\n",
      "[101] Skipping: binary_mask is empty after processing: dataset\\Train/1/00001_00015_00000.png\n",
      "[102] HSV mask foreground pixels: 79815\n",
      "[102] Mask mean: 86.00754310344827, min: 0, max: 255\n",
      "[102] Mask pixels before thresholding: 79815, after thresholding: 79815\n",
      "[102] After opening: 58140, After connected-component filtering: 39525\n",
      "[102] After filling holes: 39525\n"
     ]
    },
    {
     "name": "stderr",
     "output_type": "stream",
     "text": [
      " 69%|██████▊   | 103/150 [03:18<00:55,  1.18s/it]"
     ]
    },
    {
     "name": "stdout",
     "output_type": "stream",
     "text": [
      "[103] HSV mask foreground pixels: 77010\n",
      "[103] Mask mean: 42.64119601328904, min: 0, max: 255\n",
      "[103] Mask pixels before thresholding: 77010, after thresholding: 77010\n",
      "[103] After opening: 74715, After connected-component filtering: 74715\n",
      "[103] After filling holes: 74715\n"
     ]
    },
    {
     "name": "stderr",
     "output_type": "stream",
     "text": [
      " 70%|███████   | 105/150 [03:20<00:43,  1.04it/s]"
     ]
    },
    {
     "name": "stdout",
     "output_type": "stream",
     "text": [
      "[104] HSV mask foreground pixels: 22695\n",
      "[104] Mask mean: 22.878024193548388, min: 0, max: 255\n",
      "[104] Mask pixels before thresholding: 22695, after thresholding: 22695\n",
      "[104] After opening: 0, After connected-component filtering: 0\n",
      "[104] After filling holes: 0\n",
      "[104] Skipping: binary_mask is empty after processing: dataset\\Train/1/00001_00035_00011.png\n",
      "[105] HSV mask foreground pixels: 128775\n",
      "[105] Mask mean: 58.32201086956522, min: 0, max: 255\n",
      "[105] Mask pixels before thresholding: 128775, after thresholding: 128775\n",
      "[105] After opening: 128265, After connected-component filtering: 128265\n",
      "[105] After filling holes: 267240\n"
     ]
    },
    {
     "name": "stderr",
     "output_type": "stream",
     "text": [
      " 71%|███████▏  | 107/150 [03:22<00:40,  1.06it/s]"
     ]
    },
    {
     "name": "stdout",
     "output_type": "stream",
     "text": [
      "[106] HSV mask foreground pixels: 510\n",
      "[106] Mask mean: 0.35343035343035345, min: 0, max: 255\n",
      "[106] Mask pixels before thresholding: 510, after thresholding: 510\n",
      "[106] After opening: 0, After connected-component filtering: 0\n",
      "[106] After filling holes: 0\n",
      "[106] Skipping: binary_mask is empty after processing: dataset\\Train/1/00001_00023_00015.png\n",
      "[107] HSV mask foreground pixels: 27540\n",
      "[107] Mask mean: 16.79268292682927, min: 0, max: 255\n",
      "[107] Mask pixels before thresholding: 27540, after thresholding: 27540\n",
      "[107] After opening: 16575, After connected-component filtering: 13515\n",
      "[107] After filling holes: 13515\n"
     ]
    },
    {
     "name": "stderr",
     "output_type": "stream",
     "text": [
      " 72%|███████▏  | 108/150 [03:24<00:49,  1.19s/it]"
     ]
    },
    {
     "name": "stdout",
     "output_type": "stream",
     "text": [
      "[108] HSV mask foreground pixels: 15045\n",
      "[108] Mask mean: 5.256813417190775, min: 0, max: 255\n",
      "[108] Mask pixels before thresholding: 15045, after thresholding: 15045\n",
      "[108] After opening: 13515, After connected-component filtering: 11985\n",
      "[108] After filling holes: 11985\n"
     ]
    },
    {
     "name": "stderr",
     "output_type": "stream",
     "text": [
      " 73%|███████▎  | 109/150 [03:25<00:52,  1.28s/it]"
     ]
    },
    {
     "name": "stdout",
     "output_type": "stream",
     "text": [
      "[109] HSV mask foreground pixels: 45900\n",
      "[109] Mask mean: 26.03516732841747, min: 0, max: 255\n",
      "[109] Mask pixels before thresholding: 45900, after thresholding: 45900\n",
      "[109] After opening: 27285, After connected-component filtering: 18870\n",
      "[109] After filling holes: 18870\n"
     ]
    },
    {
     "name": "stderr",
     "output_type": "stream",
     "text": [
      " 73%|███████▎  | 110/150 [03:27<00:52,  1.31s/it]"
     ]
    },
    {
     "name": "stdout",
     "output_type": "stream",
     "text": [
      "[110] HSV mask foreground pixels: 54570\n",
      "[110] Mask mean: 12.726212686567164, min: 0, max: 255\n",
      "[110] Mask pixels before thresholding: 54570, after thresholding: 54570\n",
      "[110] After opening: 9945, After connected-component filtering: 9945\n",
      "[110] After filling holes: 9945\n"
     ]
    },
    {
     "name": "stderr",
     "output_type": "stream",
     "text": [
      " 75%|███████▍  | 112/150 [03:29<00:41,  1.10s/it]"
     ]
    },
    {
     "name": "stdout",
     "output_type": "stream",
     "text": [
      "[111] HSV mask foreground pixels: 13515\n",
      "[111] Mask mean: 3.8177966101694913, min: 0, max: 255\n",
      "[111] Mask pixels before thresholding: 13515, after thresholding: 13515\n",
      "[111] After opening: 2295, After connected-component filtering: 0\n",
      "[111] After filling holes: 0\n",
      "[111] Skipping: binary_mask is empty after processing: dataset\\Train/1/00001_00057_00026.png\n"
     ]
    },
    {
     "name": "stderr",
     "output_type": "stream",
     "text": [
      " 75%|███████▌  | 113/150 [03:29<00:30,  1.21it/s]"
     ]
    },
    {
     "name": "stdout",
     "output_type": "stream",
     "text": [
      "[112] HSV mask foreground pixels: 11475\n",
      "[112] Mask mean: 5.930232558139535, min: 0, max: 255\n",
      "[112] Mask pixels before thresholding: 11475, after thresholding: 11475\n",
      "[112] After opening: 0, After connected-component filtering: 0\n",
      "[112] After filling holes: 0\n",
      "[112] Skipping: binary_mask is empty after processing: dataset\\Train/1/00001_00051_00015.png\n",
      "[113] HSV mask foreground pixels: 204510\n",
      "[113] Mask mean: 51.255639097744364, min: 0, max: 255\n",
      "[113] Mask pixels before thresholding: 204510, after thresholding: 204510\n",
      "[113] After opening: 173400, After connected-component filtering: 170340\n",
      "[113] After filling holes: 438855\n"
     ]
    },
    {
     "name": "stderr",
     "output_type": "stream",
     "text": [
      " 77%|███████▋  | 115/150 [03:31<00:27,  1.26it/s]"
     ]
    },
    {
     "name": "stdout",
     "output_type": "stream",
     "text": [
      "[114] HSV mask foreground pixels: 20400\n",
      "[114] Mask mean: 22.666666666666668, min: 0, max: 255\n",
      "[114] Mask pixels before thresholding: 20400, after thresholding: 20400\n",
      "[114] After opening: 0, After connected-component filtering: 0\n",
      "[114] After filling holes: 0\n",
      "[114] Skipping: binary_mask is empty after processing: dataset\\Train/1/00001_00068_00005.png\n",
      "[115] HSV mask foreground pixels: 86445\n",
      "[115] Mask mean: 14.580030359251138, min: 0, max: 255\n",
      "[115] Mask pixels before thresholding: 86445, after thresholding: 86445\n",
      "[115] After opening: 50745, After connected-component filtering: 47685\n",
      "[115] After filling holes: 47685\n"
     ]
    },
    {
     "name": "stderr",
     "output_type": "stream",
     "text": [
      " 77%|███████▋  | 116/150 [03:32<00:38,  1.13s/it]"
     ]
    },
    {
     "name": "stdout",
     "output_type": "stream",
     "text": [
      "[116] HSV mask foreground pixels: 88740\n",
      "[116] Mask mean: 38.53234910985671, min: 0, max: 255\n",
      "[116] Mask pixels before thresholding: 88740, after thresholding: 88740\n",
      "[116] After opening: 21675, After connected-component filtering: 16320\n",
      "[116] After filling holes: 16320\n"
     ]
    },
    {
     "name": "stderr",
     "output_type": "stream",
     "text": [
      " 79%|███████▊  | 118/150 [03:34<00:30,  1.05it/s]"
     ]
    },
    {
     "name": "stdout",
     "output_type": "stream",
     "text": [
      "[117] HSV mask foreground pixels: 28560\n",
      "[117] Mask mean: 17.414634146341463, min: 0, max: 255\n",
      "[117] Mask pixels before thresholding: 28560, after thresholding: 28560\n",
      "[117] After opening: 0, After connected-component filtering: 0\n",
      "[117] After filling holes: 0\n",
      "[117] Skipping: binary_mask is empty after processing: dataset\\Train/1/00001_00043_00003.png\n"
     ]
    },
    {
     "name": "stderr",
     "output_type": "stream",
     "text": [
      " 79%|███████▉  | 119/150 [03:34<00:22,  1.37it/s]"
     ]
    },
    {
     "name": "stdout",
     "output_type": "stream",
     "text": [
      "[118] HSV mask foreground pixels: 3570\n",
      "[118] Mask mean: 2.408906882591093, min: 0, max: 255\n",
      "[118] Mask pixels before thresholding: 3570, after thresholding: 3570\n",
      "[118] After opening: 0, After connected-component filtering: 0\n",
      "[118] After filling holes: 0\n",
      "[118] Skipping: binary_mask is empty after processing: dataset\\Train/1/00001_00039_00007.png\n",
      "[119] HSV mask foreground pixels: 220065\n",
      "[119] Mask mean: 56.776315789473685, min: 0, max: 255\n",
      "[119] Mask pixels before thresholding: 220065, after thresholding: 220065\n",
      "[119] After opening: 202215, After connected-component filtering: 202215\n",
      "[119] After filling holes: 476850\n"
     ]
    },
    {
     "name": "stderr",
     "output_type": "stream",
     "text": [
      " 81%|████████  | 121/150 [03:36<00:23,  1.26it/s]"
     ]
    },
    {
     "name": "stdout",
     "output_type": "stream",
     "text": [
      "[120] Warning: Very few foreground pixels in HSV mask: 0\n",
      "[120] Mask mean: 0.0, min: 0, max: 0\n",
      "[120] Mask pixels before thresholding: 0, after thresholding: 0\n",
      "[120] After opening: 0, After connected-component filtering: 0\n",
      "[120] After filling holes: 0\n",
      "[120] Skipping: binary_mask is empty after processing: dataset\\Train/1/00001_00013_00019.png\n",
      "[121] HSV mask foreground pixels: 81855\n",
      "[121] Mask mean: 18.25083612040134, min: 0, max: 255\n",
      "[121] Mask pixels before thresholding: 81855, after thresholding: 81855\n",
      "[121] After opening: 70890, After connected-component filtering: 70890\n",
      "[121] After filling holes: 70890\n"
     ]
    },
    {
     "name": "stderr",
     "output_type": "stream",
     "text": [
      " 81%|████████▏ | 122/150 [03:38<00:28,  1.03s/it]"
     ]
    },
    {
     "name": "stdout",
     "output_type": "stream",
     "text": [
      "[122] HSV mask foreground pixels: 58140\n",
      "[122] Mask mean: 41.351351351351354, min: 0, max: 255\n",
      "[122] Mask pixels before thresholding: 58140, after thresholding: 58140\n",
      "[122] After opening: 25755, After connected-component filtering: 21420\n",
      "[122] After filling holes: 21420\n"
     ]
    },
    {
     "name": "stderr",
     "output_type": "stream",
     "text": [
      " 82%|████████▏ | 123/150 [03:40<00:32,  1.21s/it]"
     ]
    },
    {
     "name": "stdout",
     "output_type": "stream",
     "text": [
      "[123] HSV mask foreground pixels: 80580\n",
      "[123] Mask mean: 50.3625, min: 0, max: 255\n",
      "[123] Mask pixels before thresholding: 80580, after thresholding: 80580\n",
      "[123] After opening: 70380, After connected-component filtering: 63495\n",
      "[123] After filling holes: 63495\n"
     ]
    },
    {
     "name": "stderr",
     "output_type": "stream",
     "text": [
      " 83%|████████▎ | 125/150 [03:41<00:23,  1.08it/s]"
     ]
    },
    {
     "name": "stdout",
     "output_type": "stream",
     "text": [
      "[124] HSV mask foreground pixels: 34935\n",
      "[124] Mask mean: 28.518367346938774, min: 0, max: 255\n",
      "[124] Mask pixels before thresholding: 34935, after thresholding: 34935\n",
      "[124] After opening: 4590, After connected-component filtering: 0\n",
      "[124] After filling holes: 0\n",
      "[124] Skipping: binary_mask is empty after processing: dataset\\Train/1/00001_00035_00014.png\n",
      "[125] Warning: Very few foreground pixels in HSV mask: 0\n"
     ]
    },
    {
     "name": "stderr",
     "output_type": "stream",
     "text": [
      " 84%|████████▍ | 126/150 [03:41<00:17,  1.39it/s]"
     ]
    },
    {
     "name": "stdout",
     "output_type": "stream",
     "text": [
      "[125] Mask mean: 0.0, min: 0, max: 0\n",
      "[125] Mask pixels before thresholding: 0, after thresholding: 0\n",
      "[125] After opening: 0, After connected-component filtering: 0\n",
      "[125] After filling holes: 0\n",
      "[125] Skipping: binary_mask is empty after processing: dataset\\Train/1/00001_00051_00011.png\n",
      "[126] HSV mask foreground pixels: 112710\n",
      "[126] Mask mean: 54.44927536231884, min: 0, max: 255\n",
      "[126] Mask pixels before thresholding: 112710, after thresholding: 112710\n",
      "[126] After opening: 107610, After connected-component filtering: 107610\n",
      "[126] After filling holes: 236385\n"
     ]
    },
    {
     "name": "stderr",
     "output_type": "stream",
     "text": [
      " 86%|████████▌ | 129/150 [03:43<00:11,  1.88it/s]"
     ]
    },
    {
     "name": "stdout",
     "output_type": "stream",
     "text": [
      "[127] HSV mask foreground pixels: 16320\n",
      "[127] Mask mean: 8.826392644672795, min: 0, max: 255\n",
      "[127] Mask pixels before thresholding: 16320, after thresholding: 16320\n",
      "[127] After opening: 2295, After connected-component filtering: 0\n",
      "[127] After filling holes: 0\n",
      "[127] Skipping: binary_mask is empty after processing: dataset\\Train/1/00001_00022_00014.png\n",
      "[128] HSV mask foreground pixels: 8160\n",
      "[128] Mask mean: 9.702734839476813, min: 0, max: 255\n",
      "[128] Mask pixels before thresholding: 8160, after thresholding: 8160\n",
      "[128] After opening: 0, After connected-component filtering: 0\n",
      "[128] After filling holes: 0\n",
      "[128] Skipping: binary_mask is empty after processing: dataset\\Train/1/00001_00019_00001.png\n",
      "[129] HSV mask foreground pixels: 97155\n",
      "[129] Mask mean: 38.87755102040816, min: 0, max: 255\n",
      "[129] Mask pixels before thresholding: 97155, after thresholding: 97155\n",
      "[129] After opening: 97155, After connected-component filtering: 97155\n",
      "[129] After filling holes: 256530\n"
     ]
    },
    {
     "name": "stderr",
     "output_type": "stream",
     "text": [
      " 87%|████████▋ | 131/150 [03:45<00:11,  1.59it/s]"
     ]
    },
    {
     "name": "stdout",
     "output_type": "stream",
     "text": [
      "[130] HSV mask foreground pixels: 5865\n",
      "[130] Mask mean: 6.741379310344827, min: 0, max: 255\n",
      "[130] Mask pixels before thresholding: 5865, after thresholding: 5865\n",
      "[130] After opening: 0, After connected-component filtering: 0\n",
      "[130] After filling holes: 0\n",
      "[130] Skipping: binary_mask is empty after processing: dataset\\Train/1/00001_00024_00016.png\n",
      "[131] HSV mask foreground pixels: 12240\n",
      "[131] Mask mean: 3.2903225806451615, min: 0, max: 255\n",
      "[131] Mask pixels before thresholding: 12240, after thresholding: 12240\n",
      "[131] After opening: 11220, After connected-component filtering: 11220\n",
      "[131] After filling holes: 11220\n"
     ]
    },
    {
     "name": "stderr",
     "output_type": "stream",
     "text": [
      " 88%|████████▊ | 132/150 [03:46<00:16,  1.12it/s]"
     ]
    },
    {
     "name": "stdout",
     "output_type": "stream",
     "text": [
      "[132] HSV mask foreground pixels: 128520\n",
      "[132] Mask mean: 38.3070044709389, min: 0, max: 255\n",
      "[132] Mask pixels before thresholding: 128520, after thresholding: 128520\n",
      "[132] After opening: 104040, After connected-component filtering: 102510\n",
      "[132] After filling holes: 102510\n"
     ]
    },
    {
     "name": "stderr",
     "output_type": "stream",
     "text": [
      " 89%|████████▊ | 133/150 [03:48<00:18,  1.06s/it]"
     ]
    },
    {
     "name": "stdout",
     "output_type": "stream",
     "text": [
      "[133] HSV mask foreground pixels: 263160\n",
      "[133] Mask mean: 56.08695652173913, min: 0, max: 255\n",
      "[133] Mask pixels before thresholding: 263160, after thresholding: 263160\n",
      "[133] After opening: 256275, After connected-component filtering: 253215\n",
      "[133] After filling holes: 607665\n"
     ]
    },
    {
     "name": "stderr",
     "output_type": "stream",
     "text": [
      " 90%|█████████ | 135/150 [03:50<00:13,  1.09it/s]"
     ]
    },
    {
     "name": "stdout",
     "output_type": "stream",
     "text": [
      "[134] HSV mask foreground pixels: 765\n",
      "[134] Mask mean: 0.6081081081081081, min: 0, max: 255\n",
      "[134] Mask pixels before thresholding: 765, after thresholding: 765\n",
      "[134] After opening: 0, After connected-component filtering: 0\n",
      "[134] After filling holes: 0\n",
      "[134] Skipping: binary_mask is empty after processing: dataset\\Train/1/00001_00066_00000.png\n",
      "[135] HSV mask foreground pixels: 229500\n",
      "[135] Mask mean: 65.92933065211146, min: 0, max: 255\n",
      "[135] Mask pixels before thresholding: 229500, after thresholding: 229500\n",
      "[135] After opening: 226950, After connected-component filtering: 226950\n",
      "[135] After filling holes: 442170\n"
     ]
    },
    {
     "name": "stderr",
     "output_type": "stream",
     "text": [
      " 91%|█████████ | 136/150 [03:51<00:15,  1.09s/it]"
     ]
    },
    {
     "name": "stdout",
     "output_type": "stream",
     "text": [
      "[136] HSV mask foreground pixels: 40035\n",
      "[136] Mask mean: 5.35084202085004, min: 0, max: 255\n",
      "[136] Mask pixels before thresholding: 40035, after thresholding: 40035\n",
      "[136] After opening: 2295, After connected-component filtering: 0\n",
      "[136] After filling holes: 0\n"
     ]
    },
    {
     "name": "stderr",
     "output_type": "stream",
     "text": [
      " 92%|█████████▏| 138/150 [03:52<00:08,  1.39it/s]"
     ]
    },
    {
     "name": "stdout",
     "output_type": "stream",
     "text": [
      "[136] Skipping: binary_mask is empty after processing: dataset\\Train/1/00001_00069_00026.png\n",
      "[137] HSV mask foreground pixels: 11220\n",
      "[137] Mask mean: 6.515679442508711, min: 0, max: 255\n",
      "[137] Mask pixels before thresholding: 11220, after thresholding: 11220\n",
      "[137] After opening: 5355, After connected-component filtering: 0\n",
      "[137] After filling holes: 0\n",
      "[137] Skipping: binary_mask is empty after processing: dataset\\Train/1/00001_00052_00015.png\n",
      "[138] HSV mask foreground pixels: 58650\n",
      "[138] Mask mean: 41.714082503556185, min: 0, max: 255\n",
      "[138] Mask pixels before thresholding: 58650, after thresholding: 58650\n",
      "[138] After opening: 39525, After connected-component filtering: 39525\n",
      "[138] After filling holes: 39525\n"
     ]
    },
    {
     "name": "stderr",
     "output_type": "stream",
     "text": [
      " 93%|█████████▎| 140/150 [03:53<00:06,  1.47it/s]"
     ]
    },
    {
     "name": "stdout",
     "output_type": "stream",
     "text": [
      "[139] HSV mask foreground pixels: 255\n",
      "[139] Mask mean: 0.16367137355584083, min: 0, max: 255\n",
      "[139] Mask pixels before thresholding: 255, after thresholding: 255\n",
      "[139] After opening: 0, After connected-component filtering: 0\n",
      "[139] After filling holes: 0\n",
      "[139] Skipping: binary_mask is empty after processing: dataset\\Train/1/00001_00023_00017.png\n",
      "[140] HSV mask foreground pixels: 43350\n",
      "[140] Mask mean: 29.251012145748987, min: 0, max: 255\n",
      "[140] Mask pixels before thresholding: 43350, after thresholding: 43350\n",
      "[140] After opening: 15045, After connected-component filtering: 8160\n",
      "[140] After filling holes: 8160\n"
     ]
    },
    {
     "name": "stderr",
     "output_type": "stream",
     "text": [
      " 94%|█████████▍| 141/150 [03:55<00:08,  1.02it/s]"
     ]
    },
    {
     "name": "stdout",
     "output_type": "stream",
     "text": [
      "[141] HSV mask foreground pixels: 132600\n",
      "[141] Mask mean: 68.49173553719008, min: 0, max: 255\n",
      "[141] Mask pixels before thresholding: 132600, after thresholding: 132600\n",
      "[141] After opening: 126480, After connected-component filtering: 126480\n",
      "[141] After filling holes: 132345\n"
     ]
    },
    {
     "name": "stderr",
     "output_type": "stream",
     "text": [
      " 95%|█████████▍| 142/150 [03:56<00:08,  1.11s/it]"
     ]
    },
    {
     "name": "stdout",
     "output_type": "stream",
     "text": [
      "[142] HSV mask foreground pixels: 95115\n",
      "[142] Mask mean: 56.58239143367044, min: 0, max: 255\n",
      "[142] Mask pixels before thresholding: 95115, after thresholding: 95115\n",
      "[142] After opening: 87210, After connected-component filtering: 87210\n",
      "[142] After filling holes: 87210\n"
     ]
    },
    {
     "name": "stderr",
     "output_type": "stream",
     "text": [
      " 95%|█████████▌| 143/150 [03:58<00:08,  1.21s/it]"
     ]
    },
    {
     "name": "stdout",
     "output_type": "stream",
     "text": [
      "[143] HSV mask foreground pixels: 180540\n",
      "[143] Mask mean: 61.93481989708405, min: 0, max: 255\n",
      "[143] Mask pixels before thresholding: 180540, after thresholding: 180540\n",
      "[143] After opening: 176715, After connected-component filtering: 174420\n",
      "[143] After filling holes: 395505\n"
     ]
    },
    {
     "name": "stderr",
     "output_type": "stream",
     "text": [
      " 97%|█████████▋| 145/150 [04:00<00:04,  1.04it/s]"
     ]
    },
    {
     "name": "stdout",
     "output_type": "stream",
     "text": [
      "[144] HSV mask foreground pixels: 16065\n",
      "[144] Mask mean: 18.46551724137931, min: 0, max: 255\n",
      "[144] Mask pixels before thresholding: 16065, after thresholding: 16065\n",
      "[144] After opening: 2295, After connected-component filtering: 0\n",
      "[144] After filling holes: 0\n",
      "[144] Skipping: binary_mask is empty after processing: dataset\\Train/1/00001_00064_00006.png\n",
      "[145] Warning: Very few foreground pixels in HSV mask: 0\n",
      "[145] Mask mean: 0.0, min: 0, max: 0\n",
      "[145] Mask pixels before thresholding: 0, after thresholding: 0\n",
      "[145] After opening: 0, After connected-component filtering: 0\n",
      "[145] After filling holes: 0\n"
     ]
    },
    {
     "name": "stderr",
     "output_type": "stream",
     "text": [
      " 98%|█████████▊| 147/150 [04:02<00:02,  1.08it/s]"
     ]
    },
    {
     "name": "stdout",
     "output_type": "stream",
     "text": [
      "[145] Skipping: binary_mask is empty after processing: dataset\\Train/1/00001_00000_00029.png\n",
      "[146] HSV mask foreground pixels: 14790\n",
      "[146] Mask mean: 15.9375, min: 0, max: 255\n",
      "[146] Mask pixels before thresholding: 14790, after thresholding: 14790\n",
      "[146] After opening: 2295, After connected-component filtering: 0\n",
      "[146] After filling holes: 0\n",
      "[146] Skipping: binary_mask is empty after processing: dataset\\Train/1/00001_00028_00001.png\n",
      "[147] HSV mask foreground pixels: 4335\n",
      "[147] Mask mean: 3.4404761904761907, min: 0, max: 255\n",
      "[147] Mask pixels before thresholding: 4335, after thresholding: 4335\n",
      "[147] After opening: 0, After connected-component filtering: 0\n",
      "[147] After filling holes: 0\n"
     ]
    },
    {
     "name": "stderr",
     "output_type": "stream",
     "text": [
      " 99%|█████████▊| 148/150 [04:02<00:01,  1.43it/s]"
     ]
    },
    {
     "name": "stdout",
     "output_type": "stream",
     "text": [
      "[147] Skipping: binary_mask is empty after processing: dataset\\Train/1/00001_00039_00003.png\n",
      "[148] HSV mask foreground pixels: 615570\n",
      "[148] Mask mean: 53.67718869898849, min: 0, max: 255\n",
      "[148] Mask pixels before thresholding: 615570, after thresholding: 615570\n",
      "[148] After opening: 603330, After connected-component filtering: 603330\n",
      "[148] After filling holes: 1425960\n"
     ]
    },
    {
     "name": "stderr",
     "output_type": "stream",
     "text": [
      " 99%|█████████▉| 149/150 [04:04<00:01,  1.26s/it]"
     ]
    },
    {
     "name": "stdout",
     "output_type": "stream",
     "text": [
      "[149] HSV mask foreground pixels: 49470\n",
      "[149] Mask mean: 28.04421768707483, min: 0, max: 255\n",
      "[149] Mask pixels before thresholding: 49470, after thresholding: 49470\n",
      "[149] After opening: 26010, After connected-component filtering: 22440\n",
      "[149] After filling holes: 22440\n"
     ]
    },
    {
     "name": "stderr",
     "output_type": "stream",
     "text": [
      "100%|██████████| 150/150 [04:06<00:00,  1.64s/it]"
     ]
    },
    {
     "name": "stdout",
     "output_type": "stream",
     "text": [
      "Successfully extracted features from 105 images.\n"
     ]
    },
    {
     "name": "stderr",
     "output_type": "stream",
     "text": [
      "\n"
     ]
    },
    {
     "data": {
      "text/html": [
       "<div>\n",
       "<style scoped>\n",
       "    .dataframe tbody tr th:only-of-type {\n",
       "        vertical-align: middle;\n",
       "    }\n",
       "\n",
       "    .dataframe tbody tr th {\n",
       "        vertical-align: top;\n",
       "    }\n",
       "\n",
       "    .dataframe thead th {\n",
       "        text-align: right;\n",
       "    }\n",
       "</style>\n",
       "<table border=\"1\" class=\"dataframe\">\n",
       "  <thead>\n",
       "    <tr style=\"text-align: right;\">\n",
       "      <th></th>\n",
       "      <th>Width</th>\n",
       "      <th>Height</th>\n",
       "      <th>Roi.X1</th>\n",
       "      <th>Roi.Y1</th>\n",
       "      <th>Roi.X2</th>\n",
       "      <th>Roi.Y2</th>\n",
       "      <th>ClassId</th>\n",
       "      <th>Path</th>\n",
       "      <th>corner_count</th>\n",
       "      <th>circularity</th>\n",
       "      <th>aspect_ratio</th>\n",
       "      <th>extent</th>\n",
       "      <th>avg_hue</th>\n",
       "    </tr>\n",
       "  </thead>\n",
       "  <tbody>\n",
       "    <tr>\n",
       "      <th>0</th>\n",
       "      <td>29</td>\n",
       "      <td>30</td>\n",
       "      <td>6</td>\n",
       "      <td>6</td>\n",
       "      <td>24</td>\n",
       "      <td>25</td>\n",
       "      <td>0</td>\n",
       "      <td>Train/0/00000_00001_00000.png</td>\n",
       "      <td>322</td>\n",
       "      <td>0.304075</td>\n",
       "      <td>1.571429</td>\n",
       "      <td>0.636364</td>\n",
       "      <td>51.285714</td>\n",
       "    </tr>\n",
       "    <tr>\n",
       "      <th>1</th>\n",
       "      <td>56</td>\n",
       "      <td>54</td>\n",
       "      <td>5</td>\n",
       "      <td>5</td>\n",
       "      <td>50</td>\n",
       "      <td>49</td>\n",
       "      <td>0</td>\n",
       "      <td>Train/0/00000_00005_00022.png</td>\n",
       "      <td>1773</td>\n",
       "      <td>0.010291</td>\n",
       "      <td>1.152174</td>\n",
       "      <td>0.542658</td>\n",
       "      <td>45.909297</td>\n",
       "    </tr>\n",
       "    <tr>\n",
       "      <th>2</th>\n",
       "      <td>69</td>\n",
       "      <td>70</td>\n",
       "      <td>7</td>\n",
       "      <td>6</td>\n",
       "      <td>63</td>\n",
       "      <td>64</td>\n",
       "      <td>0</td>\n",
       "      <td>Train/0/00000_00002_00024.png</td>\n",
       "      <td>2646</td>\n",
       "      <td>0.019852</td>\n",
       "      <td>1.04</td>\n",
       "      <td>0.243462</td>\n",
       "      <td>6.301738</td>\n",
       "    </tr>\n",
       "    <tr>\n",
       "      <th>3</th>\n",
       "      <td>60</td>\n",
       "      <td>64</td>\n",
       "      <td>5</td>\n",
       "      <td>6</td>\n",
       "      <td>55</td>\n",
       "      <td>59</td>\n",
       "      <td>0</td>\n",
       "      <td>Train/0/00000_00006_00019.png</td>\n",
       "      <td>1777</td>\n",
       "      <td>0.006901</td>\n",
       "      <td>0.886792</td>\n",
       "      <td>0.735849</td>\n",
       "      <td>22.301146</td>\n",
       "    </tr>\n",
       "    <tr>\n",
       "      <th>4</th>\n",
       "      <td>27</td>\n",
       "      <td>26</td>\n",
       "      <td>6</td>\n",
       "      <td>5</td>\n",
       "      <td>22</td>\n",
       "      <td>21</td>\n",
       "      <td>0</td>\n",
       "      <td>Train/0/00000_00002_00000.png</td>\n",
       "      <td>None</td>\n",
       "      <td>None</td>\n",
       "      <td>None</td>\n",
       "      <td>None</td>\n",
       "      <td>None</td>\n",
       "    </tr>\n",
       "    <tr>\n",
       "      <th>...</th>\n",
       "      <td>...</td>\n",
       "      <td>...</td>\n",
       "      <td>...</td>\n",
       "      <td>...</td>\n",
       "      <td>...</td>\n",
       "      <td>...</td>\n",
       "      <td>...</td>\n",
       "      <td>...</td>\n",
       "      <td>...</td>\n",
       "      <td>...</td>\n",
       "      <td>...</td>\n",
       "      <td>...</td>\n",
       "      <td>...</td>\n",
       "    </tr>\n",
       "    <tr>\n",
       "      <th>145</th>\n",
       "      <td>114</td>\n",
       "      <td>118</td>\n",
       "      <td>10</td>\n",
       "      <td>11</td>\n",
       "      <td>104</td>\n",
       "      <td>108</td>\n",
       "      <td>1</td>\n",
       "      <td>Train/1/00001_00000_00029.png</td>\n",
       "      <td>None</td>\n",
       "      <td>None</td>\n",
       "      <td>None</td>\n",
       "      <td>None</td>\n",
       "      <td>None</td>\n",
       "    </tr>\n",
       "    <tr>\n",
       "      <th>146</th>\n",
       "      <td>29</td>\n",
       "      <td>32</td>\n",
       "      <td>6</td>\n",
       "      <td>5</td>\n",
       "      <td>23</td>\n",
       "      <td>27</td>\n",
       "      <td>1</td>\n",
       "      <td>Train/1/00001_00028_00001.png</td>\n",
       "      <td>None</td>\n",
       "      <td>None</td>\n",
       "      <td>None</td>\n",
       "      <td>None</td>\n",
       "      <td>None</td>\n",
       "    </tr>\n",
       "    <tr>\n",
       "      <th>147</th>\n",
       "      <td>36</td>\n",
       "      <td>35</td>\n",
       "      <td>5</td>\n",
       "      <td>5</td>\n",
       "      <td>31</td>\n",
       "      <td>30</td>\n",
       "      <td>1</td>\n",
       "      <td>Train/1/00001_00039_00003.png</td>\n",
       "      <td>None</td>\n",
       "      <td>None</td>\n",
       "      <td>None</td>\n",
       "      <td>None</td>\n",
       "      <td>None</td>\n",
       "    </tr>\n",
       "    <tr>\n",
       "      <th>148</th>\n",
       "      <td>94</td>\n",
       "      <td>122</td>\n",
       "      <td>8</td>\n",
       "      <td>11</td>\n",
       "      <td>91</td>\n",
       "      <td>112</td>\n",
       "      <td>1</td>\n",
       "      <td>Train/1/00001_00053_00029.png</td>\n",
       "      <td>1765</td>\n",
       "      <td>0.002247</td>\n",
       "      <td>0.797872</td>\n",
       "      <td>0.793191</td>\n",
       "      <td>12.177396</td>\n",
       "    </tr>\n",
       "    <tr>\n",
       "      <th>149</th>\n",
       "      <td>42</td>\n",
       "      <td>42</td>\n",
       "      <td>6</td>\n",
       "      <td>6</td>\n",
       "      <td>37</td>\n",
       "      <td>37</td>\n",
       "      <td>1</td>\n",
       "      <td>Train/1/00001_00057_00017.png</td>\n",
       "      <td>800</td>\n",
       "      <td>0.1428</td>\n",
       "      <td>0.8</td>\n",
       "      <td>0.275</td>\n",
       "      <td>6.159091</td>\n",
       "    </tr>\n",
       "  </tbody>\n",
       "</table>\n",
       "<p>150 rows × 13 columns</p>\n",
       "</div>"
      ],
      "text/plain": [
       "     Width  Height  Roi.X1  Roi.Y1  Roi.X2  Roi.Y2  ClassId  \\\n",
       "0       29      30       6       6      24      25        0   \n",
       "1       56      54       5       5      50      49        0   \n",
       "2       69      70       7       6      63      64        0   \n",
       "3       60      64       5       6      55      59        0   \n",
       "4       27      26       6       5      22      21        0   \n",
       "..     ...     ...     ...     ...     ...     ...      ...   \n",
       "145    114     118      10      11     104     108        1   \n",
       "146     29      32       6       5      23      27        1   \n",
       "147     36      35       5       5      31      30        1   \n",
       "148     94     122       8      11      91     112        1   \n",
       "149     42      42       6       6      37      37        1   \n",
       "\n",
       "                              Path corner_count circularity aspect_ratio  \\\n",
       "0    Train/0/00000_00001_00000.png          322    0.304075     1.571429   \n",
       "1    Train/0/00000_00005_00022.png         1773    0.010291     1.152174   \n",
       "2    Train/0/00000_00002_00024.png         2646    0.019852         1.04   \n",
       "3    Train/0/00000_00006_00019.png         1777    0.006901     0.886792   \n",
       "4    Train/0/00000_00002_00000.png         None        None         None   \n",
       "..                             ...          ...         ...          ...   \n",
       "145  Train/1/00001_00000_00029.png         None        None         None   \n",
       "146  Train/1/00001_00028_00001.png         None        None         None   \n",
       "147  Train/1/00001_00039_00003.png         None        None         None   \n",
       "148  Train/1/00001_00053_00029.png         1765    0.002247     0.797872   \n",
       "149  Train/1/00001_00057_00017.png          800      0.1428          0.8   \n",
       "\n",
       "       extent    avg_hue  \n",
       "0    0.636364  51.285714  \n",
       "1    0.542658  45.909297  \n",
       "2    0.243462   6.301738  \n",
       "3    0.735849  22.301146  \n",
       "4        None       None  \n",
       "..        ...        ...  \n",
       "145      None       None  \n",
       "146      None       None  \n",
       "147      None       None  \n",
       "148  0.793191  12.177396  \n",
       "149     0.275   6.159091  \n",
       "\n",
       "[150 rows x 13 columns]"
      ]
     },
     "execution_count": 33,
     "metadata": {},
     "output_type": "execute_result"
    }
   ],
   "source": [
    "extract_features_batch()"
   ]
  },
  {
   "cell_type": "code",
   "execution_count": 128,
   "id": "ab35f665",
   "metadata": {},
   "outputs": [
    {
     "data": {
      "text/plain": [
       "Index(['ClassId', 'Path', 'processed', 'corner_count', 'circularity',\n",
       "       'aspect_ratio', 'extent', 'avg_hue'],\n",
       "      dtype='object')"
      ]
     },
     "execution_count": 128,
     "metadata": {},
     "output_type": "execute_result"
    }
   ],
   "source": [
    "sampled_df.columns"
   ]
  },
  {
   "cell_type": "code",
   "execution_count": 121,
   "id": "4905410b",
   "metadata": {},
   "outputs": [],
   "source": [
    "sampled_df = sampled_df.drop(['Width', 'Height', 'Roi.X1', 'Roi.Y1', 'Roi.X2', 'Roi.Y2'], axis=1)\n"
   ]
  },
  {
   "cell_type": "code",
   "execution_count": 89,
   "id": "3ffe1efa",
   "metadata": {},
   "outputs": [
    {
     "data": {
      "text/plain": [
       "5"
      ]
     },
     "execution_count": 89,
     "metadata": {},
     "output_type": "execute_result"
    }
   ],
   "source": [
    "# sampled_df['avg_hue'].value_counts()\n",
    "sampled_df['avg_hue'].isna().sum()"
   ]
  },
  {
   "cell_type": "code",
   "execution_count": 73,
   "id": "fc4483bb",
   "metadata": {},
   "outputs": [
    {
     "data": {
      "text/plain": [
       "extent\n",
       "0.17199612403100775    1\n",
       "0.3055783429040197     1\n",
       "0.178                  1\n",
       "0.7378606615059817     1\n",
       "0.29835507657402155    1\n",
       "0.17706131078224102    1\n",
       "0.2783400809716599     1\n",
       "0.38492063492063494    1\n",
       "0.2833333333333333     1\n",
       "0.29005847953216374    1\n",
       "0.2613981762917933     1\n",
       "0.2730364873222016     1\n",
       "0.3011204481792717     1\n",
       "0.2206439393939394     1\n",
       "0.7800925925925926     1\n",
       "0.7791452991452992     1\n",
       "0.18640148011100832    1\n",
       "0.3888888888888889     1\n",
       "0.28511627906976744    1\n",
       "0.3037593984962406     1\n",
       "0.7901543596161869     1\n",
       "0.29830210772833726    1\n",
       "0.22548028311425683    1\n",
       "0.5510204081632653     1\n",
       "0.6                    1\n",
       "0.46524064171123       1\n",
       "Name: count, dtype: int64"
      ]
     },
     "execution_count": 73,
     "metadata": {},
     "output_type": "execute_result"
    }
   ],
   "source": [
    "sampled_df['extent'].value_counts()"
   ]
  },
  {
   "cell_type": "code",
   "execution_count": 38,
   "id": "049e8fcc",
   "metadata": {},
   "outputs": [
    {
     "data": {
      "text/plain": [
       "aspect_ratio\n",
       "0.0                   37\n",
       "0.8679245283018868     1\n",
       "0.6086956521739131     1\n",
       "0.9180327868852459     1\n",
       "0.9215686274509803     1\n",
       "1.0                    1\n",
       "0.9615384615384616     1\n",
       "0.9264705882352942     1\n",
       "1.103896103896104      1\n",
       "0.4791666666666667     1\n",
       "0.9122807017543859     1\n",
       "0.9534883720930233     1\n",
       "0.8448275862068966     1\n",
       "0.5409836065573771     1\n",
       "Name: count, dtype: int64"
      ]
     },
     "execution_count": 38,
     "metadata": {},
     "output_type": "execute_result"
    }
   ],
   "source": [
    "sampled_df['aspect_ratio'].value_counts()"
   ]
  },
  {
   "cell_type": "code",
   "execution_count": null,
   "id": "b1292476",
   "metadata": {},
   "outputs": [],
   "source": []
  },
  {
   "cell_type": "code",
   "execution_count": 86,
   "id": "1b24fdd3",
   "metadata": {},
   "outputs": [
    {
     "name": "stderr",
     "output_type": "stream",
     "text": [
      "C:\\Users\\Mam Hifza Tahir\\AppData\\Local\\Temp\\ipykernel_12296\\1706056554.py:351: SettingWithCopyWarning: \n",
      "A value is trying to be set on a copy of a slice from a DataFrame.\n",
      "Try using .loc[row_indexer,col_indexer] = value instead\n",
      "\n",
      "See the caveats in the documentation: https://pandas.pydata.org/pandas-docs/stable/user_guide/indexing.html#returning-a-view-versus-a-copy\n",
      "  sampled_df[col] = None\n",
      "C:\\Users\\Mam Hifza Tahir\\AppData\\Local\\Temp\\ipykernel_12296\\1706056554.py:351: SettingWithCopyWarning: \n",
      "A value is trying to be set on a copy of a slice from a DataFrame.\n",
      "Try using .loc[row_indexer,col_indexer] = value instead\n",
      "\n",
      "See the caveats in the documentation: https://pandas.pydata.org/pandas-docs/stable/user_guide/indexing.html#returning-a-view-versus-a-copy\n",
      "  sampled_df[col] = None\n",
      "C:\\Users\\Mam Hifza Tahir\\AppData\\Local\\Temp\\ipykernel_12296\\1706056554.py:351: SettingWithCopyWarning: \n",
      "A value is trying to be set on a copy of a slice from a DataFrame.\n",
      "Try using .loc[row_indexer,col_indexer] = value instead\n",
      "\n",
      "See the caveats in the documentation: https://pandas.pydata.org/pandas-docs/stable/user_guide/indexing.html#returning-a-view-versus-a-copy\n",
      "  sampled_df[col] = None\n",
      "C:\\Users\\Mam Hifza Tahir\\AppData\\Local\\Temp\\ipykernel_12296\\1706056554.py:351: SettingWithCopyWarning: \n",
      "A value is trying to be set on a copy of a slice from a DataFrame.\n",
      "Try using .loc[row_indexer,col_indexer] = value instead\n",
      "\n",
      "See the caveats in the documentation: https://pandas.pydata.org/pandas-docs/stable/user_guide/indexing.html#returning-a-view-versus-a-copy\n",
      "  sampled_df[col] = None\n",
      "C:\\Users\\Mam Hifza Tahir\\AppData\\Local\\Temp\\ipykernel_12296\\1706056554.py:351: SettingWithCopyWarning: \n",
      "A value is trying to be set on a copy of a slice from a DataFrame.\n",
      "Try using .loc[row_indexer,col_indexer] = value instead\n",
      "\n",
      "See the caveats in the documentation: https://pandas.pydata.org/pandas-docs/stable/user_guide/indexing.html#returning-a-view-versus-a-copy\n",
      "  sampled_df[col] = None\n",
      "C:\\Users\\Mam Hifza Tahir\\AppData\\Local\\Temp\\ipykernel_12296\\1706056554.py:356: SettingWithCopyWarning: \n",
      "A value is trying to be set on a copy of a slice from a DataFrame.\n",
      "Try using .loc[row_indexer,col_indexer] = value instead\n",
      "\n",
      "See the caveats in the documentation: https://pandas.pydata.org/pandas-docs/stable/user_guide/indexing.html#returning-a-view-versus-a-copy\n",
      "  sampled_df[col] = None\n",
      "C:\\Users\\Mam Hifza Tahir\\AppData\\Local\\Temp\\ipykernel_12296\\1706056554.py:356: SettingWithCopyWarning: \n",
      "A value is trying to be set on a copy of a slice from a DataFrame.\n",
      "Try using .loc[row_indexer,col_indexer] = value instead\n",
      "\n",
      "See the caveats in the documentation: https://pandas.pydata.org/pandas-docs/stable/user_guide/indexing.html#returning-a-view-versus-a-copy\n",
      "  sampled_df[col] = None\n",
      "C:\\Users\\Mam Hifza Tahir\\AppData\\Local\\Temp\\ipykernel_12296\\1706056554.py:356: SettingWithCopyWarning: \n",
      "A value is trying to be set on a copy of a slice from a DataFrame.\n",
      "Try using .loc[row_indexer,col_indexer] = value instead\n",
      "\n",
      "See the caveats in the documentation: https://pandas.pydata.org/pandas-docs/stable/user_guide/indexing.html#returning-a-view-versus-a-copy\n",
      "  sampled_df[col] = None\n"
     ]
    },
    {
     "name": "stdout",
     "output_type": "stream",
     "text": [
      "Processing images and extracting features...\n",
      "Extracting features...\n"
     ]
    },
    {
     "name": "stderr",
     "output_type": "stream",
     "text": [
      "  0%|          | 0/50 [00:00<?, ?it/s]"
     ]
    },
    {
     "name": "stdout",
     "output_type": "stream",
     "text": [
      "\n",
      "Processing image 0: dataset\\Train/0/00000_00001_00000.png\n",
      "  Image loaded: color shape=(30, 29, 3), gray shape=(30, 29)\n",
      "  Preprocessing: denoised shape=(30, 29)\n",
      "  HSV conversion: hsv shape=(30, 29, 3)\n",
      "  Segmentation: mask shape=(30, 29), sum=0\n",
      "Warning: very few foreground pixels in HSV mask: 0 pixels\n",
      "  Post-processing: binary sum=0, opened sum=0, cleaned sum=0, filled sum=0\n",
      "Warning: very few pixels in final mask: 0 pixels\n"
     ]
    },
    {
     "name": "stderr",
     "output_type": "stream",
     "text": [
      "  2%|▏         | 1/50 [00:00<00:09,  5.14it/s]"
     ]
    },
    {
     "name": "stdout",
     "output_type": "stream",
     "text": [
      "Warning: very few foreground pixels in HSV mask: 0 pixels\n"
     ]
    },
    {
     "name": "stderr",
     "output_type": "stream",
     "text": [
      "  4%|▍         | 2/50 [00:00<00:23,  2.06it/s]"
     ]
    },
    {
     "name": "stdout",
     "output_type": "stream",
     "text": [
      "Warning: very few pixels in final mask: 0 pixels\n"
     ]
    },
    {
     "name": "stderr",
     "output_type": "stream",
     "text": [
      "  6%|▌         | 3/50 [00:01<00:22,  2.08it/s]"
     ]
    },
    {
     "name": "stdout",
     "output_type": "stream",
     "text": [
      "Warning: very few foreground pixels in HSV mask: 0 pixels\n",
      "Warning: very few pixels in final mask: 0 pixels\n"
     ]
    },
    {
     "name": "stderr",
     "output_type": "stream",
     "text": [
      "  8%|▊         | 4/50 [00:01<00:19,  2.36it/s]"
     ]
    },
    {
     "name": "stdout",
     "output_type": "stream",
     "text": [
      "Warning: very few foreground pixels in HSV mask: 0 pixels\n",
      "Warning: very few pixels in final mask: 0 pixels\n",
      "Warning: very few foreground pixels in HSV mask: 0 pixels\n",
      "Warning: very few pixels in final mask: 0 pixels\n"
     ]
    },
    {
     "name": "stderr",
     "output_type": "stream",
     "text": [
      " 12%|█▏        | 6/50 [00:01<00:11,  3.94it/s]"
     ]
    },
    {
     "name": "stdout",
     "output_type": "stream",
     "text": [
      "Warning: very few foreground pixels in HSV mask: 0 pixels\n",
      "Warning: very few pixels in final mask: 0 pixels\n",
      "Warning: very few foreground pixels in HSV mask: 0 pixels\n"
     ]
    },
    {
     "name": "stderr",
     "output_type": "stream",
     "text": [
      " 16%|█▌        | 8/50 [00:02<00:08,  5.02it/s]"
     ]
    },
    {
     "name": "stdout",
     "output_type": "stream",
     "text": [
      "Warning: very few pixels in final mask: 0 pixels\n",
      "Warning: very few foreground pixels in HSV mask: 0 pixels\n",
      "Warning: very few pixels in final mask: 0 pixels\n"
     ]
    },
    {
     "name": "stderr",
     "output_type": "stream",
     "text": [
      " 18%|█▊        | 9/50 [00:02<00:08,  5.05it/s]"
     ]
    },
    {
     "name": "stdout",
     "output_type": "stream",
     "text": [
      "Warning: very few foreground pixels in HSV mask: 0 pixels\n",
      "Warning: very few pixels in final mask: 0 pixels\n"
     ]
    },
    {
     "name": "stderr",
     "output_type": "stream",
     "text": [
      " 20%|██        | 10/50 [00:02<00:09,  4.16it/s]"
     ]
    },
    {
     "name": "stdout",
     "output_type": "stream",
     "text": [
      "Warning: very few foreground pixels in HSV mask: 0 pixels\n",
      "Warning: very few pixels in final mask: 0 pixels\n",
      "Warning: very few foreground pixels in HSV mask: 0 pixels\n",
      "Warning: very few pixels in final mask: 0 pixels\n"
     ]
    },
    {
     "name": "stderr",
     "output_type": "stream",
     "text": [
      " 24%|██▍       | 12/50 [00:03<00:12,  2.98it/s]"
     ]
    },
    {
     "name": "stdout",
     "output_type": "stream",
     "text": [
      "Warning: very few foreground pixels in HSV mask: 0 pixels\n",
      "Warning: very few pixels in final mask: 0 pixels\n",
      "Warning: very few foreground pixels in HSV mask: 0 pixels\n"
     ]
    },
    {
     "name": "stderr",
     "output_type": "stream",
     "text": [
      " 26%|██▌       | 13/50 [00:04<00:20,  1.83it/s]"
     ]
    },
    {
     "name": "stdout",
     "output_type": "stream",
     "text": [
      "Warning: very few pixels in final mask: 0 pixels\n"
     ]
    },
    {
     "name": "stderr",
     "output_type": "stream",
     "text": [
      " 28%|██▊       | 14/50 [00:05<00:19,  1.88it/s]"
     ]
    },
    {
     "name": "stdout",
     "output_type": "stream",
     "text": [
      "Warning: very few foreground pixels in HSV mask: 0 pixels\n",
      "Warning: very few pixels in final mask: 0 pixels\n"
     ]
    },
    {
     "name": "stderr",
     "output_type": "stream",
     "text": [
      " 32%|███▏      | 16/50 [00:05<00:12,  2.78it/s]"
     ]
    },
    {
     "name": "stdout",
     "output_type": "stream",
     "text": [
      "Warning: very few foreground pixels in HSV mask: 0 pixels\n",
      "Warning: very few pixels in final mask: 0 pixels\n",
      "Warning: very few foreground pixels in HSV mask: 0 pixels\n",
      "Warning: very few pixels in final mask: 0 pixels\n"
     ]
    },
    {
     "name": "stderr",
     "output_type": "stream",
     "text": [
      " 34%|███▍      | 17/50 [00:05<00:10,  3.23it/s]"
     ]
    },
    {
     "name": "stdout",
     "output_type": "stream",
     "text": [
      "Warning: very few foreground pixels in HSV mask: 0 pixels\n",
      "Warning: very few pixels in final mask: 0 pixels\n"
     ]
    },
    {
     "name": "stderr",
     "output_type": "stream",
     "text": [
      " 38%|███▊      | 19/50 [00:06<00:08,  3.77it/s]"
     ]
    },
    {
     "name": "stdout",
     "output_type": "stream",
     "text": [
      "Warning: very few foreground pixels in HSV mask: 0 pixels\n",
      "Warning: very few pixels in final mask: 0 pixels\n",
      "Warning: very few foreground pixels in HSV mask: 0 pixels\n",
      "Warning: very few pixels in final mask: 0 pixels\n"
     ]
    },
    {
     "name": "stderr",
     "output_type": "stream",
     "text": [
      " 42%|████▏     | 21/50 [00:06<00:05,  5.15it/s]"
     ]
    },
    {
     "name": "stdout",
     "output_type": "stream",
     "text": [
      "Warning: very few foreground pixels in HSV mask: 0 pixels\n",
      "Warning: very few pixels in final mask: 0 pixels\n",
      "Warning: very few foreground pixels in HSV mask: 0 pixels\n",
      "Warning: very few pixels in final mask: 0 pixels\n"
     ]
    },
    {
     "name": "stderr",
     "output_type": "stream",
     "text": [
      " 44%|████▍     | 22/50 [00:06<00:05,  4.92it/s]"
     ]
    },
    {
     "name": "stdout",
     "output_type": "stream",
     "text": [
      "Warning: very few foreground pixels in HSV mask: 0 pixels\n",
      "Warning: very few pixels in final mask: 0 pixels\n",
      "Warning: very few foreground pixels in HSV mask: 0 pixels\n",
      "Warning: very few pixels in final mask: 0 pixels\n"
     ]
    },
    {
     "name": "stderr",
     "output_type": "stream",
     "text": [
      " 48%|████▊     | 24/50 [00:07<00:08,  3.24it/s]"
     ]
    },
    {
     "name": "stdout",
     "output_type": "stream",
     "text": [
      "Warning: very few foreground pixels in HSV mask: 0 pixels\n",
      "Warning: very few pixels in final mask: 0 pixels\n"
     ]
    },
    {
     "name": "stderr",
     "output_type": "stream",
     "text": [
      " 50%|█████     | 25/50 [00:07<00:07,  3.45it/s]"
     ]
    },
    {
     "name": "stdout",
     "output_type": "stream",
     "text": [
      "Warning: very few foreground pixels in HSV mask: 0 pixels\n",
      "Warning: very few pixels in final mask: 0 pixels\n"
     ]
    },
    {
     "name": "stderr",
     "output_type": "stream",
     "text": [
      " 52%|█████▏    | 26/50 [00:08<00:08,  2.93it/s]"
     ]
    },
    {
     "name": "stdout",
     "output_type": "stream",
     "text": [
      "Warning: very few foreground pixels in HSV mask: 0 pixels\n",
      "Warning: very few pixels in final mask: 0 pixels\n"
     ]
    },
    {
     "name": "stderr",
     "output_type": "stream",
     "text": [
      " 54%|█████▍    | 27/50 [00:09<00:10,  2.30it/s]"
     ]
    },
    {
     "name": "stdout",
     "output_type": "stream",
     "text": [
      "Warning: very few foreground pixels in HSV mask: 0 pixels\n",
      "Warning: very few pixels in final mask: 0 pixels\n"
     ]
    },
    {
     "name": "stderr",
     "output_type": "stream",
     "text": [
      " 56%|█████▌    | 28/50 [00:09<00:08,  2.45it/s]"
     ]
    },
    {
     "name": "stdout",
     "output_type": "stream",
     "text": [
      "Warning: very few foreground pixels in HSV mask: 0 pixels\n",
      "Warning: very few pixels in final mask: 0 pixels\n"
     ]
    },
    {
     "name": "stderr",
     "output_type": "stream",
     "text": [
      " 58%|█████▊    | 29/50 [00:09<00:07,  2.78it/s]"
     ]
    },
    {
     "name": "stdout",
     "output_type": "stream",
     "text": [
      "Warning: very few foreground pixels in HSV mask: 0 pixels\n",
      "Warning: very few pixels in final mask: 0 pixels\n"
     ]
    },
    {
     "name": "stderr",
     "output_type": "stream",
     "text": [
      " 60%|██████    | 30/50 [00:09<00:06,  2.89it/s]"
     ]
    },
    {
     "name": "stdout",
     "output_type": "stream",
     "text": [
      "Warning: very few foreground pixels in HSV mask: 0 pixels\n",
      "Warning: very few pixels in final mask: 0 pixels\n"
     ]
    },
    {
     "name": "stderr",
     "output_type": "stream",
     "text": [
      " 62%|██████▏   | 31/50 [00:10<00:06,  3.17it/s]"
     ]
    },
    {
     "name": "stdout",
     "output_type": "stream",
     "text": [
      "Warning: very few foreground pixels in HSV mask: 0 pixels\n",
      "Warning: very few pixels in final mask: 0 pixels\n"
     ]
    },
    {
     "name": "stderr",
     "output_type": "stream",
     "text": [
      " 64%|██████▍   | 32/50 [00:10<00:04,  3.63it/s]"
     ]
    },
    {
     "name": "stdout",
     "output_type": "stream",
     "text": [
      "Warning: very few foreground pixels in HSV mask: 0 pixels\n",
      "Warning: very few pixels in final mask: 0 pixels\n"
     ]
    },
    {
     "name": "stderr",
     "output_type": "stream",
     "text": [
      " 66%|██████▌   | 33/50 [00:10<00:04,  3.65it/s]"
     ]
    },
    {
     "name": "stdout",
     "output_type": "stream",
     "text": [
      "Warning: very few foreground pixels in HSV mask: 0 pixels\n",
      "Warning: very few pixels in final mask: 0 pixels\n",
      "Warning: very few foreground pixels in HSV mask: 0 pixels\n",
      "Warning: very few pixels in final mask: 0 pixels\n"
     ]
    },
    {
     "name": "stderr",
     "output_type": "stream",
     "text": [
      " 70%|███████   | 35/50 [00:10<00:03,  4.90it/s]"
     ]
    },
    {
     "name": "stdout",
     "output_type": "stream",
     "text": [
      "Warning: very few foreground pixels in HSV mask: 0 pixels\n",
      "Warning: very few pixels in final mask: 0 pixels\n"
     ]
    },
    {
     "name": "stderr",
     "output_type": "stream",
     "text": [
      " 72%|███████▏  | 36/50 [00:11<00:04,  3.43it/s]"
     ]
    },
    {
     "name": "stdout",
     "output_type": "stream",
     "text": [
      "Warning: very few foreground pixels in HSV mask: 0 pixels\n",
      "Warning: very few pixels in final mask: 0 pixels\n"
     ]
    },
    {
     "name": "stderr",
     "output_type": "stream",
     "text": [
      " 74%|███████▍  | 37/50 [00:11<00:03,  3.78it/s]"
     ]
    },
    {
     "name": "stdout",
     "output_type": "stream",
     "text": [
      "Warning: very few foreground pixels in HSV mask: 0 pixels\n",
      "Warning: very few pixels in final mask: 0 pixels\n",
      "Warning: very few foreground pixels in HSV mask: 0 pixels\n",
      "Warning: very few pixels in final mask: 0 pixels\n"
     ]
    },
    {
     "name": "stderr",
     "output_type": "stream",
     "text": [
      " 78%|███████▊  | 39/50 [00:12<00:02,  3.67it/s]"
     ]
    },
    {
     "name": "stdout",
     "output_type": "stream",
     "text": [
      "Warning: very few foreground pixels in HSV mask: 0 pixels\n",
      "Warning: very few pixels in final mask: 0 pixels\n"
     ]
    },
    {
     "name": "stderr",
     "output_type": "stream",
     "text": [
      " 80%|████████  | 40/50 [00:12<00:02,  4.05it/s]"
     ]
    },
    {
     "name": "stdout",
     "output_type": "stream",
     "text": [
      "Warning: very few foreground pixels in HSV mask: 0 pixels\n",
      "Warning: very few pixels in final mask: 0 pixels\n"
     ]
    },
    {
     "name": "stderr",
     "output_type": "stream",
     "text": [
      " 82%|████████▏ | 41/50 [00:12<00:02,  3.70it/s]"
     ]
    },
    {
     "name": "stdout",
     "output_type": "stream",
     "text": [
      "Warning: very few foreground pixels in HSV mask: 0 pixels\n",
      "Warning: very few pixels in final mask: 0 pixels\n",
      "Warning: very few foreground pixels in HSV mask: 0 pixels\n"
     ]
    },
    {
     "name": "stderr",
     "output_type": "stream",
     "text": [
      " 86%|████████▌ | 43/50 [00:12<00:01,  4.97it/s]"
     ]
    },
    {
     "name": "stdout",
     "output_type": "stream",
     "text": [
      "Warning: very few pixels in final mask: 0 pixels\n",
      "Warning: very few foreground pixels in HSV mask: 0 pixels\n",
      "Warning: very few pixels in final mask: 0 pixels\n"
     ]
    },
    {
     "name": "stderr",
     "output_type": "stream",
     "text": [
      " 88%|████████▊ | 44/50 [00:13<00:01,  5.38it/s]"
     ]
    },
    {
     "name": "stdout",
     "output_type": "stream",
     "text": [
      "Warning: very few foreground pixels in HSV mask: 0 pixels\n",
      "Warning: very few pixels in final mask: 0 pixels\n"
     ]
    },
    {
     "name": "stderr",
     "output_type": "stream",
     "text": [
      " 90%|█████████ | 45/50 [00:13<00:01,  3.50it/s]"
     ]
    },
    {
     "name": "stdout",
     "output_type": "stream",
     "text": [
      "Warning: very few foreground pixels in HSV mask: 0 pixels\n",
      "Warning: very few pixels in final mask: 0 pixels\n"
     ]
    },
    {
     "name": "stderr",
     "output_type": "stream",
     "text": [
      " 94%|█████████▍| 47/50 [00:13<00:00,  4.71it/s]"
     ]
    },
    {
     "name": "stdout",
     "output_type": "stream",
     "text": [
      "Warning: very few foreground pixels in HSV mask: 0 pixels\n",
      "Warning: very few pixels in final mask: 0 pixels\n",
      "Warning: very few foreground pixels in HSV mask: 0 pixels\n",
      "Warning: very few pixels in final mask: 0 pixels\n"
     ]
    },
    {
     "name": "stderr",
     "output_type": "stream",
     "text": [
      " 96%|█████████▌| 48/50 [00:14<00:00,  3.22it/s]"
     ]
    },
    {
     "name": "stdout",
     "output_type": "stream",
     "text": [
      "Warning: very few foreground pixels in HSV mask: 0 pixels\n",
      "Warning: very few pixels in final mask: 0 pixels\n"
     ]
    },
    {
     "name": "stderr",
     "output_type": "stream",
     "text": [
      "100%|██████████| 50/50 [00:14<00:00,  3.40it/s]"
     ]
    },
    {
     "name": "stdout",
     "output_type": "stream",
     "text": [
      "Warning: very few foreground pixels in HSV mask: 0 pixels\n",
      "Warning: very few pixels in final mask: 0 pixels\n",
      "Warning: very few foreground pixels in HSV mask: 0 pixels\n",
      "Warning: very few pixels in final mask: 0 pixels\n",
      "Successfully extracted features from 0 out of 50 images.\n",
      "\n",
      "Feature Statistics:\n",
      "  corner_count: 0 non-zero values (0.0%)\n",
      "  circularity: 0 non-zero values (0.0%)\n",
      "  aspect_ratio: 0 non-zero values (0.0%)\n",
      "  extent: 0 non-zero values (0.0%)\n",
      "  avg_hue: 0 non-zero values (0.0%)\n",
      "Debugging 10 failed images...\n",
      "\n",
      "Processing image 20: dataset\\Train/0/00000_00002_00015.png\n",
      "  Image loaded: color shape=(41, 41, 3), gray shape=(41, 41)\n"
     ]
    },
    {
     "name": "stderr",
     "output_type": "stream",
     "text": [
      "\n"
     ]
    },
    {
     "name": "stdout",
     "output_type": "stream",
     "text": [
      "  Preprocessing: denoised shape=(41, 41)\n",
      "  HSV conversion: hsv shape=(41, 41, 3)\n",
      "  Segmentation: mask shape=(41, 41), sum=0\n",
      "Warning: very few foreground pixels in HSV mask: 0 pixels\n",
      "  Post-processing: binary sum=0, opened sum=0, cleaned sum=0, filled sum=0\n",
      "Warning: very few pixels in final mask: 0 pixels\n",
      "Saved debug images for image 20\n",
      "\n",
      "Processing image 9: dataset\\Train/0/00000_00006_00016.png\n",
      "  Image loaded: color shape=(56, 54, 3), gray shape=(56, 54)\n",
      "  Preprocessing: denoised shape=(56, 54)\n",
      "  HSV conversion: hsv shape=(56, 54, 3)\n",
      "  Segmentation: mask shape=(56, 54), sum=0\n",
      "Warning: very few foreground pixels in HSV mask: 0 pixels\n",
      "  Post-processing: binary sum=0, opened sum=0, cleaned sum=0, filled sum=0\n",
      "Warning: very few pixels in final mask: 0 pixels\n",
      "Saved debug images for image 9\n",
      "\n",
      "Processing image 23: dataset\\Train/0/00000_00003_00019.png\n",
      "  Image loaded: color shape=(50, 50, 3), gray shape=(50, 50)\n",
      "  Preprocessing: denoised shape=(50, 50)\n",
      "  HSV conversion: hsv shape=(50, 50, 3)\n",
      "  Segmentation: mask shape=(50, 50), sum=0\n",
      "Warning: very few foreground pixels in HSV mask: 0 pixels\n",
      "  Post-processing: binary sum=0, opened sum=0, cleaned sum=0, filled sum=0\n",
      "Warning: very few pixels in final mask: 0 pixels\n",
      "Saved debug images for image 23\n",
      "\n",
      "Processing image 22: dataset\\Train/0/00000_00004_00027.png\n",
      "  Image loaded: color shape=(100, 95, 3), gray shape=(100, 95)\n",
      "  Preprocessing: denoised shape=(100, 95)\n",
      "  HSV conversion: hsv shape=(100, 95, 3)\n",
      "  Segmentation: mask shape=(100, 95), sum=0\n",
      "Warning: very few foreground pixels in HSV mask: 0 pixels\n",
      "  Post-processing: binary sum=0, opened sum=0, cleaned sum=0, filled sum=0\n",
      "Warning: very few pixels in final mask: 0 pixels\n",
      "Saved debug images for image 22\n",
      "\n",
      "Processing image 0: dataset\\Train/0/00000_00001_00000.png\n",
      "  Image loaded: color shape=(30, 29, 3), gray shape=(30, 29)\n",
      "  Preprocessing: denoised shape=(30, 29)\n",
      "  HSV conversion: hsv shape=(30, 29, 3)\n",
      "  Segmentation: mask shape=(30, 29), sum=0\n",
      "Warning: very few foreground pixels in HSV mask: 0 pixels\n",
      "  Post-processing: binary sum=0, opened sum=0, cleaned sum=0, filled sum=0\n",
      "Warning: very few pixels in final mask: 0 pixels\n",
      "Saved debug images for image 0\n",
      "\n",
      "Processing image 44: dataset\\Train/0/00000_00006_00020.png\n",
      "  Image loaded: color shape=(69, 63, 3), gray shape=(69, 63)\n",
      "  Preprocessing: denoised shape=(69, 63)\n",
      "  HSV conversion: hsv shape=(69, 63, 3)\n",
      "  Segmentation: mask shape=(69, 63), sum=0\n",
      "Warning: very few foreground pixels in HSV mask: 0 pixels\n",
      "  Post-processing: binary sum=0, opened sum=0, cleaned sum=0, filled sum=0\n",
      "Warning: very few pixels in final mask: 0 pixels\n",
      "Saved debug images for image 44\n",
      "\n",
      "Processing image 27: dataset\\Train/0/00000_00004_00005.png\n",
      "  Image loaded: color shape=(63, 59, 3), gray shape=(63, 59)\n",
      "  Preprocessing: denoised shape=(63, 59)\n",
      "  HSV conversion: hsv shape=(63, 59, 3)\n",
      "  Segmentation: mask shape=(63, 59), sum=0\n",
      "Warning: very few foreground pixels in HSV mask: 0 pixels\n",
      "  Post-processing: binary sum=0, opened sum=0, cleaned sum=0, filled sum=0\n",
      "Warning: very few pixels in final mask: 0 pixels\n",
      "Saved debug images for image 27\n",
      "\n",
      "Processing image 24: dataset\\Train/0/00000_00003_00018.png\n",
      "  Image loaded: color shape=(46, 47, 3), gray shape=(46, 47)\n",
      "  Preprocessing: denoised shape=(46, 47)\n",
      "  HSV conversion: hsv shape=(46, 47, 3)\n",
      "  Segmentation: mask shape=(46, 47), sum=0\n",
      "Warning: very few foreground pixels in HSV mask: 0 pixels\n",
      "  Post-processing: binary sum=0, opened sum=0, cleaned sum=0, filled sum=0\n",
      "Warning: very few pixels in final mask: 0 pixels\n",
      "Saved debug images for image 24\n",
      "\n",
      "Processing image 37: dataset\\Train/0/00000_00003_00005.png\n",
      "  Image loaded: color shape=(31, 31, 3), gray shape=(31, 31)\n",
      "  Preprocessing: denoised shape=(31, 31)\n",
      "  HSV conversion: hsv shape=(31, 31, 3)\n",
      "  Segmentation: mask shape=(31, 31), sum=0\n",
      "Warning: very few foreground pixels in HSV mask: 0 pixels\n",
      "  Post-processing: binary sum=0, opened sum=0, cleaned sum=0, filled sum=0\n",
      "Warning: very few pixels in final mask: 0 pixels\n",
      "Saved debug images for image 37\n",
      "\n",
      "Processing image 15: dataset\\Train/0/00000_00002_00013.png\n",
      "  Image loaded: color shape=(39, 39, 3), gray shape=(39, 39)\n",
      "  Preprocessing: denoised shape=(39, 39)\n",
      "  HSV conversion: hsv shape=(39, 39, 3)\n",
      "  Segmentation: mask shape=(39, 39), sum=0\n",
      "Warning: very few foreground pixels in HSV mask: 0 pixels\n",
      "  Post-processing: binary sum=0, opened sum=0, cleaned sum=0, filled sum=0\n",
      "Warning: very few pixels in final mask: 0 pixels\n",
      "Saved debug images for image 15\n",
      "Results saved to processed_features.csv\n",
      "Overall success rate: 0.0%\n"
     ]
    },
    {
     "data": {
      "text/html": [
       "<div>\n",
       "<style scoped>\n",
       "    .dataframe tbody tr th:only-of-type {\n",
       "        vertical-align: middle;\n",
       "    }\n",
       "\n",
       "    .dataframe tbody tr th {\n",
       "        vertical-align: top;\n",
       "    }\n",
       "\n",
       "    .dataframe thead th {\n",
       "        text-align: right;\n",
       "    }\n",
       "</style>\n",
       "<table border=\"1\" class=\"dataframe\">\n",
       "  <thead>\n",
       "    <tr style=\"text-align: right;\">\n",
       "      <th></th>\n",
       "      <th>Width</th>\n",
       "      <th>Height</th>\n",
       "      <th>Roi.X1</th>\n",
       "      <th>Roi.Y1</th>\n",
       "      <th>Roi.X2</th>\n",
       "      <th>Roi.Y2</th>\n",
       "      <th>ClassId</th>\n",
       "      <th>Path</th>\n",
       "      <th>corner_count</th>\n",
       "      <th>circularity</th>\n",
       "      <th>aspect_ratio</th>\n",
       "      <th>extent</th>\n",
       "      <th>avg_hue</th>\n",
       "      <th>has_mask</th>\n",
       "      <th>mask_size</th>\n",
       "      <th>processing_status</th>\n",
       "    </tr>\n",
       "  </thead>\n",
       "  <tbody>\n",
       "    <tr>\n",
       "      <th>0</th>\n",
       "      <td>29</td>\n",
       "      <td>30</td>\n",
       "      <td>6</td>\n",
       "      <td>6</td>\n",
       "      <td>24</td>\n",
       "      <td>25</td>\n",
       "      <td>0</td>\n",
       "      <td>Train/0/00000_00001_00000.png</td>\n",
       "      <td>0</td>\n",
       "      <td>0</td>\n",
       "      <td>0</td>\n",
       "      <td>0</td>\n",
       "      <td>0</td>\n",
       "      <td>True</td>\n",
       "      <td>0</td>\n",
       "      <td>failed</td>\n",
       "    </tr>\n",
       "    <tr>\n",
       "      <th>1</th>\n",
       "      <td>56</td>\n",
       "      <td>54</td>\n",
       "      <td>5</td>\n",
       "      <td>5</td>\n",
       "      <td>50</td>\n",
       "      <td>49</td>\n",
       "      <td>0</td>\n",
       "      <td>Train/0/00000_00005_00022.png</td>\n",
       "      <td>0</td>\n",
       "      <td>0</td>\n",
       "      <td>0</td>\n",
       "      <td>0</td>\n",
       "      <td>0</td>\n",
       "      <td>True</td>\n",
       "      <td>0</td>\n",
       "      <td>failed</td>\n",
       "    </tr>\n",
       "    <tr>\n",
       "      <th>2</th>\n",
       "      <td>69</td>\n",
       "      <td>70</td>\n",
       "      <td>7</td>\n",
       "      <td>6</td>\n",
       "      <td>63</td>\n",
       "      <td>64</td>\n",
       "      <td>0</td>\n",
       "      <td>Train/0/00000_00002_00024.png</td>\n",
       "      <td>0</td>\n",
       "      <td>0</td>\n",
       "      <td>0</td>\n",
       "      <td>0</td>\n",
       "      <td>0</td>\n",
       "      <td>True</td>\n",
       "      <td>0</td>\n",
       "      <td>failed</td>\n",
       "    </tr>\n",
       "    <tr>\n",
       "      <th>3</th>\n",
       "      <td>60</td>\n",
       "      <td>64</td>\n",
       "      <td>5</td>\n",
       "      <td>6</td>\n",
       "      <td>55</td>\n",
       "      <td>59</td>\n",
       "      <td>0</td>\n",
       "      <td>Train/0/00000_00006_00019.png</td>\n",
       "      <td>0</td>\n",
       "      <td>0</td>\n",
       "      <td>0</td>\n",
       "      <td>0</td>\n",
       "      <td>0</td>\n",
       "      <td>True</td>\n",
       "      <td>0</td>\n",
       "      <td>failed</td>\n",
       "    </tr>\n",
       "    <tr>\n",
       "      <th>4</th>\n",
       "      <td>27</td>\n",
       "      <td>26</td>\n",
       "      <td>6</td>\n",
       "      <td>5</td>\n",
       "      <td>22</td>\n",
       "      <td>21</td>\n",
       "      <td>0</td>\n",
       "      <td>Train/0/00000_00002_00000.png</td>\n",
       "      <td>0</td>\n",
       "      <td>0</td>\n",
       "      <td>0</td>\n",
       "      <td>0</td>\n",
       "      <td>0</td>\n",
       "      <td>True</td>\n",
       "      <td>0</td>\n",
       "      <td>failed</td>\n",
       "    </tr>\n",
       "    <tr>\n",
       "      <th>5</th>\n",
       "      <td>31</td>\n",
       "      <td>30</td>\n",
       "      <td>5</td>\n",
       "      <td>6</td>\n",
       "      <td>26</td>\n",
       "      <td>25</td>\n",
       "      <td>0</td>\n",
       "      <td>Train/0/00000_00005_00005.png</td>\n",
       "      <td>0</td>\n",
       "      <td>0</td>\n",
       "      <td>0</td>\n",
       "      <td>0</td>\n",
       "      <td>0</td>\n",
       "      <td>True</td>\n",
       "      <td>0</td>\n",
       "      <td>failed</td>\n",
       "    </tr>\n",
       "    <tr>\n",
       "      <th>6</th>\n",
       "      <td>38</td>\n",
       "      <td>38</td>\n",
       "      <td>5</td>\n",
       "      <td>6</td>\n",
       "      <td>32</td>\n",
       "      <td>33</td>\n",
       "      <td>0</td>\n",
       "      <td>Train/0/00000_00001_00015.png</td>\n",
       "      <td>0</td>\n",
       "      <td>0</td>\n",
       "      <td>0</td>\n",
       "      <td>0</td>\n",
       "      <td>0</td>\n",
       "      <td>True</td>\n",
       "      <td>0</td>\n",
       "      <td>failed</td>\n",
       "    </tr>\n",
       "    <tr>\n",
       "      <th>7</th>\n",
       "      <td>35</td>\n",
       "      <td>38</td>\n",
       "      <td>5</td>\n",
       "      <td>6</td>\n",
       "      <td>30</td>\n",
       "      <td>33</td>\n",
       "      <td>0</td>\n",
       "      <td>Train/0/00000_00006_00002.png</td>\n",
       "      <td>0</td>\n",
       "      <td>0</td>\n",
       "      <td>0</td>\n",
       "      <td>0</td>\n",
       "      <td>0</td>\n",
       "      <td>True</td>\n",
       "      <td>0</td>\n",
       "      <td>failed</td>\n",
       "    </tr>\n",
       "    <tr>\n",
       "      <th>8</th>\n",
       "      <td>36</td>\n",
       "      <td>36</td>\n",
       "      <td>6</td>\n",
       "      <td>5</td>\n",
       "      <td>30</td>\n",
       "      <td>30</td>\n",
       "      <td>0</td>\n",
       "      <td>Train/0/00000_00000_00009.png</td>\n",
       "      <td>0</td>\n",
       "      <td>0</td>\n",
       "      <td>0</td>\n",
       "      <td>0</td>\n",
       "      <td>0</td>\n",
       "      <td>True</td>\n",
       "      <td>0</td>\n",
       "      <td>failed</td>\n",
       "    </tr>\n",
       "    <tr>\n",
       "      <th>9</th>\n",
       "      <td>54</td>\n",
       "      <td>56</td>\n",
       "      <td>5</td>\n",
       "      <td>5</td>\n",
       "      <td>48</td>\n",
       "      <td>50</td>\n",
       "      <td>0</td>\n",
       "      <td>Train/0/00000_00006_00016.png</td>\n",
       "      <td>0</td>\n",
       "      <td>0</td>\n",
       "      <td>0</td>\n",
       "      <td>0</td>\n",
       "      <td>0</td>\n",
       "      <td>True</td>\n",
       "      <td>0</td>\n",
       "      <td>failed</td>\n",
       "    </tr>\n",
       "    <tr>\n",
       "      <th>10</th>\n",
       "      <td>74</td>\n",
       "      <td>79</td>\n",
       "      <td>7</td>\n",
       "      <td>7</td>\n",
       "      <td>68</td>\n",
       "      <td>72</td>\n",
       "      <td>0</td>\n",
       "      <td>Train/0/00000_00004_00016.png</td>\n",
       "      <td>0</td>\n",
       "      <td>0</td>\n",
       "      <td>0</td>\n",
       "      <td>0</td>\n",
       "      <td>0</td>\n",
       "      <td>True</td>\n",
       "      <td>0</td>\n",
       "      <td>failed</td>\n",
       "    </tr>\n",
       "    <tr>\n",
       "      <th>11</th>\n",
       "      <td>41</td>\n",
       "      <td>42</td>\n",
       "      <td>6</td>\n",
       "      <td>6</td>\n",
       "      <td>35</td>\n",
       "      <td>37</td>\n",
       "      <td>0</td>\n",
       "      <td>Train/0/00000_00006_00007.png</td>\n",
       "      <td>0</td>\n",
       "      <td>0</td>\n",
       "      <td>0</td>\n",
       "      <td>0</td>\n",
       "      <td>0</td>\n",
       "      <td>True</td>\n",
       "      <td>0</td>\n",
       "      <td>failed</td>\n",
       "    </tr>\n",
       "    <tr>\n",
       "      <th>12</th>\n",
       "      <td>97</td>\n",
       "      <td>100</td>\n",
       "      <td>9</td>\n",
       "      <td>8</td>\n",
       "      <td>89</td>\n",
       "      <td>92</td>\n",
       "      <td>0</td>\n",
       "      <td>Train/0/00000_00006_00027.png</td>\n",
       "      <td>0</td>\n",
       "      <td>0</td>\n",
       "      <td>0</td>\n",
       "      <td>0</td>\n",
       "      <td>0</td>\n",
       "      <td>True</td>\n",
       "      <td>0</td>\n",
       "      <td>failed</td>\n",
       "    </tr>\n",
       "    <tr>\n",
       "      <th>13</th>\n",
       "      <td>59</td>\n",
       "      <td>66</td>\n",
       "      <td>5</td>\n",
       "      <td>6</td>\n",
       "      <td>54</td>\n",
       "      <td>60</td>\n",
       "      <td>0</td>\n",
       "      <td>Train/0/00000_00004_00006.png</td>\n",
       "      <td>0</td>\n",
       "      <td>0</td>\n",
       "      <td>0</td>\n",
       "      <td>0</td>\n",
       "      <td>0</td>\n",
       "      <td>True</td>\n",
       "      <td>0</td>\n",
       "      <td>failed</td>\n",
       "    </tr>\n",
       "    <tr>\n",
       "      <th>14</th>\n",
       "      <td>44</td>\n",
       "      <td>44</td>\n",
       "      <td>6</td>\n",
       "      <td>6</td>\n",
       "      <td>39</td>\n",
       "      <td>39</td>\n",
       "      <td>0</td>\n",
       "      <td>Train/0/00000_00000_00015.png</td>\n",
       "      <td>0</td>\n",
       "      <td>0</td>\n",
       "      <td>0</td>\n",
       "      <td>0</td>\n",
       "      <td>0</td>\n",
       "      <td>True</td>\n",
       "      <td>0</td>\n",
       "      <td>failed</td>\n",
       "    </tr>\n",
       "    <tr>\n",
       "      <th>15</th>\n",
       "      <td>39</td>\n",
       "      <td>39</td>\n",
       "      <td>6</td>\n",
       "      <td>6</td>\n",
       "      <td>34</td>\n",
       "      <td>34</td>\n",
       "      <td>0</td>\n",
       "      <td>Train/0/00000_00002_00013.png</td>\n",
       "      <td>0</td>\n",
       "      <td>0</td>\n",
       "      <td>0</td>\n",
       "      <td>0</td>\n",
       "      <td>0</td>\n",
       "      <td>True</td>\n",
       "      <td>0</td>\n",
       "      <td>failed</td>\n",
       "    </tr>\n",
       "    <tr>\n",
       "      <th>16</th>\n",
       "      <td>42</td>\n",
       "      <td>39</td>\n",
       "      <td>6</td>\n",
       "      <td>5</td>\n",
       "      <td>36</td>\n",
       "      <td>34</td>\n",
       "      <td>0</td>\n",
       "      <td>Train/0/00000_00005_00015.png</td>\n",
       "      <td>0</td>\n",
       "      <td>0</td>\n",
       "      <td>0</td>\n",
       "      <td>0</td>\n",
       "      <td>0</td>\n",
       "      <td>True</td>\n",
       "      <td>0</td>\n",
       "      <td>failed</td>\n",
       "    </tr>\n",
       "    <tr>\n",
       "      <th>17</th>\n",
       "      <td>50</td>\n",
       "      <td>48</td>\n",
       "      <td>5</td>\n",
       "      <td>5</td>\n",
       "      <td>45</td>\n",
       "      <td>43</td>\n",
       "      <td>0</td>\n",
       "      <td>Train/0/00000_00000_00018.png</td>\n",
       "      <td>0</td>\n",
       "      <td>0</td>\n",
       "      <td>0</td>\n",
       "      <td>0</td>\n",
       "      <td>0</td>\n",
       "      <td>True</td>\n",
       "      <td>0</td>\n",
       "      <td>failed</td>\n",
       "    </tr>\n",
       "    <tr>\n",
       "      <th>18</th>\n",
       "      <td>45</td>\n",
       "      <td>44</td>\n",
       "      <td>5</td>\n",
       "      <td>6</td>\n",
       "      <td>40</td>\n",
       "      <td>39</td>\n",
       "      <td>0</td>\n",
       "      <td>Train/0/00000_00005_00018.png</td>\n",
       "      <td>0</td>\n",
       "      <td>0</td>\n",
       "      <td>0</td>\n",
       "      <td>0</td>\n",
       "      <td>0</td>\n",
       "      <td>True</td>\n",
       "      <td>0</td>\n",
       "      <td>failed</td>\n",
       "    </tr>\n",
       "    <tr>\n",
       "      <th>19</th>\n",
       "      <td>29</td>\n",
       "      <td>30</td>\n",
       "      <td>5</td>\n",
       "      <td>6</td>\n",
       "      <td>24</td>\n",
       "      <td>25</td>\n",
       "      <td>0</td>\n",
       "      <td>Train/0/00000_00003_00003.png</td>\n",
       "      <td>0</td>\n",
       "      <td>0</td>\n",
       "      <td>0</td>\n",
       "      <td>0</td>\n",
       "      <td>0</td>\n",
       "      <td>True</td>\n",
       "      <td>0</td>\n",
       "      <td>failed</td>\n",
       "    </tr>\n",
       "    <tr>\n",
       "      <th>20</th>\n",
       "      <td>41</td>\n",
       "      <td>41</td>\n",
       "      <td>6</td>\n",
       "      <td>6</td>\n",
       "      <td>36</td>\n",
       "      <td>36</td>\n",
       "      <td>0</td>\n",
       "      <td>Train/0/00000_00002_00015.png</td>\n",
       "      <td>0</td>\n",
       "      <td>0</td>\n",
       "      <td>0</td>\n",
       "      <td>0</td>\n",
       "      <td>0</td>\n",
       "      <td>True</td>\n",
       "      <td>0</td>\n",
       "      <td>failed</td>\n",
       "    </tr>\n",
       "    <tr>\n",
       "      <th>21</th>\n",
       "      <td>50</td>\n",
       "      <td>52</td>\n",
       "      <td>5</td>\n",
       "      <td>5</td>\n",
       "      <td>45</td>\n",
       "      <td>47</td>\n",
       "      <td>0</td>\n",
       "      <td>Train/0/00000_00001_00025.png</td>\n",
       "      <td>0</td>\n",
       "      <td>0</td>\n",
       "      <td>0</td>\n",
       "      <td>0</td>\n",
       "      <td>0</td>\n",
       "      <td>True</td>\n",
       "      <td>0</td>\n",
       "      <td>failed</td>\n",
       "    </tr>\n",
       "    <tr>\n",
       "      <th>22</th>\n",
       "      <td>95</td>\n",
       "      <td>100</td>\n",
       "      <td>9</td>\n",
       "      <td>9</td>\n",
       "      <td>87</td>\n",
       "      <td>92</td>\n",
       "      <td>0</td>\n",
       "      <td>Train/0/00000_00004_00027.png</td>\n",
       "      <td>0</td>\n",
       "      <td>0</td>\n",
       "      <td>0</td>\n",
       "      <td>0</td>\n",
       "      <td>0</td>\n",
       "      <td>True</td>\n",
       "      <td>0</td>\n",
       "      <td>failed</td>\n",
       "    </tr>\n",
       "    <tr>\n",
       "      <th>23</th>\n",
       "      <td>50</td>\n",
       "      <td>50</td>\n",
       "      <td>5</td>\n",
       "      <td>5</td>\n",
       "      <td>45</td>\n",
       "      <td>45</td>\n",
       "      <td>0</td>\n",
       "      <td>Train/0/00000_00003_00019.png</td>\n",
       "      <td>0</td>\n",
       "      <td>0</td>\n",
       "      <td>0</td>\n",
       "      <td>0</td>\n",
       "      <td>0</td>\n",
       "      <td>True</td>\n",
       "      <td>0</td>\n",
       "      <td>failed</td>\n",
       "    </tr>\n",
       "    <tr>\n",
       "      <th>24</th>\n",
       "      <td>47</td>\n",
       "      <td>46</td>\n",
       "      <td>6</td>\n",
       "      <td>5</td>\n",
       "      <td>42</td>\n",
       "      <td>41</td>\n",
       "      <td>0</td>\n",
       "      <td>Train/0/00000_00003_00018.png</td>\n",
       "      <td>0</td>\n",
       "      <td>0</td>\n",
       "      <td>0</td>\n",
       "      <td>0</td>\n",
       "      <td>0</td>\n",
       "      <td>True</td>\n",
       "      <td>0</td>\n",
       "      <td>failed</td>\n",
       "    </tr>\n",
       "    <tr>\n",
       "      <th>25</th>\n",
       "      <td>81</td>\n",
       "      <td>88</td>\n",
       "      <td>7</td>\n",
       "      <td>8</td>\n",
       "      <td>74</td>\n",
       "      <td>80</td>\n",
       "      <td>0</td>\n",
       "      <td>Train/0/00000_00004_00022.png</td>\n",
       "      <td>0</td>\n",
       "      <td>0</td>\n",
       "      <td>0</td>\n",
       "      <td>0</td>\n",
       "      <td>0</td>\n",
       "      <td>True</td>\n",
       "      <td>0</td>\n",
       "      <td>failed</td>\n",
       "    </tr>\n",
       "    <tr>\n",
       "      <th>26</th>\n",
       "      <td>85</td>\n",
       "      <td>86</td>\n",
       "      <td>7</td>\n",
       "      <td>8</td>\n",
       "      <td>78</td>\n",
       "      <td>79</td>\n",
       "      <td>0</td>\n",
       "      <td>Train/0/00000_00000_00025.png</td>\n",
       "      <td>0</td>\n",
       "      <td>0</td>\n",
       "      <td>0</td>\n",
       "      <td>0</td>\n",
       "      <td>0</td>\n",
       "      <td>True</td>\n",
       "      <td>0</td>\n",
       "      <td>failed</td>\n",
       "    </tr>\n",
       "    <tr>\n",
       "      <th>27</th>\n",
       "      <td>59</td>\n",
       "      <td>63</td>\n",
       "      <td>5</td>\n",
       "      <td>5</td>\n",
       "      <td>54</td>\n",
       "      <td>58</td>\n",
       "      <td>0</td>\n",
       "      <td>Train/0/00000_00004_00005.png</td>\n",
       "      <td>0</td>\n",
       "      <td>0</td>\n",
       "      <td>0</td>\n",
       "      <td>0</td>\n",
       "      <td>0</td>\n",
       "      <td>True</td>\n",
       "      <td>0</td>\n",
       "      <td>failed</td>\n",
       "    </tr>\n",
       "    <tr>\n",
       "      <th>28</th>\n",
       "      <td>46</td>\n",
       "      <td>44</td>\n",
       "      <td>6</td>\n",
       "      <td>5</td>\n",
       "      <td>41</td>\n",
       "      <td>39</td>\n",
       "      <td>0</td>\n",
       "      <td>Train/0/00000_00000_00016.png</td>\n",
       "      <td>0</td>\n",
       "      <td>0</td>\n",
       "      <td>0</td>\n",
       "      <td>0</td>\n",
       "      <td>0</td>\n",
       "      <td>True</td>\n",
       "      <td>0</td>\n",
       "      <td>failed</td>\n",
       "    </tr>\n",
       "    <tr>\n",
       "      <th>29</th>\n",
       "      <td>59</td>\n",
       "      <td>58</td>\n",
       "      <td>6</td>\n",
       "      <td>6</td>\n",
       "      <td>54</td>\n",
       "      <td>53</td>\n",
       "      <td>0</td>\n",
       "      <td>Train/0/00000_00005_00023.png</td>\n",
       "      <td>0</td>\n",
       "      <td>0</td>\n",
       "      <td>0</td>\n",
       "      <td>0</td>\n",
       "      <td>0</td>\n",
       "      <td>True</td>\n",
       "      <td>0</td>\n",
       "      <td>failed</td>\n",
       "    </tr>\n",
       "    <tr>\n",
       "      <th>30</th>\n",
       "      <td>46</td>\n",
       "      <td>49</td>\n",
       "      <td>5</td>\n",
       "      <td>6</td>\n",
       "      <td>41</td>\n",
       "      <td>44</td>\n",
       "      <td>0</td>\n",
       "      <td>Train/0/00000_00006_00012.png</td>\n",
       "      <td>0</td>\n",
       "      <td>0</td>\n",
       "      <td>0</td>\n",
       "      <td>0</td>\n",
       "      <td>0</td>\n",
       "      <td>True</td>\n",
       "      <td>0</td>\n",
       "      <td>failed</td>\n",
       "    </tr>\n",
       "    <tr>\n",
       "      <th>31</th>\n",
       "      <td>34</td>\n",
       "      <td>33</td>\n",
       "      <td>6</td>\n",
       "      <td>5</td>\n",
       "      <td>29</td>\n",
       "      <td>28</td>\n",
       "      <td>0</td>\n",
       "      <td>Train/0/00000_00002_00009.png</td>\n",
       "      <td>0</td>\n",
       "      <td>0</td>\n",
       "      <td>0</td>\n",
       "      <td>0</td>\n",
       "      <td>0</td>\n",
       "      <td>True</td>\n",
       "      <td>0</td>\n",
       "      <td>failed</td>\n",
       "    </tr>\n",
       "    <tr>\n",
       "      <th>32</th>\n",
       "      <td>37</td>\n",
       "      <td>37</td>\n",
       "      <td>6</td>\n",
       "      <td>6</td>\n",
       "      <td>31</td>\n",
       "      <td>31</td>\n",
       "      <td>0</td>\n",
       "      <td>Train/0/00000_00003_00011.png</td>\n",
       "      <td>0</td>\n",
       "      <td>0</td>\n",
       "      <td>0</td>\n",
       "      <td>0</td>\n",
       "      <td>0</td>\n",
       "      <td>True</td>\n",
       "      <td>0</td>\n",
       "      <td>failed</td>\n",
       "    </tr>\n",
       "    <tr>\n",
       "      <th>33</th>\n",
       "      <td>32</td>\n",
       "      <td>31</td>\n",
       "      <td>6</td>\n",
       "      <td>5</td>\n",
       "      <td>27</td>\n",
       "      <td>26</td>\n",
       "      <td>0</td>\n",
       "      <td>Train/0/00000_00002_00007.png</td>\n",
       "      <td>0</td>\n",
       "      <td>0</td>\n",
       "      <td>0</td>\n",
       "      <td>0</td>\n",
       "      <td>0</td>\n",
       "      <td>True</td>\n",
       "      <td>0</td>\n",
       "      <td>failed</td>\n",
       "    </tr>\n",
       "    <tr>\n",
       "      <th>34</th>\n",
       "      <td>40</td>\n",
       "      <td>39</td>\n",
       "      <td>6</td>\n",
       "      <td>5</td>\n",
       "      <td>35</td>\n",
       "      <td>34</td>\n",
       "      <td>0</td>\n",
       "      <td>Train/0/00000_00003_00014.png</td>\n",
       "      <td>0</td>\n",
       "      <td>0</td>\n",
       "      <td>0</td>\n",
       "      <td>0</td>\n",
       "      <td>0</td>\n",
       "      <td>True</td>\n",
       "      <td>0</td>\n",
       "      <td>failed</td>\n",
       "    </tr>\n",
       "    <tr>\n",
       "      <th>35</th>\n",
       "      <td>70</td>\n",
       "      <td>73</td>\n",
       "      <td>7</td>\n",
       "      <td>7</td>\n",
       "      <td>64</td>\n",
       "      <td>67</td>\n",
       "      <td>0</td>\n",
       "      <td>Train/0/00000_00004_00012.png</td>\n",
       "      <td>0</td>\n",
       "      <td>0</td>\n",
       "      <td>0</td>\n",
       "      <td>0</td>\n",
       "      <td>0</td>\n",
       "      <td>True</td>\n",
       "      <td>0</td>\n",
       "      <td>failed</td>\n",
       "    </tr>\n",
       "    <tr>\n",
       "      <th>36</th>\n",
       "      <td>34</td>\n",
       "      <td>36</td>\n",
       "      <td>6</td>\n",
       "      <td>6</td>\n",
       "      <td>29</td>\n",
       "      <td>31</td>\n",
       "      <td>0</td>\n",
       "      <td>Train/0/00000_00006_00000.png</td>\n",
       "      <td>0</td>\n",
       "      <td>0</td>\n",
       "      <td>0</td>\n",
       "      <td>0</td>\n",
       "      <td>0</td>\n",
       "      <td>True</td>\n",
       "      <td>0</td>\n",
       "      <td>failed</td>\n",
       "    </tr>\n",
       "    <tr>\n",
       "      <th>37</th>\n",
       "      <td>31</td>\n",
       "      <td>31</td>\n",
       "      <td>6</td>\n",
       "      <td>6</td>\n",
       "      <td>25</td>\n",
       "      <td>25</td>\n",
       "      <td>0</td>\n",
       "      <td>Train/0/00000_00003_00005.png</td>\n",
       "      <td>0</td>\n",
       "      <td>0</td>\n",
       "      <td>0</td>\n",
       "      <td>0</td>\n",
       "      <td>0</td>\n",
       "      <td>True</td>\n",
       "      <td>0</td>\n",
       "      <td>failed</td>\n",
       "    </tr>\n",
       "    <tr>\n",
       "      <th>38</th>\n",
       "      <td>59</td>\n",
       "      <td>59</td>\n",
       "      <td>6</td>\n",
       "      <td>6</td>\n",
       "      <td>54</td>\n",
       "      <td>54</td>\n",
       "      <td>0</td>\n",
       "      <td>Train/0/00000_00002_00022.png</td>\n",
       "      <td>0</td>\n",
       "      <td>0</td>\n",
       "      <td>0</td>\n",
       "      <td>0</td>\n",
       "      <td>0</td>\n",
       "      <td>True</td>\n",
       "      <td>0</td>\n",
       "      <td>failed</td>\n",
       "    </tr>\n",
       "    <tr>\n",
       "      <th>39</th>\n",
       "      <td>34</td>\n",
       "      <td>33</td>\n",
       "      <td>6</td>\n",
       "      <td>6</td>\n",
       "      <td>29</td>\n",
       "      <td>28</td>\n",
       "      <td>0</td>\n",
       "      <td>Train/0/00000_00005_00009.png</td>\n",
       "      <td>0</td>\n",
       "      <td>0</td>\n",
       "      <td>0</td>\n",
       "      <td>0</td>\n",
       "      <td>0</td>\n",
       "      <td>True</td>\n",
       "      <td>0</td>\n",
       "      <td>failed</td>\n",
       "    </tr>\n",
       "    <tr>\n",
       "      <th>40</th>\n",
       "      <td>55</td>\n",
       "      <td>58</td>\n",
       "      <td>5</td>\n",
       "      <td>5</td>\n",
       "      <td>50</td>\n",
       "      <td>53</td>\n",
       "      <td>0</td>\n",
       "      <td>Train/0/00000_00006_00017.png</td>\n",
       "      <td>0</td>\n",
       "      <td>0</td>\n",
       "      <td>0</td>\n",
       "      <td>0</td>\n",
       "      <td>0</td>\n",
       "      <td>True</td>\n",
       "      <td>0</td>\n",
       "      <td>failed</td>\n",
       "    </tr>\n",
       "    <tr>\n",
       "      <th>41</th>\n",
       "      <td>37</td>\n",
       "      <td>35</td>\n",
       "      <td>5</td>\n",
       "      <td>6</td>\n",
       "      <td>32</td>\n",
       "      <td>30</td>\n",
       "      <td>0</td>\n",
       "      <td>Train/0/00000_00005_00012.png</td>\n",
       "      <td>0</td>\n",
       "      <td>0</td>\n",
       "      <td>0</td>\n",
       "      <td>0</td>\n",
       "      <td>0</td>\n",
       "      <td>True</td>\n",
       "      <td>0</td>\n",
       "      <td>failed</td>\n",
       "    </tr>\n",
       "    <tr>\n",
       "      <th>42</th>\n",
       "      <td>27</td>\n",
       "      <td>27</td>\n",
       "      <td>5</td>\n",
       "      <td>6</td>\n",
       "      <td>22</td>\n",
       "      <td>22</td>\n",
       "      <td>0</td>\n",
       "      <td>Train/0/00000_00005_00000.png</td>\n",
       "      <td>0</td>\n",
       "      <td>0</td>\n",
       "      <td>0</td>\n",
       "      <td>0</td>\n",
       "      <td>0</td>\n",
       "      <td>True</td>\n",
       "      <td>0</td>\n",
       "      <td>failed</td>\n",
       "    </tr>\n",
       "    <tr>\n",
       "      <th>43</th>\n",
       "      <td>33</td>\n",
       "      <td>32</td>\n",
       "      <td>6</td>\n",
       "      <td>5</td>\n",
       "      <td>28</td>\n",
       "      <td>27</td>\n",
       "      <td>0</td>\n",
       "      <td>Train/0/00000_00003_00006.png</td>\n",
       "      <td>0</td>\n",
       "      <td>0</td>\n",
       "      <td>0</td>\n",
       "      <td>0</td>\n",
       "      <td>0</td>\n",
       "      <td>True</td>\n",
       "      <td>0</td>\n",
       "      <td>failed</td>\n",
       "    </tr>\n",
       "    <tr>\n",
       "      <th>44</th>\n",
       "      <td>63</td>\n",
       "      <td>69</td>\n",
       "      <td>6</td>\n",
       "      <td>7</td>\n",
       "      <td>58</td>\n",
       "      <td>62</td>\n",
       "      <td>0</td>\n",
       "      <td>Train/0/00000_00006_00020.png</td>\n",
       "      <td>0</td>\n",
       "      <td>0</td>\n",
       "      <td>0</td>\n",
       "      <td>0</td>\n",
       "      <td>0</td>\n",
       "      <td>True</td>\n",
       "      <td>0</td>\n",
       "      <td>failed</td>\n",
       "    </tr>\n",
       "    <tr>\n",
       "      <th>45</th>\n",
       "      <td>31</td>\n",
       "      <td>32</td>\n",
       "      <td>5</td>\n",
       "      <td>6</td>\n",
       "      <td>26</td>\n",
       "      <td>27</td>\n",
       "      <td>0</td>\n",
       "      <td>Train/0/00000_00002_00008.png</td>\n",
       "      <td>0</td>\n",
       "      <td>0</td>\n",
       "      <td>0</td>\n",
       "      <td>0</td>\n",
       "      <td>0</td>\n",
       "      <td>True</td>\n",
       "      <td>0</td>\n",
       "      <td>failed</td>\n",
       "    </tr>\n",
       "    <tr>\n",
       "      <th>46</th>\n",
       "      <td>32</td>\n",
       "      <td>29</td>\n",
       "      <td>6</td>\n",
       "      <td>5</td>\n",
       "      <td>27</td>\n",
       "      <td>24</td>\n",
       "      <td>0</td>\n",
       "      <td>Train/0/00000_00005_00006.png</td>\n",
       "      <td>0</td>\n",
       "      <td>0</td>\n",
       "      <td>0</td>\n",
       "      <td>0</td>\n",
       "      <td>0</td>\n",
       "      <td>True</td>\n",
       "      <td>0</td>\n",
       "      <td>failed</td>\n",
       "    </tr>\n",
       "    <tr>\n",
       "      <th>47</th>\n",
       "      <td>83</td>\n",
       "      <td>85</td>\n",
       "      <td>7</td>\n",
       "      <td>8</td>\n",
       "      <td>76</td>\n",
       "      <td>78</td>\n",
       "      <td>0</td>\n",
       "      <td>Train/0/00000_00002_00026.png</td>\n",
       "      <td>0</td>\n",
       "      <td>0</td>\n",
       "      <td>0</td>\n",
       "      <td>0</td>\n",
       "      <td>0</td>\n",
       "      <td>True</td>\n",
       "      <td>0</td>\n",
       "      <td>failed</td>\n",
       "    </tr>\n",
       "    <tr>\n",
       "      <th>48</th>\n",
       "      <td>36</td>\n",
       "      <td>35</td>\n",
       "      <td>6</td>\n",
       "      <td>5</td>\n",
       "      <td>31</td>\n",
       "      <td>30</td>\n",
       "      <td>0</td>\n",
       "      <td>Train/0/00000_00003_00010.png</td>\n",
       "      <td>0</td>\n",
       "      <td>0</td>\n",
       "      <td>0</td>\n",
       "      <td>0</td>\n",
       "      <td>0</td>\n",
       "      <td>True</td>\n",
       "      <td>0</td>\n",
       "      <td>failed</td>\n",
       "    </tr>\n",
       "    <tr>\n",
       "      <th>49</th>\n",
       "      <td>33</td>\n",
       "      <td>33</td>\n",
       "      <td>5</td>\n",
       "      <td>5</td>\n",
       "      <td>28</td>\n",
       "      <td>28</td>\n",
       "      <td>0</td>\n",
       "      <td>Train/0/00000_00001_00008.png</td>\n",
       "      <td>0</td>\n",
       "      <td>0</td>\n",
       "      <td>0</td>\n",
       "      <td>0</td>\n",
       "      <td>0</td>\n",
       "      <td>True</td>\n",
       "      <td>0</td>\n",
       "      <td>failed</td>\n",
       "    </tr>\n",
       "  </tbody>\n",
       "</table>\n",
       "</div>"
      ],
      "text/plain": [
       "    Width  Height  Roi.X1  Roi.Y1  Roi.X2  Roi.Y2  ClassId  \\\n",
       "0      29      30       6       6      24      25        0   \n",
       "1      56      54       5       5      50      49        0   \n",
       "2      69      70       7       6      63      64        0   \n",
       "3      60      64       5       6      55      59        0   \n",
       "4      27      26       6       5      22      21        0   \n",
       "5      31      30       5       6      26      25        0   \n",
       "6      38      38       5       6      32      33        0   \n",
       "7      35      38       5       6      30      33        0   \n",
       "8      36      36       6       5      30      30        0   \n",
       "9      54      56       5       5      48      50        0   \n",
       "10     74      79       7       7      68      72        0   \n",
       "11     41      42       6       6      35      37        0   \n",
       "12     97     100       9       8      89      92        0   \n",
       "13     59      66       5       6      54      60        0   \n",
       "14     44      44       6       6      39      39        0   \n",
       "15     39      39       6       6      34      34        0   \n",
       "16     42      39       6       5      36      34        0   \n",
       "17     50      48       5       5      45      43        0   \n",
       "18     45      44       5       6      40      39        0   \n",
       "19     29      30       5       6      24      25        0   \n",
       "20     41      41       6       6      36      36        0   \n",
       "21     50      52       5       5      45      47        0   \n",
       "22     95     100       9       9      87      92        0   \n",
       "23     50      50       5       5      45      45        0   \n",
       "24     47      46       6       5      42      41        0   \n",
       "25     81      88       7       8      74      80        0   \n",
       "26     85      86       7       8      78      79        0   \n",
       "27     59      63       5       5      54      58        0   \n",
       "28     46      44       6       5      41      39        0   \n",
       "29     59      58       6       6      54      53        0   \n",
       "30     46      49       5       6      41      44        0   \n",
       "31     34      33       6       5      29      28        0   \n",
       "32     37      37       6       6      31      31        0   \n",
       "33     32      31       6       5      27      26        0   \n",
       "34     40      39       6       5      35      34        0   \n",
       "35     70      73       7       7      64      67        0   \n",
       "36     34      36       6       6      29      31        0   \n",
       "37     31      31       6       6      25      25        0   \n",
       "38     59      59       6       6      54      54        0   \n",
       "39     34      33       6       6      29      28        0   \n",
       "40     55      58       5       5      50      53        0   \n",
       "41     37      35       5       6      32      30        0   \n",
       "42     27      27       5       6      22      22        0   \n",
       "43     33      32       6       5      28      27        0   \n",
       "44     63      69       6       7      58      62        0   \n",
       "45     31      32       5       6      26      27        0   \n",
       "46     32      29       6       5      27      24        0   \n",
       "47     83      85       7       8      76      78        0   \n",
       "48     36      35       6       5      31      30        0   \n",
       "49     33      33       5       5      28      28        0   \n",
       "\n",
       "                             Path corner_count circularity aspect_ratio  \\\n",
       "0   Train/0/00000_00001_00000.png            0           0            0   \n",
       "1   Train/0/00000_00005_00022.png            0           0            0   \n",
       "2   Train/0/00000_00002_00024.png            0           0            0   \n",
       "3   Train/0/00000_00006_00019.png            0           0            0   \n",
       "4   Train/0/00000_00002_00000.png            0           0            0   \n",
       "5   Train/0/00000_00005_00005.png            0           0            0   \n",
       "6   Train/0/00000_00001_00015.png            0           0            0   \n",
       "7   Train/0/00000_00006_00002.png            0           0            0   \n",
       "8   Train/0/00000_00000_00009.png            0           0            0   \n",
       "9   Train/0/00000_00006_00016.png            0           0            0   \n",
       "10  Train/0/00000_00004_00016.png            0           0            0   \n",
       "11  Train/0/00000_00006_00007.png            0           0            0   \n",
       "12  Train/0/00000_00006_00027.png            0           0            0   \n",
       "13  Train/0/00000_00004_00006.png            0           0            0   \n",
       "14  Train/0/00000_00000_00015.png            0           0            0   \n",
       "15  Train/0/00000_00002_00013.png            0           0            0   \n",
       "16  Train/0/00000_00005_00015.png            0           0            0   \n",
       "17  Train/0/00000_00000_00018.png            0           0            0   \n",
       "18  Train/0/00000_00005_00018.png            0           0            0   \n",
       "19  Train/0/00000_00003_00003.png            0           0            0   \n",
       "20  Train/0/00000_00002_00015.png            0           0            0   \n",
       "21  Train/0/00000_00001_00025.png            0           0            0   \n",
       "22  Train/0/00000_00004_00027.png            0           0            0   \n",
       "23  Train/0/00000_00003_00019.png            0           0            0   \n",
       "24  Train/0/00000_00003_00018.png            0           0            0   \n",
       "25  Train/0/00000_00004_00022.png            0           0            0   \n",
       "26  Train/0/00000_00000_00025.png            0           0            0   \n",
       "27  Train/0/00000_00004_00005.png            0           0            0   \n",
       "28  Train/0/00000_00000_00016.png            0           0            0   \n",
       "29  Train/0/00000_00005_00023.png            0           0            0   \n",
       "30  Train/0/00000_00006_00012.png            0           0            0   \n",
       "31  Train/0/00000_00002_00009.png            0           0            0   \n",
       "32  Train/0/00000_00003_00011.png            0           0            0   \n",
       "33  Train/0/00000_00002_00007.png            0           0            0   \n",
       "34  Train/0/00000_00003_00014.png            0           0            0   \n",
       "35  Train/0/00000_00004_00012.png            0           0            0   \n",
       "36  Train/0/00000_00006_00000.png            0           0            0   \n",
       "37  Train/0/00000_00003_00005.png            0           0            0   \n",
       "38  Train/0/00000_00002_00022.png            0           0            0   \n",
       "39  Train/0/00000_00005_00009.png            0           0            0   \n",
       "40  Train/0/00000_00006_00017.png            0           0            0   \n",
       "41  Train/0/00000_00005_00012.png            0           0            0   \n",
       "42  Train/0/00000_00005_00000.png            0           0            0   \n",
       "43  Train/0/00000_00003_00006.png            0           0            0   \n",
       "44  Train/0/00000_00006_00020.png            0           0            0   \n",
       "45  Train/0/00000_00002_00008.png            0           0            0   \n",
       "46  Train/0/00000_00005_00006.png            0           0            0   \n",
       "47  Train/0/00000_00002_00026.png            0           0            0   \n",
       "48  Train/0/00000_00003_00010.png            0           0            0   \n",
       "49  Train/0/00000_00001_00008.png            0           0            0   \n",
       "\n",
       "   extent avg_hue has_mask mask_size processing_status  \n",
       "0       0       0     True         0            failed  \n",
       "1       0       0     True         0            failed  \n",
       "2       0       0     True         0            failed  \n",
       "3       0       0     True         0            failed  \n",
       "4       0       0     True         0            failed  \n",
       "5       0       0     True         0            failed  \n",
       "6       0       0     True         0            failed  \n",
       "7       0       0     True         0            failed  \n",
       "8       0       0     True         0            failed  \n",
       "9       0       0     True         0            failed  \n",
       "10      0       0     True         0            failed  \n",
       "11      0       0     True         0            failed  \n",
       "12      0       0     True         0            failed  \n",
       "13      0       0     True         0            failed  \n",
       "14      0       0     True         0            failed  \n",
       "15      0       0     True         0            failed  \n",
       "16      0       0     True         0            failed  \n",
       "17      0       0     True         0            failed  \n",
       "18      0       0     True         0            failed  \n",
       "19      0       0     True         0            failed  \n",
       "20      0       0     True         0            failed  \n",
       "21      0       0     True         0            failed  \n",
       "22      0       0     True         0            failed  \n",
       "23      0       0     True         0            failed  \n",
       "24      0       0     True         0            failed  \n",
       "25      0       0     True         0            failed  \n",
       "26      0       0     True         0            failed  \n",
       "27      0       0     True         0            failed  \n",
       "28      0       0     True         0            failed  \n",
       "29      0       0     True         0            failed  \n",
       "30      0       0     True         0            failed  \n",
       "31      0       0     True         0            failed  \n",
       "32      0       0     True         0            failed  \n",
       "33      0       0     True         0            failed  \n",
       "34      0       0     True         0            failed  \n",
       "35      0       0     True         0            failed  \n",
       "36      0       0     True         0            failed  \n",
       "37      0       0     True         0            failed  \n",
       "38      0       0     True         0            failed  \n",
       "39      0       0     True         0            failed  \n",
       "40      0       0     True         0            failed  \n",
       "41      0       0     True         0            failed  \n",
       "42      0       0     True         0            failed  \n",
       "43      0       0     True         0            failed  \n",
       "44      0       0     True         0            failed  \n",
       "45      0       0     True         0            failed  \n",
       "46      0       0     True         0            failed  \n",
       "47      0       0     True         0            failed  \n",
       "48      0       0     True         0            failed  \n",
       "49      0       0     True         0            failed  "
      ]
     },
     "execution_count": 86,
     "metadata": {},
     "output_type": "execute_result"
    }
   ],
   "source": [
    "# Debug Steps and Solutions for Feature Extraction Issues\n",
    "\n",
    "## Step 1: Add Debug Print Statements to Identify Failures\n",
    "\n",
    "# First, let's add better debug prints to identify where the pipeline is failing:\n",
    "\n",
    "# ```python\n",
    "def process_image(image_path, debug=False, idx=None):\n",
    "    \"\"\"\n",
    "    Process an image through the pipeline with debug options\n",
    "    \n",
    "    Args:\n",
    "        image_path: Path to the image file\n",
    "        debug: Whether to print debug information\n",
    "        idx: Index for logging purposes\n",
    "        \n",
    "    Returns:\n",
    "        normalized: Normalized processed image\n",
    "        hsv: HSV version of the image\n",
    "        filled: Binary mask after processing\n",
    "    \"\"\"\n",
    "    if debug:\n",
    "        print(f\"\\nProcessing image {idx}: {image_path}\")\n",
    "    \n",
    "    # STEP 1: Read image using PIL\n",
    "    try:\n",
    "        # For color processing\n",
    "        color_image = np.array(Image.open(image_path))\n",
    "        # For grayscale preprocessing\n",
    "        gray_image = np.array(Image.open(image_path).convert('L'))\n",
    "        \n",
    "        if debug:\n",
    "            print(f\"  Image loaded: color shape={color_image.shape}, gray shape={gray_image.shape}\")\n",
    "    except Exception as e:\n",
    "        print(f\"Error reading image {image_path}: {e}\")\n",
    "        return None, None, None\n",
    "    \n",
    "    # STEP 2: Preprocessing on grayscale image\n",
    "    try:\n",
    "        # Apply filter to the grayscale image\n",
    "        denoised_gray = median_filter(gray_image)  # or gaussian_filter or adaptive_median_filter\n",
    "        if debug:\n",
    "            print(f\"  Preprocessing: denoised shape={denoised_gray.shape}\")\n",
    "    except Exception as e:\n",
    "        print(f\"Error in preprocessing: {e}\")\n",
    "        return None, None, None\n",
    "    \n",
    "    # STEP 3: Convert color image to HSV for color segmentation\n",
    "    try:\n",
    "        hsv = rgb_to_hsv(color_image)\n",
    "        if debug:\n",
    "            print(f\"  HSV conversion: hsv shape={hsv.shape}\")\n",
    "    except Exception as e:\n",
    "        print(f\"Error in HSV conversion: {e}\")\n",
    "        return None, None, None\n",
    "    \n",
    "    # STEP 4: Segment red or blue signs\n",
    "    try:\n",
    "        mask = segment_red_blue(hsv)\n",
    "        if debug:\n",
    "            print(f\"  Segmentation: mask shape={mask.shape}, sum={np.sum(mask)}\")\n",
    "        \n",
    "        if np.sum(mask) < 50:\n",
    "            print(f\"Warning: very few foreground pixels in HSV mask: {np.sum(mask)} pixels\")\n",
    "            # Don't return None yet, try to continue processing\n",
    "    except Exception as e:\n",
    "        print(f\"Error in segmentation: {e}\")\n",
    "        return None, None, None\n",
    "    \n",
    "    # STEP 5: Post-processing on the mask\n",
    "    try:\n",
    "        binary = binary_threshold(mask, threshold=127)\n",
    "        opened = opening(binary, kernel_size=3)\n",
    "        cleaned = connected_component_filtering(opened, area_threshold=100)  # Reduced threshold\n",
    "        filled = fill_holes(cleaned)\n",
    "        \n",
    "        if debug:\n",
    "            print(f\"  Post-processing: binary sum={np.sum(binary)}, opened sum={np.sum(opened)}, \"\n",
    "                  f\"cleaned sum={np.sum(cleaned)}, filled sum={np.sum(filled)}\")\n",
    "        \n",
    "        if np.sum(filled) < 10:  # Very minimal check\n",
    "            print(f\"Warning: very few pixels in final mask: {np.sum(filled)} pixels\")\n",
    "            # Return early if mask is essentially empty\n",
    "            if np.sum(filled) == 0:\n",
    "                return None, hsv, filled\n",
    "    except Exception as e:\n",
    "        print(f\"Error in post-processing: {e}\")\n",
    "        return None, None, None\n",
    "    \n",
    "    # STEP 6: Edge Detection (Canny) on the filled binary mask\n",
    "    try:\n",
    "        magnitude, direction = sobel_gradients(filled)\n",
    "        nms = non_max_suppression(magnitude, direction)\n",
    "        dt_result, weak, strong = double_thresholding(nms)\n",
    "        edges = edge_tracking_by_hysteresis(dt_result, weak, strong)\n",
    "        \n",
    "        if debug:\n",
    "            print(f\"  Edge detection: edges sum={np.sum(edges)}\")\n",
    "    except Exception as e:\n",
    "        print(f\"Error in edge detection: {e}\")\n",
    "        return None, hsv, filled  # Return what we have so far\n",
    "    \n",
    "    # STEP 7: Geometric Normalization\n",
    "    try:\n",
    "        angle = 0  # Optional: compute based on contours or principal axis\n",
    "        rotated = rotate_image(edges, angle_deg=angle)\n",
    "        normalized = scale_image(rotated, size=(200, 200))\n",
    "        \n",
    "        if debug:\n",
    "            print(f\"  Normalization: normalized shape={normalized.shape}\")\n",
    "    except Exception as e:\n",
    "        print(f\"Error in normalization: {e}\")\n",
    "        return None, hsv, filled\n",
    "    \n",
    "    # Return processed image for feature extraction\n",
    "    return normalized, hsv, filled\n",
    "# ```\n",
    "\n",
    "## Step 2: Fix HSV Segmentation Function\n",
    "\n",
    "# Your segmentation function might be too strict. Let's modify it:\n",
    "\n",
    "# ```python\n",
    "def segment_red_blue(hsv_img):\n",
    "    \"\"\"\n",
    "    Segment red and blue signs based on HSV values\n",
    "    \n",
    "    Args:\n",
    "        hsv_img: HSV image\n",
    "        \n",
    "    Returns:\n",
    "        mask: Binary mask where signs are detected\n",
    "    \"\"\"\n",
    "    # Check if H is first channel (some implementations swap order)\n",
    "    h_channel = hsv_img[:,:,0]\n",
    "    s_channel = hsv_img[:,:,1]\n",
    "    v_channel = hsv_img[:,:,2]\n",
    "    \n",
    "    # Verify the range of hue values (0-180 or 0-360)\n",
    "    h_max = np.max(h_channel)\n",
    "    h_scale = 180 if h_max <= 180 else 360\n",
    "    \n",
    "    # Scale factors for normalization\n",
    "    s_scale = 255 if np.max(s_channel) > 1 else 1\n",
    "    v_scale = 255 if np.max(v_channel) > 1 else 1\n",
    "    \n",
    "    # Adjust thresholds based on scale\n",
    "    if h_scale == 360:\n",
    "        red_low1, red_high1 = 0, 30\n",
    "        red_low2, red_high2 = 330, 360\n",
    "        blue_low, blue_high = 200, 260\n",
    "    else:  # 180 scale\n",
    "        red_low1, red_high1 = 0, 15\n",
    "        red_low2, red_high2 = 165, 180\n",
    "        blue_low, blue_high = 100, 130\n",
    "    \n",
    "    # Normalize saturation and value thresholds\n",
    "    s_thresh = 50 / s_scale  # More permissive than 100\n",
    "    v_thresh = 50 / v_scale  # More permissive than 80\n",
    "    \n",
    "    # Create masks with more permissive thresholds\n",
    "    red_mask1 = (h_channel >= red_low1) & (h_channel <= red_high1) & (s_channel >= s_thresh) & (v_channel >= v_thresh)\n",
    "    red_mask2 = (h_channel >= red_low2) & (h_channel <= red_high2) & (s_channel >= s_thresh) & (v_channel >= v_thresh)\n",
    "    blue_mask = (h_channel >= blue_low) & (h_channel <= blue_high) & (s_channel >= s_thresh) & (v_channel >= v_thresh)\n",
    "    \n",
    "    # Combine masks\n",
    "    combined_mask = red_mask1 | red_mask2 | blue_mask\n",
    "    \n",
    "    return combined_mask.astype(np.uint8) * 255\n",
    "# ```\n",
    "\n",
    "## Step 3: Fix Connected Component Filtering\n",
    "\n",
    "# Your connected component filtering might be too aggressive. Let's modify it:\n",
    "\n",
    "# ```python\n",
    "def label_connected_components(binary_image):\n",
    "    h, w = binary_image.shape\n",
    "    labels = np.zeros((h, w), dtype=np.int32)\n",
    "    label = 1\n",
    "\n",
    "    for i in range(h):\n",
    "        for j in range(w):\n",
    "            if binary_image[i, j] == 255 and labels[i, j] == 0:\n",
    "                # Start new component\n",
    "                stack = [(i, j)]\n",
    "                while stack:\n",
    "                    x, y = stack.pop()\n",
    "                    if 0 <= x < h and 0 <= y < w:\n",
    "                        if binary_image[x, y] == 255 and labels[x, y] == 0:\n",
    "                            labels[x, y] = label\n",
    "                            stack.extend([(x+1, y), (x-1, y), (x, y+1), (x, y-1)])\n",
    "                label += 1\n",
    "\n",
    "    return labels, label - 1  # label - 1 = number of components\n",
    "\n",
    "\n",
    "def connected_component_filtering(binary_img, area_threshold=100):\n",
    "    \"\"\"\n",
    "    Filter small connected components\n",
    "    \n",
    "    Args:\n",
    "        binary_img: Binary image\n",
    "        area_threshold: Minimum area to keep\n",
    "        \n",
    "    Returns:\n",
    "        filtered: Filtered binary image\n",
    "    \"\"\"\n",
    "    # Create output image\n",
    "    filtered = np.zeros_like(binary_img)\n",
    "    \n",
    "    # Find connected components\n",
    "    labeled, num_features = label_connected_components(binary_img)\n",
    "    \n",
    "    if num_features == 0:\n",
    "        return binary_img  # Return original if no components found\n",
    "    \n",
    "    # Count pixels in each component\n",
    "    component_sizes = np.zeros(num_features + 1, dtype=int)\n",
    "    for i in range(binary_img.shape[0]):\n",
    "        for j in range(binary_img.shape[1]):\n",
    "            if labeled[i, j] > 0:\n",
    "                component_sizes[labeled[i, j]] += 1\n",
    "    \n",
    "    # Keep only components above threshold\n",
    "    for i in range(binary_img.shape[0]):\n",
    "        for j in range(binary_img.shape[1]):\n",
    "            if labeled[i, j] > 0 and component_sizes[labeled[i, j]] >= area_threshold:\n",
    "                filtered[i, j] = 255\n",
    "    \n",
    "    if np.sum(filtered) == 0:\n",
    "        # If no components remain, keep the largest component\n",
    "        largest_label = np.argmax(component_sizes)\n",
    "        if largest_label > 0:  # Make sure it's not background\n",
    "            for i in range(binary_img.shape[0]):\n",
    "                for j in range(binary_img.shape[1]):\n",
    "                    if labeled[i, j] == largest_label:\n",
    "                        filtered[i, j] = 255\n",
    "    \n",
    "    return filtered\n",
    "# ```\n",
    "\n",
    "## Step 4: Fix Feature Extraction Pipeline\n",
    "\n",
    "# Let's ensure our extract_features function can handle various cases:\n",
    "\n",
    "# ```python\n",
    "def extract_features(normalized_img, binary_mask, hsv_img):\n",
    "    \"\"\"\n",
    "    Extract features from processed images\n",
    "    \n",
    "    Args:\n",
    "        normalized_img: Normalized image\n",
    "        binary_mask: Binary mask of the sign\n",
    "        hsv_img: HSV version of the image\n",
    "        \n",
    "    Returns:\n",
    "        dict: Dictionary of features\n",
    "    \"\"\"\n",
    "    # Handle None inputs\n",
    "    if normalized_img is None or binary_mask is None or hsv_img is None:\n",
    "        return {\n",
    "            \"corner_count\": 0,\n",
    "            \"circularity\": 0,\n",
    "            \"aspect_ratio\": 0,\n",
    "            \"extent\": 0,\n",
    "            \"avg_hue\": 0\n",
    "        }\n",
    "    \n",
    "    # Ensure binary_mask is binary\n",
    "    binary = (binary_mask > 0).astype(np.uint8)\n",
    "    \n",
    "    # If no foreground pixels, return zeros\n",
    "    if np.sum(binary) == 0:\n",
    "        return {\n",
    "            \"corner_count\": 0,\n",
    "            \"circularity\": 0,\n",
    "            \"aspect_ratio\": 0,\n",
    "            \"extent\": 0,\n",
    "            \"avg_hue\": 0\n",
    "        }\n",
    "    \n",
    "    # Convert normalized_img to grayscale if needed\n",
    "    if len(normalized_img.shape) == 3:\n",
    "        gray = np.mean(normalized_img, axis=2).astype(np.float32)\n",
    "    else:\n",
    "        gray = normalized_img.astype(np.float32)\n",
    "    \n",
    "    # 1. Corner Count\n",
    "    corners = harris_corner_detector(gray)\n",
    "    corner_count = np.sum(corners > 0)\n",
    "    \n",
    "    # 2. Circularity\n",
    "    area = np.sum(binary)\n",
    "    perimeter = calculate_perimeter(binary)\n",
    "    circularity = (4 * np.pi * area) / (perimeter**2) if perimeter > 0 else 0\n",
    "    \n",
    "    # 3. Aspect Ratio\n",
    "    rows, cols = np.where(binary > 0)\n",
    "    if len(rows) > 0 and len(cols) > 0:\n",
    "        min_row, max_row = np.min(rows), np.max(rows)\n",
    "        min_col, max_col = np.min(cols), np.max(cols)\n",
    "        height = max_row - min_row + 1\n",
    "        width = max_col - min_col + 1\n",
    "        aspect_ratio = width / height if height > 0 else 0\n",
    "        \n",
    "        # 4. Extent\n",
    "        bbox_area = width * height\n",
    "        extent = area / bbox_area if bbox_area > 0 else 0\n",
    "    else:\n",
    "        aspect_ratio = 0\n",
    "        extent = 0\n",
    "    \n",
    "    # 5. Average Hue\n",
    "    if len(hsv_img.shape) == 3:\n",
    "        hue_channel = hsv_img[:,:,0]\n",
    "    else:\n",
    "        hue_channel = hsv_img\n",
    "    \n",
    "    # Calculate average hue where mask is active\n",
    "    hue_values = hue_channel[binary > 0]\n",
    "    avg_hue = np.mean(hue_values) if len(hue_values) > 0 else 0\n",
    "    \n",
    "    return {\n",
    "        \"corner_count\": int(corner_count),\n",
    "        \"circularity\": float(circularity),\n",
    "        \"aspect_ratio\": float(aspect_ratio),\n",
    "        \"extent\": float(extent),\n",
    "        \"avg_hue\": float(avg_hue)\n",
    "    }\n",
    "# ```\n",
    "\n",
    "## Step 5: Update the Extract Features Batch Function\n",
    "# \n",
    "# Let's improve the batch processing function:\n",
    "\n",
    "# ```python\n",
    "def extract_features_batch(sampled_df):\n",
    "    \"\"\"\n",
    "    Extract features from all processed images\n",
    "    \n",
    "    Args:\n",
    "        sampled_df: DataFrame with image paths\n",
    "        \n",
    "    Returns:\n",
    "        DataFrame with features added\n",
    "    \"\"\"\n",
    "    # Create columns for features\n",
    "    feature_columns = ['corner_count', 'circularity', 'aspect_ratio', 'extent', 'avg_hue']\n",
    "    for col in feature_columns:\n",
    "        sampled_df[col] = None\n",
    "    \n",
    "    # Add debug columns\n",
    "    debug_columns = ['has_mask', 'mask_size', 'processing_status']\n",
    "    for col in debug_columns:\n",
    "        sampled_df[col] = None\n",
    "    \n",
    "    print(\"Extracting features...\")\n",
    "    success_count = 0\n",
    "    for idx, row in tqdm(sampled_df.iterrows(), total=len(sampled_df)):\n",
    "        img_path = os.path.join(\"dataset\", row['Path'])\n",
    "        \n",
    "        try:\n",
    "            # Process the image\n",
    "            normalized, hsv_img, binary_mask = process_image(img_path, debug=(idx % 100 == 0), idx=idx)\n",
    "            \n",
    "            # Save debug info\n",
    "            sampled_df.at[idx, 'has_mask'] = binary_mask is not None\n",
    "            sampled_df.at[idx, 'mask_size'] = np.sum(binary_mask) if binary_mask is not None else 0\n",
    "            \n",
    "            # Extract features\n",
    "            features = extract_features(normalized, binary_mask, hsv_img)\n",
    "            \n",
    "            # Store features in DataFrame\n",
    "            for feature, value in features.items():\n",
    "                sampled_df.at[idx, feature] = value\n",
    "            \n",
    "            # Set processing status\n",
    "            if any(features.values()):  # If any feature is non-zero\n",
    "                sampled_df.at[idx, 'processing_status'] = 'success'\n",
    "                success_count += 1\n",
    "            else:\n",
    "                sampled_df.at[idx, 'processing_status'] = 'failed'\n",
    "                \n",
    "        except Exception as e:\n",
    "            print(f\"Error processing {img_path}: {str(e)}\")\n",
    "            sampled_df.at[idx, 'processing_status'] = 'error'\n",
    "    \n",
    "    print(f\"Successfully extracted features from {success_count} out of {len(sampled_df)} images.\")\n",
    "    \n",
    "    # Print some statistics\n",
    "    print(\"\\nFeature Statistics:\")\n",
    "    for col in feature_columns:\n",
    "        non_zero = (sampled_df[col] > 0).sum()\n",
    "        print(f\"  {col}: {non_zero} non-zero values ({non_zero/len(sampled_df)*100:.1f}%)\")\n",
    "    \n",
    "    return sampled_df\n",
    "# ```\n",
    "\n",
    "## Step 6: Add Visual Debugging for Failed Images\n",
    "\n",
    "# Let's create a function to visually inspect failed images:\n",
    "\n",
    "# ```python\n",
    "def debug_failed_images(sampled_df, output_dir=\"debug_images\", num_samples=10):\n",
    "    \"\"\"\n",
    "    Save debug images for failed feature extraction\n",
    "    \n",
    "    Args:\n",
    "        sampled_df: DataFrame with processing results\n",
    "        output_dir: Directory to save debug images\n",
    "        num_samples: Number of failed images to debug\n",
    "    \"\"\"\n",
    "    os.makedirs(output_dir, exist_ok=True)\n",
    "    \n",
    "    # Get failed images\n",
    "    failed_df = sampled_df[sampled_df['processing_status'] == 'failed']\n",
    "    if len(failed_df) == 0:\n",
    "        print(\"No failed images to debug.\")\n",
    "        return\n",
    "    \n",
    "    # Sample some failed images\n",
    "    sample_size = min(num_samples, len(failed_df))\n",
    "    sample_indices = np.random.choice(failed_df.index, size=sample_size, replace=False)\n",
    "    \n",
    "    print(f\"Debugging {sample_size} failed images...\")\n",
    "    for idx in sample_indices:\n",
    "        row = sampled_df.loc[idx]\n",
    "        img_path = os.path.join(\"dataset\", row['Path'])\n",
    "        \n",
    "        # Process with debug flag\n",
    "        normalized, hsv_img, binary_mask = process_image(img_path, debug=True, idx=idx)\n",
    "        \n",
    "        # Save original image\n",
    "        original = np.array(Image.open(img_path))\n",
    "        Image.fromarray(original).save(os.path.join(output_dir, f\"{idx}_1_original.png\"))\n",
    "        \n",
    "        # Save HSV image (H channel)\n",
    "        if hsv_img is not None:\n",
    "            h_channel = hsv_img[:,:,0]\n",
    "            # Normalize for visualization\n",
    "            h_vis = (h_channel * 255 / np.max(h_channel)).astype(np.uint8) if np.max(h_channel) > 0 else np.zeros_like(h_channel, dtype=np.uint8)\n",
    "            Image.fromarray(h_vis).save(os.path.join(output_dir, f\"{idx}_2_hue.png\"))\n",
    "        \n",
    "        # Save binary mask\n",
    "        if binary_mask is not None:\n",
    "            Image.fromarray(binary_mask).save(os.path.join(output_dir, f\"{idx}_3_mask.png\"))\n",
    "        \n",
    "        # Save normalized image\n",
    "        if normalized is not None:\n",
    "            if len(normalized.shape) == 2:\n",
    "                Image.fromarray(normalized).save(os.path.join(output_dir, f\"{idx}_4_normalized.png\"))\n",
    "            else:\n",
    "                Image.fromarray(normalized.astype(np.uint8)).save(os.path.join(output_dir, f\"{idx}_4_normalized.png\"))\n",
    "        \n",
    "        print(f\"Saved debug images for image {idx}\")\n",
    "# ```\n",
    "\n",
    "## Step 7: Main Processing Function\n",
    "\n",
    "# Let's update the main processing function:\n",
    "\n",
    "# ```python\n",
    "def main():\n",
    "    # Load dataset\n",
    "    # ... (your code to load dataset)\n",
    "    \n",
    "    # Process all images\n",
    "    print(\"Processing images and extracting features...\")\n",
    "    temp = extract_features_batch(sampled_df)\n",
    "    \n",
    "    # Debug failed images\n",
    "    debug_failed_images(temp)\n",
    "    \n",
    "    # Save results\n",
    "    temp.to_csv(\"processed_features.csv\", index=False)\n",
    "    print(\"Results saved to processed_features.csv\")\n",
    "    \n",
    "    # Print summary\n",
    "    success_rate = temp[temp['processing_status'] == 'success'].shape[0] / len(temp)\n",
    "    print(f\"Overall success rate: {success_rate*100:.1f}%\")\n",
    "    \n",
    "    return temp\n",
    "\n",
    "main()\n",
    "# ```\n",
    "\n",
    "## Additional Tips for Successful Feature Extraction\n",
    "\n",
    "# 1. **Check your filters implementation:**\n",
    "#    - Make sure your median_filter, gaussian_filter, and other filters are implemented correctly\n",
    "#    - Verify they return images of the same size as the input\n",
    "\n",
    "# 2. **HSV color space conversion:**\n",
    "#    - Double-check your rgb_to_hsv function\n",
    "#    - Make sure hue is in the expected range (0-180 or 0-360)\n",
    "#    - Ensure saturation and value are properly normalized\n",
    "\n",
    "# 3. **Test intermediate results:**\n",
    "#    - Add code to save intermediate images from each step\n",
    "#    - Visually inspect these to find where the pipeline is failing\n",
    "\n",
    "# 4. **Reduce thresholds:**\n",
    "#    - Be more permissive with thresholds in the segment_red_blue function\n",
    "#    - Lower the area_threshold in connected_component_filtering\n",
    "\n",
    "# 5. **Make the pipeline more robust:**\n",
    "#    - Add more error handling\n",
    "#    - Use fallback methods when primary methods fail\n",
    "#    - Add more checks for edge cases (empty images, etc.)"
   ]
  },
  {
   "cell_type": "code",
   "execution_count": 85,
   "id": "e6ccbc6b",
   "metadata": {},
   "outputs": [
    {
     "data": {
      "text/plain": [
       "(50, 8)"
      ]
     },
     "execution_count": 85,
     "metadata": {},
     "output_type": "execute_result"
    }
   ],
   "source": [
    "sampled_df = sampled_df.iloc[:50, :]\n",
    "sampled_df.shape"
   ]
  },
  {
   "cell_type": "code",
   "execution_count": null,
   "id": "69fc5a48",
   "metadata": {},
   "outputs": [],
   "source": []
  }
 ],
 "metadata": {
  "kernelspec": {
   "display_name": "Python 3",
   "language": "python",
   "name": "python3"
  },
  "language_info": {
   "codemirror_mode": {
    "name": "ipython",
    "version": 3
   },
   "file_extension": ".py",
   "mimetype": "text/x-python",
   "name": "python",
   "nbconvert_exporter": "python",
   "pygments_lexer": "ipython3",
   "version": "3.12.7"
  }
 },
 "nbformat": 4,
 "nbformat_minor": 5
}
